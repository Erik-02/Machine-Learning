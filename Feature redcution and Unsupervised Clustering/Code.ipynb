{
 "cells": [
  {
   "cell_type": "markdown",
   "id": "d2f5bfd6",
   "metadata": {},
   "source": [
    "# Feature reduction and data grouping."
   ]
  },
  {
   "cell_type": "markdown",
   "id": "8b018e42",
   "metadata": {},
   "source": [
    "This notebook is based on the '2017 Mental health in Tech survey', provided by OSMI.\n",
    "This dataset can be accessed here: https://www.kaggle.com/datasets/osmihelp/osmi-mental-health-in-tech-survey-2017"
   ]
  },
  {
   "cell_type": "markdown",
   "id": "33ba763e",
   "metadata": {},
   "source": [
    "The goal of this notebook is to apply Feature reduction on our dataset, and then find Groups within our dataset using Clustering algorithms."
   ]
  },
  {
   "cell_type": "markdown",
   "id": "d431ac27",
   "metadata": {},
   "source": [
    "The flow of this notebook is as follows:\n",
    "- We start with some Data processing.\n",
    "- Then we will do some Data cleaning.\n",
    "- Followed by Feature engineering.\n",
    "- We will move on to Feature reduction.\n",
    "- As well as Clustering our dataset using unsupervised learning techniques.\n",
    "- We finish this notebook by visually exploring these groups/clusters that we have formed in the previous step."
   ]
  },
  {
   "cell_type": "markdown",
   "id": "47978359",
   "metadata": {},
   "source": [
    "First, let's start by importing the necessary libraries that we need"
   ]
  },
  {
   "cell_type": "code",
   "execution_count": 201,
   "id": "a5d49676",
   "metadata": {},
   "outputs": [],
   "source": [
    "import pandas as pd\n",
    "import numpy as np\n",
    "\n",
    "import random\n",
    "\n",
    "import matplotlib.pyplot as plt\n",
    "%matplotlib inline\n",
    "import seaborn as sns\n",
    "\n",
    "import prince\n",
    "from sklearn.feature_selection import SelectKBest, chi2\n",
    "from sklearn.preprocessing import LabelEncoder, OrdinalEncoder\n",
    "\n",
    "from kmodes.kmodes import KModes"
   ]
  },
  {
   "cell_type": "markdown",
   "id": "7931ad47",
   "metadata": {},
   "source": [
    "Now we can read in the data."
   ]
  },
  {
   "cell_type": "code",
   "execution_count": 202,
   "id": "fd12165f",
   "metadata": {},
   "outputs": [],
   "source": [
    "data = pd.read_csv('2017.csv')"
   ]
  },
  {
   "cell_type": "markdown",
   "id": "80a05c7a",
   "metadata": {},
   "source": [
    "To be able to view all of the data, we set the following options:"
   ]
  },
  {
   "cell_type": "code",
   "execution_count": 203,
   "id": "137d1324",
   "metadata": {},
   "outputs": [],
   "source": [
    "pd.set_option('display.max_columns',None)\n",
    "pd.set_option('max_rows',None)"
   ]
  },
  {
   "cell_type": "markdown",
   "id": "873109f1",
   "metadata": {},
   "source": [
    "Now we can start to take a look at our data."
   ]
  },
  {
   "cell_type": "code",
   "execution_count": 204,
   "id": "37685da2",
   "metadata": {},
   "outputs": [
    {
     "data": {
      "text/plain": [
       "(756, 123)"
      ]
     },
     "execution_count": 204,
     "metadata": {},
     "output_type": "execute_result"
    }
   ],
   "source": [
    "data.shape"
   ]
  },
  {
   "cell_type": "code",
   "execution_count": 205,
   "id": "ba3b2768",
   "metadata": {},
   "outputs": [
    {
     "data": {
      "text/plain": [
       "0.5014733083838775"
      ]
     },
     "execution_count": 205,
     "metadata": {},
     "output_type": "execute_result"
    }
   ],
   "source": [
    "#Percentage of missing values in dataframe\n",
    "data.isna().sum().sum() / (756 * 123)"
   ]
  },
  {
   "cell_type": "code",
   "execution_count": 206,
   "id": "9aed6bf8",
   "metadata": {
    "scrolled": false
   },
   "outputs": [
    {
     "data": {
      "text/html": [
       "<div>\n",
       "<style scoped>\n",
       "    .dataframe tbody tr th:only-of-type {\n",
       "        vertical-align: middle;\n",
       "    }\n",
       "\n",
       "    .dataframe tbody tr th {\n",
       "        vertical-align: top;\n",
       "    }\n",
       "\n",
       "    .dataframe thead th {\n",
       "        text-align: right;\n",
       "    }\n",
       "</style>\n",
       "<table border=\"1\" class=\"dataframe\">\n",
       "  <thead>\n",
       "    <tr style=\"text-align: right;\">\n",
       "      <th></th>\n",
       "      <th>#</th>\n",
       "      <th>&lt;strong&gt;Are you self-employed?&lt;/strong&gt;</th>\n",
       "      <th>How many employees does your company or organization have?</th>\n",
       "      <th>Is your employer primarily a tech company/organization?</th>\n",
       "      <th>Is your primary role within your company related to tech/IT?</th>\n",
       "      <th>Does your employer provide mental health benefits as part of healthcare coverage?</th>\n",
       "      <th>Do you know the options for mental health care available under your employer-provided health coverage?</th>\n",
       "      <th>Has your employer ever formally discussed mental health (for example, as part of a wellness campaign or other official communication)?</th>\n",
       "      <th>Does your employer offer resources to learn more about mental health disorders and options for seeking help?</th>\n",
       "      <th>Is your anonymity protected if you choose to take advantage of mental health or substance abuse treatment resources provided by your employer?</th>\n",
       "      <th>If a mental health issue prompted you to request a medical leave from work, how easy or difficult would it be to ask for that leave?</th>\n",
       "      <th>Would you feel more comfortable talking to your coworkers about your physical health or your mental health?</th>\n",
       "      <th>Would you feel comfortable discussing a mental health issue with your direct supervisor(s)?</th>\n",
       "      <th>Have you ever discussed your mental health with your employer?</th>\n",
       "      <th>Describe the conversation you had with your employer about your mental health, including their reactions and what actions were taken to address your mental health issue/questions.</th>\n",
       "      <th>Would you feel comfortable discussing a mental health issue with your coworkers?</th>\n",
       "      <th>Have you ever discussed your mental health with coworkers?</th>\n",
       "      <th>Describe the conversation with coworkers you had about your mental health including their reactions.</th>\n",
       "      <th>Have you ever had a coworker discuss their or another coworker's mental health with you?</th>\n",
       "      <th>Describe the conversation your coworker had with you about their mental health (please do not use names).</th>\n",
       "      <th>Overall, how much importance does your employer place on physical health?</th>\n",
       "      <th>Overall, how much importance does your employer place on mental health?</th>\n",
       "      <th>Do you have medical coverage (private insurance or state-provided) that includes treatment of mental health disorders?</th>\n",
       "      <th>Do you know local or online resources to seek help for a mental health issue?</th>\n",
       "      <th>&lt;strong&gt;If you have been diagnosed or treated for a mental health disorder, do you ever reveal this to clients or business contacts?&lt;/strong&gt;</th>\n",
       "      <th>If you have revealed a mental health disorder to a client or business contact, how has this affected you or the relationship?</th>\n",
       "      <th>&lt;strong&gt;If you have been diagnosed or treated for a mental health disorder, do you ever reveal this to coworkers or employees?&lt;/strong&gt;</th>\n",
       "      <th>If you have revealed a mental health disorder to a coworker or employee, how has this impacted you or the relationship?</th>\n",
       "      <th>Do you believe your productivity is ever affected by a mental health issue?</th>\n",
       "      <th>If yes, what percentage of your work time (time performing primary or secondary job functions) is affected by a mental health issue?</th>\n",
       "      <th>&lt;strong&gt;Do you have previous employers?&lt;/strong&gt;</th>\n",
       "      <th>Was your employer primarily a tech company/organization?</th>\n",
       "      <th>&lt;strong&gt;Have your previous employers provided mental health benefits?&lt;/strong&gt;</th>\n",
       "      <th>&lt;strong&gt;Were you aware of the options for mental health care provided by your previous employers?&lt;/strong&gt;</th>\n",
       "      <th>Did your previous employers ever formally discuss mental health (as part of a wellness campaign or other official communication)?</th>\n",
       "      <th>Did your previous employers provide resources to learn more about mental health disorders and how to seek help?</th>\n",
       "      <th>Was your anonymity protected if you chose to take advantage of mental health or substance abuse treatment resources with previous employers?</th>\n",
       "      <th>Would you have felt more comfortable talking to your previous employer about your physical health or your mental health?</th>\n",
       "      <th>Would you have been willing to discuss your mental health with your direct supervisor(s)?</th>\n",
       "      <th>Did you ever discuss your mental health with your previous employer?</th>\n",
       "      <th>Describe the conversation you had with your previous employer about your mental health, including their reactions and actions taken to address your mental health issue/questions.</th>\n",
       "      <th>&lt;strong&gt;Would you have been willing to discuss your mental health with your coworkers at previous employers?&lt;/strong&gt;</th>\n",
       "      <th>Did you ever discuss your mental health with a previous coworker(s)?</th>\n",
       "      <th>Describe the conversation you had with your previous coworkers about your mental health including their reactions.</th>\n",
       "      <th>Did you ever have a previous coworker discuss their or another coworker's mental health with you?</th>\n",
       "      <th>Describe the conversation your coworker had with you about their mental health (please do not use names)..1</th>\n",
       "      <th>Overall, how much importance did your previous employer place on physical health?</th>\n",
       "      <th>Overall, how much importance did your previous employer place on mental health?</th>\n",
       "      <th>Do you currently have a mental health disorder?</th>\n",
       "      <th>Have you ever been diagnosed with a mental health disorder?</th>\n",
       "      <th>Anxiety Disorder (Generalized, Social, Phobia, etc)</th>\n",
       "      <th>Mood Disorder (Depression, Bipolar Disorder, etc)</th>\n",
       "      <th>Psychotic Disorder (Schizophrenia, Schizoaffective, etc)</th>\n",
       "      <th>Eating Disorder (Anorexia, Bulimia, etc)</th>\n",
       "      <th>Attention Deficit Hyperactivity Disorder</th>\n",
       "      <th>Personality Disorder (Borderline, Antisocial, Paranoid, etc)</th>\n",
       "      <th>Obsessive-Compulsive Disorder</th>\n",
       "      <th>Post-Traumatic Stress Disorder</th>\n",
       "      <th>Stress Response Syndromes</th>\n",
       "      <th>Dissociative Disorder</th>\n",
       "      <th>Substance Use Disorder</th>\n",
       "      <th>Addictive Disorder</th>\n",
       "      <th>Other</th>\n",
       "      <th>Anxiety Disorder (Generalized, Social, Phobia, etc).1</th>\n",
       "      <th>Mood Disorder (Depression, Bipolar Disorder, etc).1</th>\n",
       "      <th>Psychotic Disorder (Schizophrenia, Schizoaffective, etc).1</th>\n",
       "      <th>Eating Disorder (Anorexia, Bulimia, etc).1</th>\n",
       "      <th>Attention Deficit Hyperactivity Disorder.1</th>\n",
       "      <th>Personality Disorder (Borderline, Antisocial, Paranoid, etc).1</th>\n",
       "      <th>Obsessive-Compulsive Disorder.1</th>\n",
       "      <th>Post-traumatic Stress Disorder</th>\n",
       "      <th>Stress Response Syndromes.1</th>\n",
       "      <th>Dissociative Disorder.1</th>\n",
       "      <th>Substance Use Disorder.1</th>\n",
       "      <th>Addictive Disorder.1</th>\n",
       "      <th>Other.1</th>\n",
       "      <th>Anxiety Disorder (Generalized, Social, Phobia, etc).2</th>\n",
       "      <th>Mood Disorder (Depression, Bipolar Disorder, etc).2</th>\n",
       "      <th>Psychotic Disorder (Schizophrenia, Schizoaffective, etc).2</th>\n",
       "      <th>Eating Disorder (Anorexia, Bulimia, etc).2</th>\n",
       "      <th>Attention Deficit Hyperactivity Disorder.2</th>\n",
       "      <th>Personality Disorder (Borderline, Antisocial, Paranoid, etc).2</th>\n",
       "      <th>Obsessive-Compulsive Disorder.2</th>\n",
       "      <th>Post-traumatic Stress Disorder.1</th>\n",
       "      <th>Stress Response Syndromes.2</th>\n",
       "      <th>Dissociative Disorder.2</th>\n",
       "      <th>Substance Use Disorder.2</th>\n",
       "      <th>Addictive Disorder.2</th>\n",
       "      <th>Other.2</th>\n",
       "      <th>Have you had a mental health disorder in the past?</th>\n",
       "      <th>Have you ever sought treatment for a mental health disorder from a mental health professional?</th>\n",
       "      <th>Do you have a family history of mental illness?</th>\n",
       "      <th>If you have a mental health disorder, how often do you feel that it interferes with your work &lt;strong&gt;when being treated effectively?&lt;/strong&gt;</th>\n",
       "      <th>If you have a mental health disorder, how often do you feel that it interferes with your work &lt;strong&gt;when &lt;em&gt;NOT&lt;/em&gt; being treated effectively (i.e., when you are experiencing symptoms)?&lt;/strong&gt;</th>\n",
       "      <th>Have your observations of how another individual who discussed a mental health issue made you less likely to reveal a mental health issue yourself in your current workplace?</th>\n",
       "      <th>How willing would you be to share with friends and family that you have a mental illness?</th>\n",
       "      <th>Would you be willing to bring up a physical health issue with a potential employer in an interview?</th>\n",
       "      <th>Why or why not?</th>\n",
       "      <th>Would you bring up your mental health with a potential employer in an interview?</th>\n",
       "      <th>Why or why not?.1</th>\n",
       "      <th>Are you openly identified at work as a person with a mental health issue?</th>\n",
       "      <th>Has being identified as a person with a mental health issue affected your career?</th>\n",
       "      <th>How has it affected your career?</th>\n",
       "      <th>If they knew you suffered from a mental health disorder, how do you think that team members/co-workers would react?</th>\n",
       "      <th>&lt;strong&gt;Have you observed or experienced an unsupportive or badly handled response to a mental health issue in your current or previous workplace?&lt;/strong&gt;</th>\n",
       "      <th>Describe the circumstances of the badly handled or unsupportive response.</th>\n",
       "      <th>&lt;strong&gt;Have you observed or experienced supportive or well handled response to a mental health issue in your current or previous workplace?&lt;/strong&gt;</th>\n",
       "      <th>Describe the circumstances of the supportive or well handled response.</th>\n",
       "      <th>Overall, how well do you think the tech industry supports employees with mental health issues?</th>\n",
       "      <th>Briefly describe what you think the industry as a whole and/or employers could do to improve mental health support for employees.</th>\n",
       "      <th>If there is anything else you would like to tell us that has not been covered by the survey questions, please use this space to do so.</th>\n",
       "      <th>Would you be willing to talk to one of us more extensively about your experiences with mental health issues in the tech industry? (Note that all interview responses would be used &lt;em&gt;anonymously&lt;/em&gt; and only with your permission.)</th>\n",
       "      <th>What is your age?</th>\n",
       "      <th>What is your gender?</th>\n",
       "      <th>What country do you &lt;strong&gt;live&lt;/strong&gt; in?</th>\n",
       "      <th>What US state or territory do you &lt;strong&gt;live&lt;/strong&gt; in?</th>\n",
       "      <th>What is your race?</th>\n",
       "      <th>Other.3</th>\n",
       "      <th>What country do you &lt;strong&gt;work&lt;/strong&gt; in?</th>\n",
       "      <th>What US state or territory do you &lt;strong&gt;work&lt;/strong&gt; in?</th>\n",
       "      <th>Start Date (UTC)</th>\n",
       "      <th>Submit Date (UTC)</th>\n",
       "      <th>Network ID</th>\n",
       "    </tr>\n",
       "  </thead>\n",
       "  <tbody>\n",
       "    <tr>\n",
       "      <th>0</th>\n",
       "      <td>e49fe87572831232dcfa51b376b22039</td>\n",
       "      <td>0</td>\n",
       "      <td>100-500</td>\n",
       "      <td>1.0</td>\n",
       "      <td>1.0</td>\n",
       "      <td>No</td>\n",
       "      <td>Yes</td>\n",
       "      <td>No</td>\n",
       "      <td>I don't know</td>\n",
       "      <td>I don't know</td>\n",
       "      <td>I don't know</td>\n",
       "      <td>Same level of comfort for each</td>\n",
       "      <td>Yes</td>\n",
       "      <td>0.0</td>\n",
       "      <td>NaN</td>\n",
       "      <td>Yes</td>\n",
       "      <td>1.0</td>\n",
       "      <td>Spoke about my anxiety they were very supportive</td>\n",
       "      <td>1.0</td>\n",
       "      <td>they spoke about their depression, i offered m...</td>\n",
       "      <td>6.0</td>\n",
       "      <td>0.0</td>\n",
       "      <td>NaN</td>\n",
       "      <td>NaN</td>\n",
       "      <td>NaN</td>\n",
       "      <td>NaN</td>\n",
       "      <td>NaN</td>\n",
       "      <td>NaN</td>\n",
       "      <td>NaN</td>\n",
       "      <td>NaN</td>\n",
       "      <td>1</td>\n",
       "      <td>0.0</td>\n",
       "      <td>I don't know</td>\n",
       "      <td>N/A (was not aware)</td>\n",
       "      <td>Some did</td>\n",
       "      <td>Some did</td>\n",
       "      <td>Yes, always</td>\n",
       "      <td>Physical health</td>\n",
       "      <td>Yes, all of my previous supervisors</td>\n",
       "      <td>0.0</td>\n",
       "      <td>NaN</td>\n",
       "      <td>No, at none of my previous employers</td>\n",
       "      <td>0.0</td>\n",
       "      <td>NaN</td>\n",
       "      <td>0.0</td>\n",
       "      <td>NaN</td>\n",
       "      <td>3.0</td>\n",
       "      <td>3.0</td>\n",
       "      <td>Possibly</td>\n",
       "      <td>NaN</td>\n",
       "      <td>NaN</td>\n",
       "      <td>NaN</td>\n",
       "      <td>NaN</td>\n",
       "      <td>NaN</td>\n",
       "      <td>NaN</td>\n",
       "      <td>NaN</td>\n",
       "      <td>NaN</td>\n",
       "      <td>NaN</td>\n",
       "      <td>NaN</td>\n",
       "      <td>NaN</td>\n",
       "      <td>NaN</td>\n",
       "      <td>NaN</td>\n",
       "      <td>NaN</td>\n",
       "      <td>Anxiety Disorder (Generalized, Social, Phobia,...</td>\n",
       "      <td>NaN</td>\n",
       "      <td>NaN</td>\n",
       "      <td>NaN</td>\n",
       "      <td>NaN</td>\n",
       "      <td>NaN</td>\n",
       "      <td>NaN</td>\n",
       "      <td>NaN</td>\n",
       "      <td>NaN</td>\n",
       "      <td>NaN</td>\n",
       "      <td>NaN</td>\n",
       "      <td>NaN</td>\n",
       "      <td>NaN</td>\n",
       "      <td>NaN</td>\n",
       "      <td>NaN</td>\n",
       "      <td>NaN</td>\n",
       "      <td>NaN</td>\n",
       "      <td>NaN</td>\n",
       "      <td>NaN</td>\n",
       "      <td>NaN</td>\n",
       "      <td>NaN</td>\n",
       "      <td>NaN</td>\n",
       "      <td>NaN</td>\n",
       "      <td>NaN</td>\n",
       "      <td>NaN</td>\n",
       "      <td>NaN</td>\n",
       "      <td>Possibly</td>\n",
       "      <td>1</td>\n",
       "      <td>No</td>\n",
       "      <td>Sometimes</td>\n",
       "      <td>Sometimes</td>\n",
       "      <td>No</td>\n",
       "      <td>5</td>\n",
       "      <td>Yes</td>\n",
       "      <td>NaN</td>\n",
       "      <td>No</td>\n",
       "      <td>I'd be worried they wouldn't hire me</td>\n",
       "      <td>0.0</td>\n",
       "      <td>NaN</td>\n",
       "      <td>NaN</td>\n",
       "      <td>10.0</td>\n",
       "      <td>Yes, I experienced</td>\n",
       "      <td>NaN</td>\n",
       "      <td>Yes, I experienced</td>\n",
       "      <td>NaN</td>\n",
       "      <td>1.0</td>\n",
       "      <td>They don't take it seriously</td>\n",
       "      <td>NaN</td>\n",
       "      <td>0.0</td>\n",
       "      <td>27.0</td>\n",
       "      <td>Female</td>\n",
       "      <td>United Kingdom</td>\n",
       "      <td>NaN</td>\n",
       "      <td>NaN</td>\n",
       "      <td>NaN</td>\n",
       "      <td>United Kingdom</td>\n",
       "      <td>NaN</td>\n",
       "      <td>2018-05-16 12:32:04</td>\n",
       "      <td>2018-05-16 12:42:40</td>\n",
       "      <td>464b7a12f1</td>\n",
       "    </tr>\n",
       "  </tbody>\n",
       "</table>\n",
       "</div>"
      ],
      "text/plain": [
       "                                  #  <strong>Are you self-employed?</strong>  \\\n",
       "0  e49fe87572831232dcfa51b376b22039                                        0   \n",
       "\n",
       "  How many employees does your company or organization have?  \\\n",
       "0                                            100-500           \n",
       "\n",
       "   Is your employer primarily a tech company/organization?  \\\n",
       "0                                                1.0         \n",
       "\n",
       "   Is your primary role within your company related to tech/IT?  \\\n",
       "0                                                1.0              \n",
       "\n",
       "  Does your employer provide mental health benefits as part of healthcare coverage?  \\\n",
       "0                                                 No                                  \n",
       "\n",
       "  Do you know the options for mental health care available under your employer-provided health coverage?  \\\n",
       "0                                                Yes                                                       \n",
       "\n",
       "  Has your employer ever formally discussed mental health (for example, as part of a wellness campaign or other official communication)?  \\\n",
       "0                                                 No                                                                                       \n",
       "\n",
       "  Does your employer offer resources to learn more about mental health disorders and options for seeking help?  \\\n",
       "0                                       I don't know                                                             \n",
       "\n",
       "  Is your anonymity protected if you choose to take advantage of mental health or substance abuse treatment resources provided by your employer?  \\\n",
       "0                                       I don't know                                                                                               \n",
       "\n",
       "  If a mental health issue prompted you to request a medical leave from work, how easy or difficult would it be to ask for that leave?  \\\n",
       "0                                       I don't know                                                                                     \n",
       "\n",
       "  Would you feel more comfortable talking to your coworkers about your physical health or your mental health?  \\\n",
       "0                     Same level of comfort for each                                                            \n",
       "\n",
       "  Would you feel comfortable discussing a mental health issue with your direct supervisor(s)?  \\\n",
       "0                                                Yes                                            \n",
       "\n",
       "   Have you ever discussed your mental health with your employer?  \\\n",
       "0                                                0.0                \n",
       "\n",
       "  Describe the conversation you had with your employer about your mental health, including their reactions and what actions were taken to address your mental health issue/questions.  \\\n",
       "0                                                NaN                                                                                                                                    \n",
       "\n",
       "  Would you feel comfortable discussing a mental health issue with your coworkers?  \\\n",
       "0                                                Yes                                 \n",
       "\n",
       "   Have you ever discussed your mental health with coworkers?  \\\n",
       "0                                                1.0            \n",
       "\n",
       "  Describe the conversation with coworkers you had about your mental health including their reactions.  \\\n",
       "0   Spoke about my anxiety they were very supportive                                                     \n",
       "\n",
       "   Have you ever had a coworker discuss their or another coworker's mental health with you?  \\\n",
       "0                                                1.0                                          \n",
       "\n",
       "  Describe the conversation your coworker had with you about their mental health (please do not use names).  \\\n",
       "0  they spoke about their depression, i offered m...                                                          \n",
       "\n",
       "   Overall, how much importance does your employer place on physical health?  \\\n",
       "0                                                6.0                           \n",
       "\n",
       "   Overall, how much importance does your employer place on mental health?  \\\n",
       "0                                                0.0                         \n",
       "\n",
       "   Do you have medical coverage (private insurance or state-provided) that includes treatment of mental health disorders?  \\\n",
       "0                                                NaN                                                                        \n",
       "\n",
       "  Do you know local or online resources to seek help for a mental health issue?  \\\n",
       "0                                                NaN                              \n",
       "\n",
       "  <strong>If you have been diagnosed or treated for a mental health disorder, do you ever reveal this to clients or business contacts?</strong>  \\\n",
       "0                                                NaN                                                                                              \n",
       "\n",
       "  If you have revealed a mental health disorder to a client or business contact, how has this affected you or the relationship?  \\\n",
       "0                                                NaN                                                                              \n",
       "\n",
       "  <strong>If you have been diagnosed or treated for a mental health disorder, do you ever reveal this to coworkers or employees?</strong>  \\\n",
       "0                                                NaN                                                                                        \n",
       "\n",
       "  If you have revealed a mental health disorder to a coworker or employee, how has this impacted you or the relationship?  \\\n",
       "0                                                NaN                                                                        \n",
       "\n",
       "  Do you believe your productivity is ever affected by a mental health issue?  \\\n",
       "0                                                NaN                            \n",
       "\n",
       "  If yes, what percentage of your work time (time performing primary or secondary job functions) is affected by a mental health issue?  \\\n",
       "0                                                NaN                                                                                     \n",
       "\n",
       "   <strong>Do you have previous employers?</strong>  \\\n",
       "0                                                 1   \n",
       "\n",
       "   Was your employer primarily a tech company/organization?  \\\n",
       "0                                                0.0          \n",
       "\n",
       "  <strong>Have your previous employers provided mental health benefits?</strong>  \\\n",
       "0                                       I don't know                               \n",
       "\n",
       "  <strong>Were you aware of the options for mental health care provided by your previous employers?</strong>  \\\n",
       "0                                N/A (was not aware)                                                           \n",
       "\n",
       "  Did your previous employers ever formally discuss mental health (as part of a wellness campaign or other official communication)?  \\\n",
       "0                                           Some did                                                                                  \n",
       "\n",
       "  Did your previous employers provide resources to learn more about mental health disorders and how to seek help?  \\\n",
       "0                                           Some did                                                                \n",
       "\n",
       "  Was your anonymity protected if you chose to take advantage of mental health or substance abuse treatment resources with previous employers?  \\\n",
       "0                                        Yes, always                                                                                             \n",
       "\n",
       "  Would you have felt more comfortable talking to your previous employer about your physical health or your mental health?  \\\n",
       "0                                    Physical health                                                                         \n",
       "\n",
       "  Would you have been willing to discuss your mental health with your direct supervisor(s)?  \\\n",
       "0                Yes, all of my previous supervisors                                          \n",
       "\n",
       "   Did you ever discuss your mental health with your previous employer?  \\\n",
       "0                                                0.0                      \n",
       "\n",
       "  Describe the conversation you had with your previous employer about your mental health, including their reactions and actions taken to address your mental health issue/questions.  \\\n",
       "0                                                NaN                                                                                                                                   \n",
       "\n",
       "  <strong>Would you have been willing to discuss your mental health with your coworkers at previous employers?</strong>  \\\n",
       "0               No, at none of my previous employers                                                                      \n",
       "\n",
       "   Did you ever discuss your mental health with a previous coworker(s)?  \\\n",
       "0                                                0.0                      \n",
       "\n",
       "  Describe the conversation you had with your previous coworkers about your mental health including their reactions.  \\\n",
       "0                                                NaN                                                                   \n",
       "\n",
       "   Did you ever have a previous coworker discuss their or another coworker's mental health with you?  \\\n",
       "0                                                0.0                                                   \n",
       "\n",
       "  Describe the conversation your coworker had with you about their mental health (please do not use names)..1  \\\n",
       "0                                                NaN                                                            \n",
       "\n",
       "   Overall, how much importance did your previous employer place on physical health?  \\\n",
       "0                                                3.0                                   \n",
       "\n",
       "   Overall, how much importance did your previous employer place on mental health?  \\\n",
       "0                                                3.0                                 \n",
       "\n",
       "  Do you currently have a mental health disorder?  \\\n",
       "0                                        Possibly   \n",
       "\n",
       "  Have you ever been diagnosed with a mental health disorder?  \\\n",
       "0                                                NaN            \n",
       "\n",
       "   Anxiety Disorder (Generalized, Social, Phobia, etc)  \\\n",
       "0                                                NaN     \n",
       "\n",
       "   Mood Disorder (Depression, Bipolar Disorder, etc)  \\\n",
       "0                                                NaN   \n",
       "\n",
       "   Psychotic Disorder (Schizophrenia, Schizoaffective, etc)  \\\n",
       "0                                                NaN          \n",
       "\n",
       "   Eating Disorder (Anorexia, Bulimia, etc)  \\\n",
       "0                                       NaN   \n",
       "\n",
       "   Attention Deficit Hyperactivity Disorder  \\\n",
       "0                                       NaN   \n",
       "\n",
       "   Personality Disorder (Borderline, Antisocial, Paranoid, etc)  \\\n",
       "0                                                NaN              \n",
       "\n",
       "   Obsessive-Compulsive Disorder  Post-Traumatic Stress Disorder  \\\n",
       "0                            NaN                             NaN   \n",
       "\n",
       "   Stress Response Syndromes  Dissociative Disorder  Substance Use Disorder  \\\n",
       "0                        NaN                    NaN                     NaN   \n",
       "\n",
       "   Addictive Disorder  Other  \\\n",
       "0                 NaN    NaN   \n",
       "\n",
       "  Anxiety Disorder (Generalized, Social, Phobia, etc).1  \\\n",
       "0  Anxiety Disorder (Generalized, Social, Phobia,...      \n",
       "\n",
       "  Mood Disorder (Depression, Bipolar Disorder, etc).1  \\\n",
       "0                                                NaN    \n",
       "\n",
       "   Psychotic Disorder (Schizophrenia, Schizoaffective, etc).1  \\\n",
       "0                                                NaN            \n",
       "\n",
       "  Eating Disorder (Anorexia, Bulimia, etc).1  \\\n",
       "0                                        NaN   \n",
       "\n",
       "  Attention Deficit Hyperactivity Disorder.1  \\\n",
       "0                                        NaN   \n",
       "\n",
       "  Personality Disorder (Borderline, Antisocial, Paranoid, etc).1  \\\n",
       "0                                                NaN               \n",
       "\n",
       "  Obsessive-Compulsive Disorder.1 Post-traumatic Stress Disorder  \\\n",
       "0                             NaN                            NaN   \n",
       "\n",
       "  Stress Response Syndromes.1 Dissociative Disorder.1  \\\n",
       "0                         NaN                     NaN   \n",
       "\n",
       "  Substance Use Disorder.1 Addictive Disorder.1 Other.1  \\\n",
       "0                      NaN                  NaN     NaN   \n",
       "\n",
       "  Anxiety Disorder (Generalized, Social, Phobia, etc).2  \\\n",
       "0                                                NaN      \n",
       "\n",
       "  Mood Disorder (Depression, Bipolar Disorder, etc).2  \\\n",
       "0                                                NaN    \n",
       "\n",
       "  Psychotic Disorder (Schizophrenia, Schizoaffective, etc).2  \\\n",
       "0                                                NaN           \n",
       "\n",
       "  Eating Disorder (Anorexia, Bulimia, etc).2  \\\n",
       "0                                        NaN   \n",
       "\n",
       "  Attention Deficit Hyperactivity Disorder.2  \\\n",
       "0                                        NaN   \n",
       "\n",
       "  Personality Disorder (Borderline, Antisocial, Paranoid, etc).2  \\\n",
       "0                                                NaN               \n",
       "\n",
       "  Obsessive-Compulsive Disorder.2 Post-traumatic Stress Disorder.1  \\\n",
       "0                             NaN                              NaN   \n",
       "\n",
       "  Stress Response Syndromes.2 Dissociative Disorder.2  \\\n",
       "0                         NaN                     NaN   \n",
       "\n",
       "  Substance Use Disorder.2 Addictive Disorder.2 Other.2  \\\n",
       "0                      NaN                  NaN     NaN   \n",
       "\n",
       "  Have you had a mental health disorder in the past?  \\\n",
       "0                                           Possibly   \n",
       "\n",
       "   Have you ever sought treatment for a mental health disorder from a mental health professional?  \\\n",
       "0                                                  1                                                \n",
       "\n",
       "  Do you have a family history of mental illness?  \\\n",
       "0                                              No   \n",
       "\n",
       "  If you have a mental health disorder, how often do you feel that it interferes with your work <strong>when being treated effectively?</strong>  \\\n",
       "0                                          Sometimes                                                                                               \n",
       "\n",
       "  If you have a mental health disorder, how often do you feel that it interferes with your work <strong>when <em>NOT</em> being treated effectively (i.e., when you are experiencing symptoms)?</strong>  \\\n",
       "0                                          Sometimes                                                                                                                                                       \n",
       "\n",
       "  Have your observations of how another individual who discussed a mental health issue made you less likely to reveal a mental health issue yourself in your current workplace?  \\\n",
       "0                                                 No                                                                                                                              \n",
       "\n",
       "   How willing would you be to share with friends and family that you have a mental illness?  \\\n",
       "0                                                  5                                           \n",
       "\n",
       "  Would you be willing to bring up a physical health issue with a potential employer in an interview?  \\\n",
       "0                                                Yes                                                    \n",
       "\n",
       "  Why or why not?  \\\n",
       "0             NaN   \n",
       "\n",
       "  Would you bring up your mental health with a potential employer in an interview?  \\\n",
       "0                                                 No                                 \n",
       "\n",
       "                       Why or why not?.1  \\\n",
       "0  I'd be worried they wouldn't hire me    \n",
       "\n",
       "   Are you openly identified at work as a person with a mental health issue?  \\\n",
       "0                                                0.0                           \n",
       "\n",
       "   Has being identified as a person with a mental health issue affected your career?  \\\n",
       "0                                                NaN                                   \n",
       "\n",
       "   How has it affected your career?  \\\n",
       "0                               NaN   \n",
       "\n",
       "   If they knew you suffered from a mental health disorder, how do you think that team members/co-workers would react?  \\\n",
       "0                                               10.0                                                                     \n",
       "\n",
       "  <strong>Have you observed or experienced an unsupportive or badly handled response to a mental health issue in your current or previous workplace?</strong>  \\\n",
       "0                                 Yes, I experienced                                                                                                            \n",
       "\n",
       "  Describe the circumstances of the badly handled or unsupportive response.  \\\n",
       "0                                                NaN                          \n",
       "\n",
       "  <strong>Have you observed or experienced supportive or well handled response to a mental health issue in your current or previous workplace?</strong>  \\\n",
       "0                                 Yes, I experienced                                                                                                      \n",
       "\n",
       "   Describe the circumstances of the supportive or well handled response.  \\\n",
       "0                                                NaN                        \n",
       "\n",
       "   Overall, how well do you think the tech industry supports employees with mental health issues?  \\\n",
       "0                                                1.0                                                \n",
       "\n",
       "  Briefly describe what you think the industry as a whole and/or employers could do to improve mental health support for employees.  \\\n",
       "0                       They don't take it seriously                                                                                  \n",
       "\n",
       "  If there is anything else you would like to tell us that has not been covered by the survey questions, please use this space to do so.  \\\n",
       "0                                                NaN                                                                                       \n",
       "\n",
       "   Would you be willing to talk to one of us more extensively about your experiences with mental health issues in the tech industry? (Note that all interview responses would be used <em>anonymously</em> and only with your permission.)  \\\n",
       "0                                                0.0                                                                                                                                                                                         \n",
       "\n",
       "   What is your age? What is your gender?  \\\n",
       "0               27.0               Female   \n",
       "\n",
       "  What country do you <strong>live</strong> in?  \\\n",
       "0                                United Kingdom   \n",
       "\n",
       "  What US state or territory do you <strong>live</strong> in?  \\\n",
       "0                                                NaN            \n",
       "\n",
       "  What is your race? Other.3 What country do you <strong>work</strong> in?  \\\n",
       "0                NaN     NaN                                United Kingdom   \n",
       "\n",
       "  What US state or territory do you <strong>work</strong> in?  \\\n",
       "0                                                NaN            \n",
       "\n",
       "      Start Date (UTC)    Submit Date (UTC)  Network ID  \n",
       "0  2018-05-16 12:32:04  2018-05-16 12:42:40  464b7a12f1  "
      ]
     },
     "execution_count": 206,
     "metadata": {},
     "output_type": "execute_result"
    }
   ],
   "source": [
    "data.head(1)"
   ]
  },
  {
   "cell_type": "markdown",
   "id": "77e279c5",
   "metadata": {},
   "source": [
    "As we can see, we have a lot of columns. So let's view the percentage of missing values each one of these columns have."
   ]
  },
  {
   "cell_type": "code",
   "execution_count": 207,
   "id": "c1ece94f",
   "metadata": {},
   "outputs": [
    {
     "name": "stdout",
     "output_type": "stream",
     "text": [
      "#                                                                                                                                                                                                                                            0.000000\n",
      "<strong>Are you self-employed?</strong>                                                                                                                                                                                                      0.000000\n",
      "How many employees does your company or organization have?                                                                                                                                                                                  14.947090\n",
      "Is your employer primarily a tech company/organization?                                                                                                                                                                                     14.947090\n",
      "Is your primary role within your company related to tech/IT?                                                                                                                                                                                14.947090\n",
      "Does your employer provide mental health benefits as part of healthcare coverage?                                                                                                                                                           14.947090\n",
      "Do you know the options for mental health care available under your employer-provided health coverage?                                                                                                                                      23.809524\n",
      "Has your employer ever formally discussed mental health (for example, as part of a wellness campaign or other official communication)?                                                                                                      14.947090\n",
      "Does your employer offer resources to learn more about mental health disorders and options for seeking help?                                                                                                                                14.947090\n",
      "Is your anonymity protected if you choose to take advantage of mental health or substance abuse treatment resources provided by your employer?                                                                                              14.947090\n",
      "If a mental health issue prompted you to request a medical leave from work, how easy or difficult would it be to ask for that leave?                                                                                                        14.947090\n",
      "Would you feel more comfortable talking to your coworkers about your physical health or your mental health?                                                                                                                                 14.947090\n",
      "Would you feel comfortable discussing a mental health issue with your direct supervisor(s)?                                                                                                                                                 14.947090\n",
      "Have you ever discussed your mental health with your employer?                                                                                                                                                                              14.947090\n",
      "Describe the conversation you had with your employer about your mental health, including their reactions and what actions were taken to address your mental health issue/questions.                                                         77.248677\n",
      "Would you feel comfortable discussing a mental health issue with your coworkers?                                                                                                                                                            14.947090\n",
      "Have you ever discussed your mental health with coworkers?                                                                                                                                                                                  14.947090\n",
      "Describe the conversation with coworkers you had about your mental health including their reactions.                                                                                                                                        70.105820\n",
      "Have you ever had a coworker discuss their or another coworker's mental health with you?                                                                                                                                                    15.608466\n",
      "Describe the conversation your coworker had with you about their mental health (please do not use names).                                                                                                                                   69.576720\n",
      "Overall, how much importance does your employer place on physical health?                                                                                                                                                                   14.947090\n",
      "Overall, how much importance does your employer place on mental health?                                                                                                                                                                     14.947090\n",
      "Do you have medical coverage (private insurance or state-provided) that includes treatment of mental health disorders?                                                                                                                      85.052910\n",
      "Do you know local or online resources to seek help for a mental health issue?                                                                                                                                                               85.052910\n",
      "<strong>If you have been diagnosed or treated for a mental health disorder, do you ever reveal this to clients or business contacts?</strong>                                                                                               85.052910\n",
      "If you have revealed a mental health disorder to a client or business contact, how has this affected you or the relationship?                                                                                                               93.253968\n",
      "<strong>If you have been diagnosed or treated for a mental health disorder, do you ever reveal this to coworkers or employees?</strong>                                                                                                     85.052910\n",
      "If you have revealed a mental health disorder to a coworker or employee, how has this impacted you or the relationship?                                                                                                                     85.052910\n",
      "Do you believe your productivity is ever affected by a mental health issue?                                                                                                                                                                 85.052910\n",
      "If yes, what percentage of your work time (time performing primary or secondary job functions) is affected by a mental health issue?                                                                                                        88.756614\n",
      "<strong>Do you have previous employers?</strong>                                                                                                                                                                                             0.000000\n",
      "Was your employer primarily a tech company/organization?                                                                                                                                                                                    11.772487\n",
      "<strong>Have your previous employers provided mental health benefits?</strong>                                                                                                                                                              11.772487\n",
      "<strong>Were you aware of the options for mental health care provided by your previous employers?</strong>                                                                                                                                  11.772487\n",
      "Did your previous employers ever formally discuss mental health (as part of a wellness campaign or other official communication)?                                                                                                           11.772487\n",
      "Did your previous employers provide resources to learn more about mental health disorders and how to seek help?                                                                                                                             11.772487\n",
      "Was your anonymity protected if you chose to take advantage of mental health or substance abuse treatment resources with previous employers?                                                                                                11.772487\n",
      "Would you have felt more comfortable talking to your previous employer about your physical health or your mental health?                                                                                                                    11.772487\n",
      "Would you have been willing to discuss your mental health with your direct supervisor(s)?                                                                                                                                                   11.772487\n",
      "Did you ever discuss your mental health with your previous employer?                                                                                                                                                                        11.772487\n",
      "Describe the conversation you had with your previous employer about your mental health, including their reactions and actions taken to address your mental health issue/questions.                                                          86.111111\n",
      "<strong>Would you have been willing to discuss your mental health with your coworkers at previous employers?</strong>                                                                                                                       11.772487\n",
      "Did you ever discuss your mental health with a previous coworker(s)?                                                                                                                                                                        11.904762\n",
      "Describe the conversation you had with your previous coworkers about your mental health including their reactions.                                                                                                                          82.804233\n",
      "Did you ever have a previous coworker discuss their or another coworker's mental health with you?                                                                                                                                           12.566138\n",
      "Describe the conversation your coworker had with you about their mental health (please do not use names)..1                                                                                                                                 83.333333\n",
      "Overall, how much importance did your previous employer place on physical health?                                                                                                                                                           11.772487\n",
      "Overall, how much importance did your previous employer place on mental health?                                                                                                                                                             11.772487\n",
      "Do you currently have a mental health disorder?                                                                                                                                                                                              0.000000\n",
      "Have you ever been diagnosed with a mental health disorder?                                                                                                                                                                                 57.142857\n",
      "Anxiety Disorder (Generalized, Social, Phobia, etc)                                                                                                                                                                                        100.000000\n",
      "Mood Disorder (Depression, Bipolar Disorder, etc)                                                                                                                                                                                          100.000000\n",
      "Psychotic Disorder (Schizophrenia, Schizoaffective, etc)                                                                                                                                                                                   100.000000\n",
      "Eating Disorder (Anorexia, Bulimia, etc)                                                                                                                                                                                                   100.000000\n",
      "Attention Deficit Hyperactivity Disorder                                                                                                                                                                                                   100.000000\n",
      "Personality Disorder (Borderline, Antisocial, Paranoid, etc)                                                                                                                                                                               100.000000\n",
      "Obsessive-Compulsive Disorder                                                                                                                                                                                                              100.000000\n",
      "Post-Traumatic Stress Disorder                                                                                                                                                                                                             100.000000\n",
      "Stress Response Syndromes                                                                                                                                                                                                                  100.000000\n",
      "Dissociative Disorder                                                                                                                                                                                                                      100.000000\n",
      "Substance Use Disorder                                                                                                                                                                                                                     100.000000\n",
      "Addictive Disorder                                                                                                                                                                                                                         100.000000\n",
      "Other                                                                                                                                                                                                                                      100.000000\n",
      "Anxiety Disorder (Generalized, Social, Phobia, etc).1                                                                                                                                                                                       87.169312\n",
      "Mood Disorder (Depression, Bipolar Disorder, etc).1                                                                                                                                                                                         88.359788\n",
      "Psychotic Disorder (Schizophrenia, Schizoaffective, etc).1                                                                                                                                                                                 100.000000\n",
      "Eating Disorder (Anorexia, Bulimia, etc).1                                                                                                                                                                                                  99.735450\n",
      "Attention Deficit Hyperactivity Disorder.1                                                                                                                                                                                                  96.164021\n",
      "Personality Disorder (Borderline, Antisocial, Paranoid, etc).1                                                                                                                                                                              98.148148\n",
      "Obsessive-Compulsive Disorder.1                                                                                                                                                                                                             97.751323\n",
      "Post-traumatic Stress Disorder                                                                                                                                                                                                              98.148148\n",
      "Stress Response Syndromes.1                                                                                                                                                                                                                 98.280423\n",
      "Dissociative Disorder.1                                                                                                                                                                                                                     99.470899\n",
      "Substance Use Disorder.1                                                                                                                                                                                                                    98.941799\n",
      "Addictive Disorder.1                                                                                                                                                                                                                        99.074074\n",
      "Other.1                                                                                                                                                                                                                                     99.603175\n",
      "Anxiety Disorder (Generalized, Social, Phobia, etc).2                                                                                                                                                                                       73.280423\n",
      "Mood Disorder (Depression, Bipolar Disorder, etc).2                                                                                                                                                                                         69.312169\n",
      "Psychotic Disorder (Schizophrenia, Schizoaffective, etc).2                                                                                                                                                                                  98.677249\n",
      "Eating Disorder (Anorexia, Bulimia, etc).2                                                                                                                                                                                                  97.486772\n",
      "Attention Deficit Hyperactivity Disorder.2                                                                                                                                                                                                  90.476190\n",
      "Personality Disorder (Borderline, Antisocial, Paranoid, etc).2                                                                                                                                                                              97.883598\n",
      "Obsessive-Compulsive Disorder.2                                                                                                                                                                                                             96.164021\n",
      "Post-traumatic Stress Disorder.1                                                                                                                                                                                                            92.328042\n",
      "Stress Response Syndromes.2                                                                                                                                                                                                                 98.677249\n",
      "Dissociative Disorder.2                                                                                                                                                                                                                     99.206349\n",
      "Substance Use Disorder.2                                                                                                                                                                                                                    97.751323\n",
      "Addictive Disorder.2                                                                                                                                                                                                                        98.544974\n",
      "Other.2                                                                                                                                                                                                                                     98.677249\n",
      "Have you had a mental health disorder in the past?                                                                                                                                                                                           1.322751\n",
      "Have you ever sought treatment for a mental health disorder from a mental health professional?                                                                                                                                               0.000000\n",
      "Do you have a family history of mental illness?                                                                                                                                                                                              0.000000\n",
      "If you have a mental health disorder, how often do you feel that it interferes with your work <strong>when being treated effectively?</strong>                                                                                               0.000000\n",
      "If you have a mental health disorder, how often do you feel that it interferes with your work <strong>when <em>NOT</em> being treated effectively (i.e., when you are experiencing symptoms)?</strong>                                       0.000000\n",
      "Have your observations of how another individual who discussed a mental health issue made you less likely to reveal a mental health issue yourself in your current workplace?                                                               21.164021\n",
      "How willing would you be to share with friends and family that you have a mental illness?                                                                                                                                                    0.000000\n",
      "Would you be willing to bring up a physical health issue with a potential employer in an interview?                                                                                                                                          0.000000\n",
      "Why or why not?                                                                                                                                                                                                                             24.603175\n",
      "Would you bring up your mental health with a potential employer in an interview?                                                                                                                                                             0.000000\n",
      "Why or why not?.1                                                                                                                                                                                                                           23.280423\n",
      "Are you openly identified at work as a person with a mental health issue?                                                                                                                                                                    0.264550\n",
      "Has being identified as a person with a mental health issue affected your career?                                                                                                                                                           88.888889\n",
      "How has it affected your career?                                                                                                                                                                                                            96.560847\n",
      "If they knew you suffered from a mental health disorder, how do you think that team members/co-workers would react?                                                                                                                          0.264550\n",
      "<strong>Have you observed or experienced an unsupportive or badly handled response to a mental health issue in your current or previous workplace?</strong>                                                                                  0.264550\n",
      "Describe the circumstances of the badly handled or unsupportive response.                                                                                                                                                                   79.232804\n",
      "<strong>Have you observed or experienced supportive or well handled response to a mental health issue in your current or previous workplace?</strong>                                                                                        0.264550\n",
      "Describe the circumstances of the supportive or well handled response.                                                                                                                                                                     100.000000\n",
      "Overall, how well do you think the tech industry supports employees with mental health issues?                                                                                                                                               0.264550\n",
      "Briefly describe what you think the industry as a whole and/or employers could do to improve mental health support for employees.                                                                                                           33.862434\n",
      "If there is anything else you would like to tell us that has not been covered by the survey questions, please use this space to do so.                                                                                                      75.793651\n",
      "Would you be willing to talk to one of us more extensively about your experiences with mental health issues in the tech industry? (Note that all interview responses would be used <em>anonymously</em> and only with your permission.)      0.264550\n",
      "What is your age?                                                                                                                                                                                                                            0.264550\n",
      "What is your gender?                                                                                                                                                                                                                         1.719577\n",
      "What country do you <strong>live</strong> in?                                                                                                                                                                                                0.264550\n",
      "What US state or territory do you <strong>live</strong> in?                                                                                                                                                                                 34.259259\n",
      "What is your race?                                                                                                                                                                                                                          36.243386\n",
      "Other.3                                                                                                                                                                                                                                     98.015873\n",
      "What country do you <strong>work</strong> in?                                                                                                                                                                                                0.264550\n",
      "What US state or territory do you <strong>work</strong> in?                                                                                                                                                                                 33.465608\n",
      "Start Date (UTC)                                                                                                                                                                                                                             0.000000\n",
      "Submit Date (UTC)                                                                                                                                                                                                                            0.000000\n",
      "Network ID                                                                                                                                                                                                                                   0.000000\n",
      "dtype: float64\n"
     ]
    }
   ],
   "source": [
    "a = data.isna().sum()\n",
    "print((100*(a/len(data))))"
   ]
  },
  {
   "cell_type": "markdown",
   "id": "208386af",
   "metadata": {},
   "source": [
    "Here we can see that we have a lot of columns with more than 90% missing values.\n",
    "<br>Most of which looks quite unimportant.\n",
    "<br>So, we are going to filter the dataset to include only the columns with less than 90% missing values."
   ]
  },
  {
   "cell_type": "code",
   "execution_count": 208,
   "id": "4203186c",
   "metadata": {},
   "outputs": [
    {
     "data": {
      "text/plain": [
       "680.4"
      ]
     },
     "execution_count": 208,
     "metadata": {},
     "output_type": "execute_result"
    }
   ],
   "source": [
    "#Create filter\n",
    "max_na = (0.9 * len(data))\n",
    "max_na"
   ]
  },
  {
   "cell_type": "code",
   "execution_count": 209,
   "id": "eb328c57",
   "metadata": {},
   "outputs": [],
   "source": [
    "#Filter dataset\n",
    "data = data.loc[:,(data.isnull().sum(axis=0) <= max_na)]"
   ]
  },
  {
   "cell_type": "code",
   "execution_count": 210,
   "id": "0c5c73b5",
   "metadata": {},
   "outputs": [
    {
     "data": {
      "text/plain": [
       "(756, 84)"
      ]
     },
     "execution_count": 210,
     "metadata": {},
     "output_type": "execute_result"
    }
   ],
   "source": [
    "#View the shape of our 'new' dataframe\n",
    "data.shape"
   ]
  },
  {
   "cell_type": "markdown",
   "id": "d86f48c9",
   "metadata": {},
   "source": [
    "Okay, now our dataset has been trimmed, let's look at our columns that we have."
   ]
  },
  {
   "cell_type": "code",
   "execution_count": 211,
   "id": "f3c8b5dd",
   "metadata": {
    "scrolled": true
   },
   "outputs": [
    {
     "data": {
      "text/plain": [
       "['#',\n",
       " '<strong>Are you self-employed?</strong>',\n",
       " 'How many employees does your company or organization have?',\n",
       " 'Is your employer primarily a tech company/organization?',\n",
       " 'Is your primary role within your company related to tech/IT?',\n",
       " 'Does your employer provide mental health benefits\\xa0as part of healthcare coverage?',\n",
       " 'Do you know the options for mental health care available under your employer-provided health coverage?',\n",
       " 'Has your employer ever formally discussed mental health (for example, as part of a wellness campaign or other official communication)?',\n",
       " 'Does your employer offer resources to learn more about mental health disorders and options for seeking help?',\n",
       " 'Is your anonymity protected if you choose to take advantage of mental health or substance abuse treatment resources provided by your employer?',\n",
       " 'If a mental health issue prompted you to request a medical leave from work, how easy or difficult would it be to ask for that leave?',\n",
       " 'Would you feel more comfortable talking to your coworkers about your physical health or your mental health?',\n",
       " 'Would you feel comfortable discussing a mental health issue with your direct supervisor(s)?',\n",
       " 'Have you ever discussed your mental health with your employer?',\n",
       " 'Describe the conversation you had with your employer about your mental health, including their reactions and what actions were taken to address your mental health issue/questions.',\n",
       " 'Would you feel comfortable discussing a mental health issue with your coworkers?',\n",
       " 'Have you ever discussed your mental health with coworkers?',\n",
       " 'Describe the conversation with coworkers you had about your mental health including their reactions.',\n",
       " \"Have you ever had a coworker discuss their or another coworker's mental health with you?\",\n",
       " 'Describe the conversation your coworker had with you about their mental health (please do not use names).',\n",
       " 'Overall, how much importance does your employer place on physical health?',\n",
       " 'Overall, how much importance does your employer place on mental health?',\n",
       " 'Do you have medical coverage (private insurance or state-provided) that includes treatment of mental health disorders?',\n",
       " 'Do you know local or online resources to seek help for a mental health issue?',\n",
       " '<strong>If you have been diagnosed or treated for a mental health disorder, do you ever reveal this to clients or business contacts?</strong>',\n",
       " '<strong>If you have been diagnosed or treated for a mental health disorder, do you ever reveal this to coworkers or employees?</strong>',\n",
       " 'If you have revealed a mental health disorder to a coworker or employee, how has this impacted you or the relationship?',\n",
       " 'Do you believe your productivity is ever affected by a mental health issue?',\n",
       " 'If yes, what percentage of your work time (time performing primary or secondary job functions) is affected by a mental health issue?',\n",
       " '<strong>Do you have previous employers?</strong>',\n",
       " 'Was your employer primarily a tech company/organization?',\n",
       " '<strong>Have your previous employers provided mental health benefits?</strong>',\n",
       " '<strong>Were you aware of the options for mental health care provided by your previous employers?</strong>',\n",
       " 'Did your previous employers ever formally discuss mental health (as part of a wellness campaign or other official communication)?',\n",
       " 'Did your previous employers provide resources to learn more about mental health disorders and how to seek help?',\n",
       " 'Was your anonymity protected if you chose to take advantage of mental health or substance abuse treatment resources with previous employers?',\n",
       " 'Would you have felt more comfortable talking to your previous employer about your physical health or your mental health?',\n",
       " 'Would you have been willing to discuss your mental health with your direct supervisor(s)?',\n",
       " 'Did you ever discuss your mental health with your previous employer?',\n",
       " 'Describe the conversation you had with your previous employer about your mental health, including their reactions and actions taken to address your mental health issue/questions.',\n",
       " '<strong>Would you have been willing to discuss your mental health with your coworkers at previous employers?</strong>',\n",
       " 'Did you ever discuss your mental health with a previous coworker(s)?',\n",
       " 'Describe the conversation you had with your previous coworkers about your mental health including their reactions.',\n",
       " \"Did you ever have a previous coworker discuss their or another coworker's mental health with you?\",\n",
       " 'Describe the conversation your coworker had with you about their mental health (please do not use names)..1',\n",
       " 'Overall, how much importance did your previous employer place on physical health?',\n",
       " 'Overall, how much importance did your previous employer place on mental health?',\n",
       " 'Do you currently have a mental health disorder?',\n",
       " 'Have you ever been diagnosed with a mental health disorder?',\n",
       " 'Anxiety Disorder (Generalized, Social, Phobia, etc).1',\n",
       " 'Mood Disorder (Depression, Bipolar Disorder, etc).1',\n",
       " 'Anxiety Disorder (Generalized, Social, Phobia, etc).2',\n",
       " 'Mood Disorder (Depression, Bipolar Disorder, etc).2',\n",
       " 'Have you had a mental health disorder in the past?',\n",
       " 'Have you ever sought treatment for a mental health disorder from a mental health professional?',\n",
       " 'Do you have a family history of mental illness?',\n",
       " 'If you have a mental health disorder, how often do you feel that it interferes with your work <strong>when being treated effectively?</strong>',\n",
       " 'If you have a mental health disorder, how often do you feel that it interferes with your work <strong>when <em>NOT</em> being treated effectively (i.e., when you are experiencing symptoms)?</strong>',\n",
       " 'Have your observations of how another individual who discussed a mental health issue made you less likely to reveal a mental health issue yourself in your current workplace?',\n",
       " 'How willing would you be to share with friends and family that you have a mental illness?',\n",
       " 'Would you be willing to bring up a physical health issue with a potential employer in an interview?',\n",
       " 'Why or why not?',\n",
       " 'Would you bring up your mental health with a potential employer in an interview?',\n",
       " 'Why or why not?.1',\n",
       " 'Are you openly identified at work as a person with a mental health issue?',\n",
       " 'Has being identified as a person with a mental health issue affected your career?',\n",
       " 'If they knew you suffered from a mental health disorder,\\xa0how do you think that team members/co-workers would react?',\n",
       " '<strong>Have you observed or experienced an unsupportive or badly handled response to a mental health issue in your current or previous workplace?</strong>',\n",
       " 'Describe the circumstances of the badly handled or unsupportive response.',\n",
       " '<strong>Have you observed or experienced supportive or well handled response to a mental health issue in your current or previous workplace?</strong>',\n",
       " 'Overall, how well do you think the tech industry supports employees with mental health issues?',\n",
       " 'Briefly describe what you think the industry as a whole and/or employers could do to improve mental health support for employees.',\n",
       " 'If there is anything else you would like to tell us that has not been covered by the survey questions, please use this space to do so.',\n",
       " 'Would you be willing to talk to one of us more extensively about your experiences with mental health issues in the tech industry? (Note that all interview responses would be used <em>anonymously</em>\\xa0and only with your permission.)',\n",
       " 'What is your age?',\n",
       " 'What is your gender?',\n",
       " 'What country do you <strong>live</strong> in?',\n",
       " 'What US state or territory do you <strong>live</strong> in?',\n",
       " 'What is your race?',\n",
       " 'What country do you <strong>work</strong> in?',\n",
       " 'What US state or territory do you <strong>work</strong> in?',\n",
       " 'Start Date (UTC)',\n",
       " 'Submit Date (UTC)',\n",
       " 'Network ID']"
      ]
     },
     "execution_count": 211,
     "metadata": {},
     "output_type": "execute_result"
    }
   ],
   "source": [
    "data.columns.to_list()"
   ]
  },
  {
   "cell_type": "markdown",
   "id": "99bb90af",
   "metadata": {},
   "source": [
    "# Important\n",
    "Since the goal of this notebook is on 'Mental health in Technology related jobs', it is important that we stick to it.\n",
    "<br>Here we only care about those individuals who actually have a Tech related job. \n",
    "<br>Therefore we will be removing columns that does not add to our goal."
   ]
  },
  {
   "cell_type": "code",
   "execution_count": 212,
   "id": "6f7a4fd0",
   "metadata": {},
   "outputs": [],
   "source": [
    "data.drop(columns=['#',\n",
    "                 'Do you know the options for mental health care available under your employer-provided health coverage?',\n",
    "                 'Does your employer offer resources to learn more about mental health disorders and options for seeking help?',\n",
    "                 'Is your anonymity protected if you choose to take advantage of mental health or substance abuse treatment resources provided by your employer?',\n",
    "                 'If a mental health issue prompted you to request a medical leave from work, how easy or difficult would it be to ask for that leave?',\n",
    "                 'Would you feel more comfortable talking to your coworkers about your physical health or your mental health?',\n",
    "                 'Would you feel comfortable discussing a mental health issue with your direct supervisor(s)?',\n",
    "                 'Have you ever discussed your mental health with your employer?',\n",
    "                 'Describe the conversation you had with your employer about your mental health, including their reactions and what actions were taken to address your mental health issue/questions.',\n",
    "                 'Would you feel comfortable discussing a mental health issue with your coworkers?',\n",
    "                 'Have you ever discussed your mental health with coworkers?',\n",
    "                 'Describe the conversation with coworkers you had about your mental health including their reactions.',\n",
    "                 \"Have you ever had a coworker discuss their or another coworker's mental health with you?\",\n",
    "                 'Describe the conversation your coworker had with you about their mental health (please do not use names).',\n",
    "                 'Overall, how much importance does your employer place on physical health?',\n",
    "                 'Overall, how much importance does your employer place on mental health?',\n",
    "                 'Do you know local or online resources to seek help for a mental health issue?',\n",
    "                 '<strong>If you have been diagnosed or treated for a mental health disorder, do you ever reveal this to clients or business contacts?</strong>',\n",
    "                 '<strong>If you have been diagnosed or treated for a mental health disorder, do you ever reveal this to coworkers or employees?</strong>',\n",
    "                 'If you have revealed a mental health disorder to a coworker or employee, how has this impacted you or the relationship?',\n",
    "                 'Do you believe your productivity is ever affected by a mental health issue?',\n",
    "                 'If yes, what percentage of your work time (time performing primary or secondary job functions) is affected by a mental health issue?',\n",
    "                 '<strong>Do you have previous employers?</strong>',\n",
    "                 'Was your employer primarily a tech company/organization?',\n",
    "                 '<strong>Have your previous employers provided mental health benefits?</strong>',\n",
    "                 '<strong>Were you aware of the options for mental health care provided by your previous employers?</strong>',\n",
    "                 'Did your previous employers ever formally discuss mental health (as part of a wellness campaign or other official communication)?',\n",
    "                 'Did your previous employers provide resources to learn more about mental health disorders and how to seek help?',\n",
    "                 'Was your anonymity protected if you chose to take advantage of mental health or substance abuse treatment resources with previous employers?',\n",
    "                 'Would you have felt more comfortable talking to your previous employer about your physical health or your mental health?',\n",
    "                 'Would you have been willing to discuss your mental health with your direct supervisor(s)?',\n",
    "                 'Did you ever discuss your mental health with your previous employer?',\n",
    "                 'Describe the conversation you had with your previous employer about your mental health, including their reactions and actions taken to address your mental health issue/questions.',\n",
    "                 '<strong>Would you have been willing to discuss your mental health with your coworkers at previous employers?</strong>',\n",
    "                 'Did you ever discuss your mental health with a previous coworker(s)?',\n",
    "                 'Describe the conversation you had with your previous coworkers about your mental health including their reactions.',\n",
    "                 \"Did you ever have a previous coworker discuss their or another coworker's mental health with you?\",\n",
    "                 'Describe the conversation your coworker had with you about their mental health (please do not use names)..1',\n",
    "                 'Overall, how much importance did your previous employer place on physical health?',\n",
    "                 'Overall, how much importance did your previous employer place on mental health?',\n",
    "                 'Anxiety Disorder (Generalized, Social, Phobia, etc).1',\n",
    "                 'Mood Disorder (Depression, Bipolar Disorder, etc).1',\n",
    "                 'Anxiety Disorder (Generalized, Social, Phobia, etc).2',\n",
    "                 'Mood Disorder (Depression, Bipolar Disorder, etc).2',\n",
    "                   'Have you had a mental health disorder in the past?',\n",
    "                 'If you have a mental health disorder, how often do you feel that it interferes with your work <strong>when being treated effectively?</strong>',\n",
    "                 'If you have a mental health disorder, how often do you feel that it interferes with your work <strong>when <em>NOT</em> being treated effectively (i.e., when you are experiencing symptoms)?</strong>',\n",
    "                 'Have your observations of how another individual who discussed a mental health issue made you less likely to reveal a mental health issue yourself in your current workplace?',\n",
    "                 'How willing would you be to share with friends and family that you have a mental illness?',\n",
    "                 'Would you be willing to bring up a physical health issue with a potential employer in an interview?',\n",
    "                 'Why or why not?',\n",
    "                 'Would you bring up your mental health with a potential employer in an interview?',\n",
    "                 'Why or why not?.1',\n",
    "                 'Are you openly identified at work as a person with a mental health issue?',\n",
    "                 'Has being identified as a person with a mental health issue affected your career?',\n",
    "                 'If they knew you suffered from a mental health disorder,\\xa0how do you think that team members/co-workers would react?',\n",
    "                 '<strong>Have you observed or experienced an unsupportive or badly handled response to a mental health issue in your current or previous workplace?</strong>',\n",
    "                 'Describe the circumstances of the badly handled or unsupportive response.',\n",
    "                 '<strong>Have you observed or experienced supportive or well handled response to a mental health issue in your current or previous workplace?</strong>',\n",
    "                 'Overall, how well do you think the tech industry supports employees with mental health issues?',\n",
    "                 'Briefly describe what you think the industry as a whole and/or employers could do to improve mental health support for employees.',\n",
    "                 'If there is anything else you would like to tell us that has not been covered by the survey questions, please use this space to do so.',\n",
    "                 'Would you be willing to talk to one of us more extensively about your experiences with mental health issues in the tech industry? (Note that all interview responses would be used <em>anonymously</em>\\xa0and only with your permission.)',\n",
    "                 'What US state or territory do you <strong>live</strong> in?',\n",
    "                 'What is your race?',\n",
    "                 'What US state or territory do you <strong>work</strong> in?',\n",
    "                 'Start Date (UTC)',\n",
    "                 'Submit Date (UTC)',\n",
    "                 'Network ID'\n",
    "], inplace=True , axis=1)"
   ]
  },
  {
   "cell_type": "markdown",
   "id": "99fc1637",
   "metadata": {},
   "source": [
    "Let's see if it worked."
   ]
  },
  {
   "cell_type": "code",
   "execution_count": 213,
   "id": "0c2143a6",
   "metadata": {},
   "outputs": [
    {
     "data": {
      "text/plain": [
       "(756, 15)"
      ]
     },
     "execution_count": 213,
     "metadata": {},
     "output_type": "execute_result"
    }
   ],
   "source": [
    "data.shape"
   ]
  },
  {
   "cell_type": "markdown",
   "id": "03fc2575",
   "metadata": {},
   "source": [
    "Look's like it worked!\n",
    "<br>We can now go ahead and rename these columns"
   ]
  },
  {
   "cell_type": "code",
   "execution_count": 214,
   "id": "bde2e17c",
   "metadata": {},
   "outputs": [],
   "source": [
    "data.columns = ['Self-employed?', 'Num. Employees', 'Tech company?',\n",
    "               'Tech related role?', 'M-H benefits?','Workplace Discussion?','Medical Coverage?', \n",
    "                'Current illness', 'Previously diagnosed?','Sought help?', \n",
    "                'Illness history?', 'Age', 'Gender', 'Live Country',\n",
    "                   'Work Country']"
   ]
  },
  {
   "cell_type": "markdown",
   "id": "05ba2e93",
   "metadata": {},
   "source": [
    "Now we can move on and start working with the missing values.\n",
    "<br>We start by counting the amount of missing values in each column"
   ]
  },
  {
   "cell_type": "code",
   "execution_count": 215,
   "id": "7ed4d03e",
   "metadata": {
    "scrolled": false
   },
   "outputs": [
    {
     "data": {
      "text/plain": [
       "Self-employed?             0\n",
       "Current illness            0\n",
       "Sought help?               0\n",
       "Illness history?           0\n",
       "Age                        2\n",
       "Live Country               2\n",
       "Work Country               2\n",
       "Gender                    13\n",
       "Num. Employees           113\n",
       "Tech company?            113\n",
       "Tech related role?       113\n",
       "M-H benefits?            113\n",
       "Workplace Discussion?    113\n",
       "Previously diagnosed?    432\n",
       "Medical Coverage?        643\n",
       "dtype: int64"
      ]
     },
     "execution_count": 215,
     "metadata": {},
     "output_type": "execute_result"
    }
   ],
   "source": [
    "data.isna().sum().sort_values()"
   ]
  },
  {
   "cell_type": "markdown",
   "id": "507b8f96",
   "metadata": {},
   "source": [
    "OOPS! Look's like our important column 'Tech related role?' has some missing values.\n",
    "<br>And we are only interested in those which actually have Tech related roles.\n",
    "<br>Since this column is of vital importance, imputing these mising values will not be okay.\n",
    "<br>Therefore, our only option is to get rid of all the rows which has missing values in the 'Tech related role?' column"
   ]
  },
  {
   "cell_type": "code",
   "execution_count": 216,
   "id": "1b24a5df",
   "metadata": {},
   "outputs": [
    {
     "data": {
      "text/plain": [
       "Self-employed?             0\n",
       "Num. Employees             0\n",
       "Tech company?              0\n",
       "Tech related role?         0\n",
       "M-H benefits?              0\n",
       "Workplace Discussion?      0\n",
       "Current illness            0\n",
       "Sought help?               0\n",
       "Illness history?           0\n",
       "Age                        0\n",
       "Live Country               0\n",
       "Work Country               0\n",
       "Gender                     6\n",
       "Previously diagnosed?    368\n",
       "Medical Coverage?        643\n",
       "dtype: int64"
      ]
     },
     "execution_count": 216,
     "metadata": {},
     "output_type": "execute_result"
    }
   ],
   "source": [
    "#Filter out data based on 'Na' values in the 'Tech related role?' column.\n",
    "data = data[data['Tech related role?'].notna()]\n",
    "data.isna().sum().sort_values()"
   ]
  },
  {
   "cell_type": "markdown",
   "id": "bb31ee96",
   "metadata": {},
   "source": [
    "That removed 113 rows from our data, but we still have 643 rows left, no big deal.\n",
    "<br>As mentioned earlier, we only care about those who have a Tech related job.\n",
    "<br>So let's see the values in that column."
   ]
  },
  {
   "cell_type": "code",
   "execution_count": 217,
   "id": "f4a97065",
   "metadata": {},
   "outputs": [
    {
     "data": {
      "text/plain": [
       "1.0    595\n",
       "0.0     48\n",
       "Name: Tech related role?, dtype: int64"
      ]
     },
     "execution_count": 217,
     "metadata": {},
     "output_type": "execute_result"
    }
   ],
   "source": [
    "data['Tech related role?'].value_counts()"
   ]
  },
  {
   "cell_type": "markdown",
   "id": "60e3a596",
   "metadata": {},
   "source": [
    "We have some insignificant answers in our dataset.\n",
    "<br>We only care about those who have a Tech related job, therefore we will drop the rows of those who does not have a Tech related role."
   ]
  },
  {
   "cell_type": "code",
   "execution_count": 218,
   "id": "d4c19f5c",
   "metadata": {},
   "outputs": [],
   "source": [
    "data.drop(data[data['Tech related role?'] == 0.0].index, inplace=True)"
   ]
  },
  {
   "cell_type": "markdown",
   "id": "337c79f2",
   "metadata": {},
   "source": [
    "Now our dataframe only consists of data from individuals with tech related roles.\n",
    "<br>Thereforewe can now actually drop this column."
   ]
  },
  {
   "cell_type": "code",
   "execution_count": 219,
   "id": "9ff8a0f4",
   "metadata": {},
   "outputs": [],
   "source": [
    "data.drop(columns='Tech related role?',inplace=True)"
   ]
  },
  {
   "cell_type": "markdown",
   "id": "74fe1578",
   "metadata": {},
   "source": [
    "Now we can move on, knowing we have the correct data to work on.\n",
    "<br>Let's handle our gender column.\n",
    "<br><br>Since we only have 6 missing values, rather than deleting these entries, I will classify them as 'Other'"
   ]
  },
  {
   "cell_type": "code",
   "execution_count": 220,
   "id": "1eebdd97",
   "metadata": {},
   "outputs": [],
   "source": [
    "data['Gender'] = data['Gender'].fillna('Other')"
   ]
  },
  {
   "cell_type": "markdown",
   "id": "b72328be",
   "metadata": {},
   "source": [
    "Let's take a quick look at our value counts from our gender column.\n",
    "<br>To make it easier, I will transform all of the entries to lowercase, and strip unnecessary whitespaces."
   ]
  },
  {
   "cell_type": "code",
   "execution_count": 222,
   "id": "057b8df4",
   "metadata": {
    "scrolled": true
   },
   "outputs": [
    {
     "data": {
      "text/plain": [
       "male                           357\n",
       "female                         130\n",
       "m                               38\n",
       "f                               22\n",
       "woman                            5\n",
       "man                              4\n",
       "nonbinary                        4\n",
       "other                            4\n",
       "cis male                         3\n",
       "female (cis)                     2\n",
       "mail                             1\n",
       "sometimes                        1\n",
       "none                             1\n",
       "transfeminine                    1\n",
       "\\-                               1\n",
       "f, cisgender                     1\n",
       "cis female                       1\n",
       "cis-female                       1\n",
       "genderqueer/non-binary           1\n",
       "genderqueer demigirl             1\n",
       "non binary                       1\n",
       "contextual                       1\n",
       "female (cisgender)               1\n",
       "male-ish                         1\n",
       "cis-male                         1\n",
       "agender/genderfluid              1\n",
       "non-binary                       1\n",
       "my sex is female.                1\n",
       "genderfluid                      1\n",
       "god king of the valajar          1\n",
       "uhhhhhhhhh fem genderqueer?      1\n",
       "male (cis)                       1\n",
       "femail                           1\n",
       "femalw                           1\n",
       "cis hetero male                  1\n",
       "dude                             1\n",
       "Name: Gender, dtype: int64"
      ]
     },
     "execution_count": 222,
     "metadata": {},
     "output_type": "execute_result"
    }
   ],
   "source": [
    "data['Gender'] = data['Gender'].str.lower().str.strip()\n",
    "data['Gender'].value_counts()"
   ]
  },
  {
   "cell_type": "markdown",
   "id": "bd870fbc",
   "metadata": {},
   "source": [
    "Wow! Interesting.\n",
    "<br>For this notebook, I will split the genders into three columns, Male, Female and Other.\n",
    "<br>Done as follows:\n",
    "- First, I will create 3 lists, one for Male, Female, Other.\n",
    "- Then, I will classify the values from above into each category/list.\n",
    "- And replace all of these values with a simple M,F,O into our dataframe."
   ]
  },
  {
   "cell_type": "code",
   "execution_count": 114,
   "id": "0e3d8275",
   "metadata": {},
   "outputs": [],
   "source": [
    "#Create the 3 lists\n",
    "Male = ['male','m','man','cis male','mail','male-ish','cis-male','male (cis)','cis hetero male','dude']\n",
    "\n",
    "Female = ['female','f','woman','female (cis)','f, cisgender','cis female','cis-female','genderqueer demigirl',\n",
    "          'female (cisgender)','my sex is female.','femail','femalw']\n",
    "\n",
    "Other = ['nonbinary','other','sometimes','none','transfeminine','\\-','genderqueer/non-binary','non binary','contextual',\n",
    "         'agender/genderfluid','non-binary','genderfluid','god king of the valajar','uhhhhhhhhh fem genderqueer?']"
   ]
  },
  {
   "cell_type": "code",
   "execution_count": 115,
   "id": "ed5e636e",
   "metadata": {},
   "outputs": [],
   "source": [
    "#Transform the results into a simple format\n",
    "data['Gender'] = data['Gender'].replace(Male,'M')\n",
    "data['Gender'] = data['Gender'].replace(Female,'F')\n",
    "data['Gender'] = data['Gender'].replace(Other,'O')"
   ]
  },
  {
   "cell_type": "code",
   "execution_count": 116,
   "id": "c88e3981",
   "metadata": {},
   "outputs": [
    {
     "data": {
      "text/plain": [
       "M    408\n",
       "F    167\n",
       "O     20\n",
       "Name: Gender, dtype: int64"
      ]
     },
     "execution_count": 116,
     "metadata": {},
     "output_type": "execute_result"
    }
   ],
   "source": [
    "data['Gender'].value_counts()"
   ]
  },
  {
   "cell_type": "markdown",
   "id": "0ea0b91c",
   "metadata": {},
   "source": [
    "### Hooray, that worked!"
   ]
  },
  {
   "cell_type": "markdown",
   "id": "c014712a",
   "metadata": {},
   "source": [
    "Let's take a look at all of the unique values that we have in our 'M-H benefits' column."
   ]
  },
  {
   "cell_type": "code",
   "execution_count": 117,
   "id": "0d5d857f",
   "metadata": {},
   "outputs": [
    {
     "data": {
      "text/plain": [
       "Yes                               327\n",
       "I don't know                      158\n",
       "No                                 88\n",
       "Not eligible for coverage / NA     22\n",
       "Name: M-H benefits?, dtype: int64"
      ]
     },
     "execution_count": 117,
     "metadata": {},
     "output_type": "execute_result"
    }
   ],
   "source": [
    "data['M-H benefits?'].value_counts()"
   ]
  },
  {
   "cell_type": "markdown",
   "id": "ff7b2c6e",
   "metadata": {},
   "source": [
    "Look's like we have a redundant entry type, 'Not eligible for coverage / NA' is the same as 'No'. \n",
    "<br>Therefore we can change these entries to a 'No' value."
   ]
  },
  {
   "cell_type": "code",
   "execution_count": 118,
   "id": "450b6ca5",
   "metadata": {},
   "outputs": [],
   "source": [
    "data.loc[data['M-H benefits?']=='Not eligible for coverage / NA' , 'M-H benefits?'] = 'No'"
   ]
  },
  {
   "cell_type": "markdown",
   "id": "297211b4",
   "metadata": {},
   "source": [
    "On to 'Previously diagnosed?' column.\n",
    "<br>Here we have 368 missing values. That's 61.85%.\n",
    "<br>We'll start with looking at the value counts again"
   ]
  },
  {
   "cell_type": "code",
   "execution_count": 119,
   "id": "5284b8fb",
   "metadata": {},
   "outputs": [
    {
     "data": {
      "text/plain": [
       "Yes    247\n",
       "No       6\n",
       "Name: Previously diagnosed?, dtype: int64"
      ]
     },
     "execution_count": 119,
     "metadata": {},
     "output_type": "execute_result"
    }
   ],
   "source": [
    "data['Previously diagnosed?'].value_counts()"
   ]
  },
  {
   "cell_type": "markdown",
   "id": "01cbd9bb",
   "metadata": {},
   "source": [
    "Since we have a lot of missing values, more than answers, I do not think that we can assign these unanswered rows to just a 'Yes' or 'No'.\n",
    "<br>It would be safer to create another value, 'Unspecified' and work from there."
   ]
  },
  {
   "cell_type": "code",
   "execution_count": 120,
   "id": "95883238",
   "metadata": {},
   "outputs": [],
   "source": [
    "data['Previously diagnosed?'].fillna('Unspecified', inplace=True)"
   ]
  },
  {
   "cell_type": "markdown",
   "id": "2ebd6129",
   "metadata": {},
   "source": [
    "Look's like everything is fine.\n",
    "<br>Let's look at the missing values from our dataframe again."
   ]
  },
  {
   "cell_type": "code",
   "execution_count": 121,
   "id": "3a538941",
   "metadata": {},
   "outputs": [
    {
     "name": "stdout",
     "output_type": "stream",
     "text": [
      "Percentage of missing values for each column is\n",
      "\n"
     ]
    },
    {
     "data": {
      "text/plain": [
       "Self-employed?             0.0\n",
       "Num. Employees             0.0\n",
       "Tech company?              0.0\n",
       "M-H benefits?              0.0\n",
       "Workplace Discussion?      0.0\n",
       "Medical Coverage?        100.0\n",
       "Current illness            0.0\n",
       "Previously diagnosed?      0.0\n",
       "Sought help?               0.0\n",
       "Illness history?           0.0\n",
       "Age                        0.0\n",
       "Gender                     0.0\n",
       "Live Country               0.0\n",
       "Work Country               0.0\n",
       "dtype: float64"
      ]
     },
     "execution_count": 121,
     "metadata": {},
     "output_type": "execute_result"
    }
   ],
   "source": [
    "a = 100 * (data.isna().sum()) / len(data)\n",
    "print( 'Percentage of missing values for each column is\\n')\n",
    "a"
   ]
  },
  {
   "cell_type": "markdown",
   "id": "7a7a28ea",
   "metadata": {},
   "source": [
    "As we can see, we now only have one last column, 'Medical Coverage?' left to deal with.\n",
    "<br>Unfortunately for us, we are missing 100% of the values\n",
    "<br>Luckily for us, we can fix this.\n",
    "- First, we look at whether or not the column, 'M-H benefits?', which is provided by the company has a 'Yes' answer or not.\n",
    "<br> Around 78% of US companies offer Medical health benefits, which includes those for mental health. Therefore, if the entry, or row, has a 'Yes' in the 'M-H benefits?' column, we will set their 'Medical coverage?' column, to 'Yes'.\n",
    "<br>This is done as follows:"
   ]
  },
  {
   "cell_type": "code",
   "execution_count": 122,
   "id": "739633a0",
   "metadata": {},
   "outputs": [],
   "source": [
    "data.loc[data['M-H benefits?']=='Yes', 'Medical Coverage?'] = 'Yes'"
   ]
  },
  {
   "cell_type": "markdown",
   "id": "7af9e2ac",
   "metadata": {},
   "source": [
    "<br>According to 'OECD-ilibrary.org' , in the year of 2017, The United Kingdom, reportedly, had a perfect 100% of it's residents registered to a Medical health provider, either Public or Private, which includes Mental health coverage.\n",
    "<br>According to BBC, in the UK, healthcare is univeral and paid for by 18% tax of a citizen's income.\n",
    "<br>Therefore, we can change all ot the 'Medical Coverage?' column values to 'Yes', if they live in The United Kingdom."
   ]
  },
  {
   "cell_type": "code",
   "execution_count": 123,
   "id": "1ee722e2",
   "metadata": {},
   "outputs": [],
   "source": [
    "data.loc[data['Live Country']=='United Kingdom', 'Medical Coverage?'] = 'Yes'"
   ]
  },
  {
   "cell_type": "markdown",
   "id": "95ab48bf",
   "metadata": {},
   "source": [
    "According to 'OECD-ilibrary.org', in the year of 2017, The United States of America, had a reported 90% of individuals registered to health care, which includes Mental health coverage.\n",
    "<br>So, I will impute this dataset to have 90% of people living in the USA, from our specific dataset, to have medical coverage.\n",
    "- I will start by getting the amount of people living in the USA from this survey as follows:"
   ]
  },
  {
   "cell_type": "code",
   "execution_count": 124,
   "id": "c77ffdd2",
   "metadata": {},
   "outputs": [
    {
     "name": "stdout",
     "output_type": "stream",
     "text": [
      "Amount of USA residents :416\n"
     ]
    }
   ],
   "source": [
    "US_total = data.loc[data['Live Country']=='United States of America']\n",
    "print('Amount of USA residents :{}'.format(len(US_total)))"
   ]
  },
  {
   "cell_type": "markdown",
   "id": "18225005",
   "metadata": {},
   "source": [
    "- Now I will get the amount of USA residents that does not yet have medical coverage provided by their employer"
   ]
  },
  {
   "cell_type": "code",
   "execution_count": 125,
   "id": "778ed795",
   "metadata": {},
   "outputs": [
    {
     "name": "stdout",
     "output_type": "stream",
     "text": [
      "Amount of USA residents without Medical coverage provided by their employer :133\n",
      "This is 31.97%\n"
     ]
    }
   ],
   "source": [
    "US_nan = data.loc[(data['Medical Coverage?'].isna()) & (data['Live Country']=='United States of America')]\n",
    "print('Amount of USA residents without Medical coverage provided by their employer :{}'.format(len(US_nan)))\n",
    "\n",
    "#Percentage of uninsured\n",
    "Uninsured = round(100*((len(US_nan)) / (len(US_total))), 2)\n",
    "\n",
    "print('This is ' + str(Uninsured) + '%')"
   ]
  },
  {
   "cell_type": "markdown",
   "id": "d72d4a91",
   "metadata": {},
   "source": [
    "31.97% is maybe too high, and should be around 10%.\n",
    "<br>So, now I will draw random samples from the 31.97% of NaN values, and set them to 'Yes'.\n",
    "<br>The goal of this, is to have around 10% of USA residents to not have health care.\n",
    "<br><br>Since we have a total of 416 US residents, we will make 42 (10.09%) to have No.\n",
    "<br>Then I will set the rest to 'Yes'"
   ]
  },
  {
   "cell_type": "code",
   "execution_count": 126,
   "id": "6b001bbf",
   "metadata": {},
   "outputs": [],
   "source": [
    "Nan_list = list(US_nan.index)\n",
    "Random_samples = random.sample(Nan_list,42)\n",
    "(Random_samples.sort())"
   ]
  },
  {
   "cell_type": "markdown",
   "id": "f8213501",
   "metadata": {},
   "source": [
    "Now that we have our random sample, we will set these random entries equal to 'No' in the 'Medical Coverage?' column."
   ]
  },
  {
   "cell_type": "code",
   "execution_count": 127,
   "id": "78c1e839",
   "metadata": {},
   "outputs": [],
   "source": [
    "data.at[Random_samples , 'Medical Coverage?'] = 'No'"
   ]
  },
  {
   "cell_type": "markdown",
   "id": "2558f6a0",
   "metadata": {},
   "source": [
    "Now, all of the other values inside our column 'Medical Coverage?' of individuals from the USA has to be set to yes."
   ]
  },
  {
   "cell_type": "code",
   "execution_count": 128,
   "id": "d6c60cbe",
   "metadata": {},
   "outputs": [],
   "source": [
    "data.loc[(data['Live Country']=='United States of America') & (data['Medical Coverage?'].isna()) , 'Medical Coverage?'] = 'Yes'"
   ]
  },
  {
   "cell_type": "markdown",
   "id": "8b33d249",
   "metadata": {},
   "source": [
    "Great, now 90% of USA individuals have Medical insurance.\n",
    "<br>Let's see how many null values we have left."
   ]
  },
  {
   "cell_type": "code",
   "execution_count": 129,
   "id": "8eca8ff8",
   "metadata": {},
   "outputs": [
    {
     "data": {
      "text/plain": [
       "99"
      ]
     },
     "execution_count": 129,
     "metadata": {},
     "output_type": "execute_result"
    }
   ],
   "source": [
    "data['Medical Coverage?'].isna().sum()"
   ]
  },
  {
   "cell_type": "markdown",
   "id": "f3832396",
   "metadata": {},
   "source": [
    "Interestingly, that is quite a lot. In order to understand these missing values, let's look at the different country counts we have in our dataset."
   ]
  },
  {
   "cell_type": "code",
   "execution_count": 130,
   "id": "e00c7e97",
   "metadata": {
    "scrolled": true
   },
   "outputs": [
    {
     "data": {
      "text/plain": [
       "United States of America    416\n",
       "United Kingdom               47\n",
       "Germany                      16\n",
       "France                       14\n",
       "Canada                       14\n",
       "Spain                        12\n",
       "Netherlands                  10\n",
       "India                         8\n",
       "Australia                     7\n",
       "Switzerland                   5\n",
       "Romania                       4\n",
       "South Africa                  3\n",
       "New Zealand                   3\n",
       "Mexico                        3\n",
       "Japan                         3\n",
       "Portugal                      2\n",
       "Sweden                        2\n",
       "Russia                        2\n",
       "Hungary                       2\n",
       "Ireland                       2\n",
       "Argentina                     2\n",
       "Bulgaria                      2\n",
       "Singapore                     1\n",
       "Belgium                       1\n",
       "Slovakia                      1\n",
       "Poland                        1\n",
       "Ukraine                       1\n",
       "Austria                       1\n",
       "Bangladesh                    1\n",
       "Greece                        1\n",
       "Italy                         1\n",
       "Israel                        1\n",
       "Croatia                       1\n",
       "Finland                       1\n",
       "Czech Republic                1\n",
       "Indonesia                     1\n",
       "Iceland                       1\n",
       "Turkey                        1\n",
       "Name: Live Country, dtype: int64"
      ]
     },
     "execution_count": 130,
     "metadata": {},
     "output_type": "execute_result"
    }
   ],
   "source": [
    "data['Live Country'].value_counts()"
   ]
  },
  {
   "cell_type": "markdown",
   "id": "d7343084",
   "metadata": {},
   "source": [
    "As we can see there is quite a lot. Once again we will make use of the 'OECD-ilibrary.org' data, to fill in some of these missing data. \n",
    "<br>The following countries have a 100% record for individuals with health care,\n",
    "\n",
    "Germany                      \n",
    "Canada                       \n",
    "France                       \n",
    "Spain                        \n",
    "Netherlands\n",
    "\n",
    "Therefore, we will change the column 'Medical Coverage?' accordingly.\n",
    "\n",
    "<br>This source can be found here:\n",
    "<br>https://www.oecd-ilibrary.org/sites/health_glance-2017-24-en/index.html?itemId=/content/component/health_glance-2017-24-en"
   ]
  },
  {
   "cell_type": "code",
   "execution_count": 131,
   "id": "0824a1c2",
   "metadata": {},
   "outputs": [],
   "source": [
    "data.loc[(data['Live Country']=='Germany') | (data['Live Country']=='France') | (data['Live Country']=='Canada') |\n",
    "         (data['Live Country']=='Spain') | (data['Live Country']=='Netherlands')\n",
    "         , 'Medical Coverage?'] = 'Yes'"
   ]
  },
  {
   "cell_type": "markdown",
   "id": "7e111960",
   "metadata": {},
   "source": [
    "If we now take a look at the amount of missing values left, we will see that there is 55 missing values or 9.24%.\n",
    "<br>This is not a lot, and will therefore be dropped."
   ]
  },
  {
   "cell_type": "code",
   "execution_count": 132,
   "id": "60999cca",
   "metadata": {},
   "outputs": [
    {
     "data": {
      "text/plain": [
       "55"
      ]
     },
     "execution_count": 132,
     "metadata": {},
     "output_type": "execute_result"
    }
   ],
   "source": [
    "data['Medical Coverage?'].isna().sum()"
   ]
  },
  {
   "cell_type": "code",
   "execution_count": 133,
   "id": "ee937d0f",
   "metadata": {},
   "outputs": [],
   "source": [
    "data.dropna(inplace=True)"
   ]
  },
  {
   "cell_type": "markdown",
   "id": "34be1243",
   "metadata": {},
   "source": [
    "Our dataframe now looks like this:"
   ]
  },
  {
   "cell_type": "code",
   "execution_count": 134,
   "id": "0f695b31",
   "metadata": {},
   "outputs": [
    {
     "data": {
      "text/html": [
       "<div>\n",
       "<style scoped>\n",
       "    .dataframe tbody tr th:only-of-type {\n",
       "        vertical-align: middle;\n",
       "    }\n",
       "\n",
       "    .dataframe tbody tr th {\n",
       "        vertical-align: top;\n",
       "    }\n",
       "\n",
       "    .dataframe thead th {\n",
       "        text-align: right;\n",
       "    }\n",
       "</style>\n",
       "<table border=\"1\" class=\"dataframe\">\n",
       "  <thead>\n",
       "    <tr style=\"text-align: right;\">\n",
       "      <th></th>\n",
       "      <th>Self-employed?</th>\n",
       "      <th>Num. Employees</th>\n",
       "      <th>Tech company?</th>\n",
       "      <th>M-H benefits?</th>\n",
       "      <th>Workplace Discussion?</th>\n",
       "      <th>Medical Coverage?</th>\n",
       "      <th>Current illness</th>\n",
       "      <th>Previously diagnosed?</th>\n",
       "      <th>Sought help?</th>\n",
       "      <th>Illness history?</th>\n",
       "      <th>Age</th>\n",
       "      <th>Gender</th>\n",
       "      <th>Live Country</th>\n",
       "      <th>Work Country</th>\n",
       "    </tr>\n",
       "  </thead>\n",
       "  <tbody>\n",
       "    <tr>\n",
       "      <th>0</th>\n",
       "      <td>0</td>\n",
       "      <td>100-500</td>\n",
       "      <td>1.0</td>\n",
       "      <td>No</td>\n",
       "      <td>No</td>\n",
       "      <td>Yes</td>\n",
       "      <td>Possibly</td>\n",
       "      <td>Unspecified</td>\n",
       "      <td>1</td>\n",
       "      <td>No</td>\n",
       "      <td>27.0</td>\n",
       "      <td>F</td>\n",
       "      <td>United Kingdom</td>\n",
       "      <td>United Kingdom</td>\n",
       "    </tr>\n",
       "    <tr>\n",
       "      <th>1</th>\n",
       "      <td>0</td>\n",
       "      <td>100-500</td>\n",
       "      <td>1.0</td>\n",
       "      <td>Yes</td>\n",
       "      <td>No</td>\n",
       "      <td>Yes</td>\n",
       "      <td>Possibly</td>\n",
       "      <td>Unspecified</td>\n",
       "      <td>0</td>\n",
       "      <td>No</td>\n",
       "      <td>31.0</td>\n",
       "      <td>M</td>\n",
       "      <td>United Kingdom</td>\n",
       "      <td>United Kingdom</td>\n",
       "    </tr>\n",
       "    <tr>\n",
       "      <th>2</th>\n",
       "      <td>0</td>\n",
       "      <td>6-25</td>\n",
       "      <td>1.0</td>\n",
       "      <td>I don't know</td>\n",
       "      <td>I don't know</td>\n",
       "      <td>Yes</td>\n",
       "      <td>Yes</td>\n",
       "      <td>Yes</td>\n",
       "      <td>1</td>\n",
       "      <td>Yes</td>\n",
       "      <td>36.0</td>\n",
       "      <td>M</td>\n",
       "      <td>United States of America</td>\n",
       "      <td>United States of America</td>\n",
       "    </tr>\n",
       "    <tr>\n",
       "      <th>3</th>\n",
       "      <td>0</td>\n",
       "      <td>More than 1000</td>\n",
       "      <td>1.0</td>\n",
       "      <td>Yes</td>\n",
       "      <td>I don't know</td>\n",
       "      <td>Yes</td>\n",
       "      <td>Yes</td>\n",
       "      <td>Yes</td>\n",
       "      <td>1</td>\n",
       "      <td>I don't know</td>\n",
       "      <td>22.0</td>\n",
       "      <td>M</td>\n",
       "      <td>United States of America</td>\n",
       "      <td>United States of America</td>\n",
       "    </tr>\n",
       "    <tr>\n",
       "      <th>6</th>\n",
       "      <td>0</td>\n",
       "      <td>6-25</td>\n",
       "      <td>1.0</td>\n",
       "      <td>Yes</td>\n",
       "      <td>No</td>\n",
       "      <td>Yes</td>\n",
       "      <td>Yes</td>\n",
       "      <td>Yes</td>\n",
       "      <td>1</td>\n",
       "      <td>Yes</td>\n",
       "      <td>36.0</td>\n",
       "      <td>F</td>\n",
       "      <td>United States of America</td>\n",
       "      <td>United States of America</td>\n",
       "    </tr>\n",
       "  </tbody>\n",
       "</table>\n",
       "</div>"
      ],
      "text/plain": [
       "   Self-employed?  Num. Employees  Tech company? M-H benefits?  \\\n",
       "0               0         100-500            1.0            No   \n",
       "1               0         100-500            1.0           Yes   \n",
       "2               0            6-25            1.0  I don't know   \n",
       "3               0  More than 1000            1.0           Yes   \n",
       "6               0            6-25            1.0           Yes   \n",
       "\n",
       "  Workplace Discussion? Medical Coverage? Current illness  \\\n",
       "0                    No               Yes        Possibly   \n",
       "1                    No               Yes        Possibly   \n",
       "2          I don't know               Yes             Yes   \n",
       "3          I don't know               Yes             Yes   \n",
       "6                    No               Yes             Yes   \n",
       "\n",
       "  Previously diagnosed?  Sought help? Illness history?   Age Gender  \\\n",
       "0           Unspecified             1               No  27.0      F   \n",
       "1           Unspecified             0               No  31.0      M   \n",
       "2                   Yes             1              Yes  36.0      M   \n",
       "3                   Yes             1     I don't know  22.0      M   \n",
       "6                   Yes             1              Yes  36.0      F   \n",
       "\n",
       "               Live Country              Work Country  \n",
       "0            United Kingdom            United Kingdom  \n",
       "1            United Kingdom            United Kingdom  \n",
       "2  United States of America  United States of America  \n",
       "3  United States of America  United States of America  \n",
       "6  United States of America  United States of America  "
      ]
     },
     "execution_count": 134,
     "metadata": {},
     "output_type": "execute_result"
    }
   ],
   "source": [
    "data.head()"
   ]
  },
  {
   "cell_type": "markdown",
   "id": "3196755a",
   "metadata": {},
   "source": [
    "### Feature engineering\n",
    "Lastly, we need to do some feature engineering.\n",
    "- Self-employed values have to change from 0/1 to No/Yes\n",
    "- Tech company? values have to change from 0.0/1.0 to No/Yes\n",
    "- Sought help? values have to change from 0/1 to No/Yes\n",
    "- Age will also change from each respective value in designated bins/categories, named G1 - G9 (so we have 5-year age groups)"
   ]
  },
  {
   "cell_type": "code",
   "execution_count": 135,
   "id": "b49135a6",
   "metadata": {},
   "outputs": [],
   "source": [
    "data['Self-employed?'] = data['Self-employed?'].replace({1 : 'Yes' , 0 : 'No'})"
   ]
  },
  {
   "cell_type": "code",
   "execution_count": 136,
   "id": "ef9dbf57",
   "metadata": {},
   "outputs": [],
   "source": [
    "data['Tech company?'] = data['Tech company?'].replace({1.0 : 'Yes' , 0.0 : 'No'})"
   ]
  },
  {
   "cell_type": "code",
   "execution_count": 137,
   "id": "49829f25",
   "metadata": {},
   "outputs": [],
   "source": [
    "data['Sought help?'] = data['Sought help?'].replace({1 : 'Yes' , 0 : 'No'})"
   ]
  },
  {
   "cell_type": "code",
   "execution_count": 138,
   "id": "9b816328",
   "metadata": {},
   "outputs": [
    {
     "data": {
      "text/plain": [
       "count    540.000000\n",
       "mean      34.877778\n",
       "std        7.896587\n",
       "min       20.000000\n",
       "25%       29.000000\n",
       "50%       34.000000\n",
       "75%       40.000000\n",
       "max       66.000000\n",
       "Name: Age, dtype: float64"
      ]
     },
     "execution_count": 138,
     "metadata": {},
     "output_type": "execute_result"
    }
   ],
   "source": [
    "data['Age'].describe()"
   ]
  },
  {
   "cell_type": "code",
   "execution_count": 139,
   "id": "33702c3b",
   "metadata": {},
   "outputs": [
    {
     "data": {
      "text/plain": [
       "array([20.        , 25.11111111, 30.22222222, 35.33333333, 40.44444444,\n",
       "       45.55555556, 50.66666667, 55.77777778, 60.88888889, 66.        ])"
      ]
     },
     "execution_count": 139,
     "metadata": {},
     "output_type": "execute_result"
    }
   ],
   "source": [
    "age_min = data['Age'].min()\n",
    "age_max = data['Age'].max()\n",
    "\n",
    "bins = np.linspace(age_min, age_max, 10)\n",
    "labels = ['G1','G2','G3','G4','G5','G6','G7','G8','G9']\n",
    "bins"
   ]
  },
  {
   "cell_type": "code",
   "execution_count": 140,
   "id": "d7a658c6",
   "metadata": {},
   "outputs": [],
   "source": [
    "data['Age'] = pd.cut(x=data['Age'], bins=bins, labels=labels, include_lowest=True)"
   ]
  },
  {
   "cell_type": "markdown",
   "id": "853df16d",
   "metadata": {},
   "source": [
    "One last thing to do, is to convert all of these columns into the Category type.\n",
    "<br>By doing this, we will make it easier to do feature reduction next."
   ]
  },
  {
   "cell_type": "code",
   "execution_count": 141,
   "id": "1020a3c3",
   "metadata": {},
   "outputs": [],
   "source": [
    "column_names = list(data.columns)"
   ]
  },
  {
   "cell_type": "code",
   "execution_count": 142,
   "id": "aeffdc87",
   "metadata": {},
   "outputs": [],
   "source": [
    "for col in column_names:\n",
    "    data[col] = data[col].astype('category')"
   ]
  },
  {
   "cell_type": "code",
   "execution_count": 143,
   "id": "f91c6e70",
   "metadata": {},
   "outputs": [
    {
     "name": "stdout",
     "output_type": "stream",
     "text": [
      "<class 'pandas.core.frame.DataFrame'>\n",
      "Int64Index: 540 entries, 0 to 754\n",
      "Data columns (total 14 columns):\n",
      " #   Column                 Non-Null Count  Dtype   \n",
      "---  ------                 --------------  -----   \n",
      " 0   Self-employed?         540 non-null    category\n",
      " 1   Num. Employees         540 non-null    category\n",
      " 2   Tech company?          540 non-null    category\n",
      " 3   M-H benefits?          540 non-null    category\n",
      " 4   Workplace Discussion?  540 non-null    category\n",
      " 5   Medical Coverage?      540 non-null    category\n",
      " 6   Current illness        540 non-null    category\n",
      " 7   Previously diagnosed?  540 non-null    category\n",
      " 8   Sought help?           540 non-null    category\n",
      " 9   Illness history?       540 non-null    category\n",
      " 10  Age                    540 non-null    category\n",
      " 11  Gender                 540 non-null    category\n",
      " 12  Live Country           540 non-null    category\n",
      " 13  Work Country           540 non-null    category\n",
      "dtypes: category(14)\n",
      "memory usage: 14.8 KB\n"
     ]
    }
   ],
   "source": [
    "data.info()"
   ]
  },
  {
   "cell_type": "markdown",
   "id": "cad0b09d",
   "metadata": {},
   "source": [
    "Another step that we can do, is to check the amount of different values in each column, and see if we can reduce this dataset even further."
   ]
  },
  {
   "cell_type": "code",
   "execution_count": 144,
   "id": "861db626",
   "metadata": {},
   "outputs": [
    {
     "data": {
      "text/plain": [
       "Self-employed?            1\n",
       "Num. Employees            6\n",
       "Tech company?             2\n",
       "M-H benefits?             3\n",
       "Workplace Discussion?     3\n",
       "Medical Coverage?         2\n",
       "Current illness           4\n",
       "Previously diagnosed?     3\n",
       "Sought help?              2\n",
       "Illness history?          3\n",
       "Age                       9\n",
       "Gender                    3\n",
       "Live Country             15\n",
       "Work Country             15\n",
       "dtype: int64"
      ]
     },
     "execution_count": 144,
     "metadata": {},
     "output_type": "execute_result"
    }
   ],
   "source": [
    "data.nunique()"
   ]
  },
  {
   "cell_type": "markdown",
   "id": "15db0c01",
   "metadata": {},
   "source": [
    "Cool. As we can see, our column 'Self-employed' only has one unique value. Let's see what it is:"
   ]
  },
  {
   "cell_type": "code",
   "execution_count": 145,
   "id": "9b87f6ac",
   "metadata": {},
   "outputs": [
    {
     "data": {
      "text/plain": [
       "['No']\n",
       "Categories (1, object): ['No']"
      ]
     },
     "execution_count": 145,
     "metadata": {},
     "output_type": "execute_result"
    }
   ],
   "source": [
    "data['Self-employed?'].unique()"
   ]
  },
  {
   "cell_type": "markdown",
   "id": "b10890b0",
   "metadata": {},
   "source": [
    "Look's like our column only contains 'No', meaning that everyone who answered this survey is not self-employed.\n",
    "<br>We will go ahead and drop this column now."
   ]
  },
  {
   "cell_type": "code",
   "execution_count": 146,
   "id": "8da2f323",
   "metadata": {},
   "outputs": [],
   "source": [
    "data.drop(columns='Self-employed?', inplace=True)"
   ]
  },
  {
   "cell_type": "markdown",
   "id": "e4573cfa",
   "metadata": {},
   "source": [
    "### Hooray\n",
    "We are now done with our data transformation and feature engineering."
   ]
  },
  {
   "cell_type": "code",
   "execution_count": 147,
   "id": "f456b3e6",
   "metadata": {},
   "outputs": [
    {
     "data": {
      "text/plain": [
       "<AxesSubplot:title={'center':'Distribution of different age groups'}, xlabel='Age groups', ylabel='Number of individuals'>"
      ]
     },
     "execution_count": 147,
     "metadata": {},
     "output_type": "execute_result"
    },
    {
     "data": {
      "image/png": "[encoded data removed]",
      "text/plain": [
       "<Figure size 432x288 with 1 Axes>"
      ]
     },
     "metadata": {
      "needs_background": "light"
     },
     "output_type": "display_data"
    }
   ],
   "source": [
    "data['Age'].value_counts().plot(kind='bar',xlabel='Age groups',ylabel='Number of individuals', \n",
    "                                title='Distribution of different age groups', yticks=np.linspace(0,130,12))"
   ]
  },
  {
   "cell_type": "markdown",
   "id": "0356353d",
   "metadata": {},
   "source": [
    "## Feature reduction"
   ]
  },
  {
   "cell_type": "markdown",
   "id": "1ddb3462",
   "metadata": {},
   "source": [
    "For feature reduction on categorical variables/columns, we will be using 'Multiple Correspondence Analysis'.\n",
    "\n",
    "Multiple correspondence analysis is a multivariate data analysis and data mining tool concerned with interrelationships amongst categorical features. For categorical feature selection, the scikit-learn library offers a selectKBest class to select the best k-number of features using chi-squared stats (chi2). - https://datascienceplus.com/selecting-categorical-features-in-customer-attrition-prediction-using-python/"
   ]
  },
  {
   "cell_type": "markdown",
   "id": "39d4825a",
   "metadata": {},
   "source": [
    "To be able to implement MCA very easily, we will make use of the 'Prince' library.\n",
    "More information here: https://github.com/MaxHalford/prince"
   ]
  },
  {
   "cell_type": "code",
   "execution_count": 148,
   "id": "665a17d2",
   "metadata": {},
   "outputs": [
    {
     "data": {
      "image/png": "[encoded data removed]",
      "text/plain": [
       "<Figure size 1152x1440 with 1 Axes>"
      ]
     },
     "metadata": {
      "needs_background": "light"
     },
     "output_type": "display_data"
    }
   ],
   "source": [
    "mca = prince.MCA(\n",
    "    n_components=2,\n",
    "    n_iter=3,\n",
    "    copy=True,\n",
    "    check_input=True,\n",
    "    engine='auto',\n",
    "    random_state=42\n",
    ")\n",
    "\n",
    "illness_mca = mca.fit(data)\n",
    "\n",
    "ax = illness_mca.plot_coordinates(\n",
    "    X=data,\n",
    "    ax=None,\n",
    "    figsize=(16,20),\n",
    "    show_row_points=False,\n",
    "    show_column_points=True,\n",
    "    column_points_size=30,\n",
    "    show_column_labels=True,\n",
    "    legend_n_cols=1\n",
    ").legend(loc='upper right')"
   ]
  },
  {
   "cell_type": "markdown",
   "id": "6f8b83e7",
   "metadata": {},
   "source": [
    "## Important\n",
    "### What does this graph mean/show?\n",
    "Although it is hard to see in this graph above, when we look at the coordinates (-1,0.2), we can see a brown dot. This brown dot is whether or not someone currently has a mental illness or not.\n",
    "\n",
    "What about the other dots?\n",
    "\n",
    "Well, we can look at the dots that are the closest to our brown dot, and indentify them individually. These dots, which are actually columns from our dataframe, are the heavily influencial to our column, whether someone has a current Mental illness or not.\n",
    "\n",
    "Simply put, the closer other dots, or columns, to our column/dot of interest, the bigger impact they have on predicting that column."
   ]
  },
  {
   "cell_type": "markdown",
   "id": "9da4dfcc",
   "metadata": {},
   "source": [
    "### Next we will use the chi2 test to see the best column entries that helps us to predict whether someone has mental illness or not.\n",
    "\n",
    "Note, we will only see each of the different feature values, not the features themselves.\n",
    "\n",
    "Before you can employ selectKBest in the scikit-learn library, you need to coerce categorical features into indicator variables (dummy variables)."
   ]
  },
  {
   "cell_type": "code",
   "execution_count": 149,
   "id": "e5cca744",
   "metadata": {},
   "outputs": [],
   "source": [
    "data2 = pd.get_dummies(data, drop_first=True)"
   ]
  },
  {
   "cell_type": "markdown",
   "id": "f69e87ab",
   "metadata": {},
   "source": [
    "Let's see what our dataframe structure is, and what columns we now have."
   ]
  },
  {
   "cell_type": "code",
   "execution_count": 150,
   "id": "3400b676",
   "metadata": {},
   "outputs": [
    {
     "name": "stdout",
     "output_type": "stream",
     "text": [
      "(540, 57)\n"
     ]
    },
    {
     "data": {
      "text/plain": [
       "Index(['Num. Employees_100-500', 'Num. Employees_26-100',\n",
       "       'Num. Employees_500-1000', 'Num. Employees_6-25',\n",
       "       'Num. Employees_More than 1000', 'Tech company?_Yes',\n",
       "       'M-H benefits?_No', 'M-H benefits?_Yes', 'Workplace Discussion?_No',\n",
       "       'Workplace Discussion?_Yes', 'Medical Coverage?_Yes',\n",
       "       'Current illness_No', 'Current illness_Possibly', 'Current illness_Yes',\n",
       "       'Previously diagnosed?_Unspecified', 'Previously diagnosed?_Yes',\n",
       "       'Sought help?_Yes', 'Illness history?_No', 'Illness history?_Yes',\n",
       "       'Age_G2', 'Age_G3', 'Age_G4', 'Age_G5', 'Age_G6', 'Age_G7', 'Age_G8',\n",
       "       'Age_G9', 'Gender_M', 'Gender_O', 'Live Country_Canada',\n",
       "       'Live Country_France', 'Live Country_Germany', 'Live Country_Greece',\n",
       "       'Live Country_India', 'Live Country_Ireland', 'Live Country_Mexico',\n",
       "       'Live Country_Netherlands', 'Live Country_Portugal',\n",
       "       'Live Country_Spain', 'Live Country_Sweden', 'Live Country_Switzerland',\n",
       "       'Live Country_United Kingdom', 'Live Country_United States of America',\n",
       "       'Work Country_Canada', 'Work Country_France', 'Work Country_Germany',\n",
       "       'Work Country_India', 'Work Country_Ireland', 'Work Country_Luxembourg',\n",
       "       'Work Country_Mexico', 'Work Country_Netherlands',\n",
       "       'Work Country_Portugal', 'Work Country_Spain', 'Work Country_Sweden',\n",
       "       'Work Country_Switzerland', 'Work Country_United Kingdom',\n",
       "       'Work Country_United States of America'],\n",
       "      dtype='object')"
      ]
     },
     "execution_count": 150,
     "metadata": {},
     "output_type": "execute_result"
    }
   ],
   "source": [
    "print(data2.shape)\n",
    "data2.columns"
   ]
  },
  {
   "cell_type": "markdown",
   "id": "64c91179",
   "metadata": {},
   "source": [
    "Next, we identify our input features that we want to reduce and keep our target variable, also known as our predictor, to the side."
   ]
  },
  {
   "cell_type": "code",
   "execution_count": 151,
   "id": "97b060df",
   "metadata": {},
   "outputs": [],
   "source": [
    "X = data2.drop('Current illness_Yes', axis=1)\n",
    "y = data2['Current illness_Yes']"
   ]
  },
  {
   "cell_type": "markdown",
   "id": "82ef9182",
   "metadata": {},
   "source": [
    "We are now ready to run our Selection process. We use the 'SelectKBest' option, using our chi2 scores."
   ]
  },
  {
   "cell_type": "code",
   "execution_count": 152,
   "id": "093157cd",
   "metadata": {
    "scrolled": true
   },
   "outputs": [
    {
     "name": "stdout",
     "output_type": "stream",
     "text": [
      " Num. Employees_100-500: 1.843636\n",
      " Num. Employees_26-100: 4.904327\n",
      " Num. Employees_500-1000: 0.192045\n",
      " Num. Employees_6-25: 0.466418\n",
      " Num. Employees_More than 1000: 1.800000\n",
      " Tech company?_Yes: 0.559806\n",
      " M-H benefits?_No: 0.372535\n",
      " M-H benefits?_Yes: 8.159174\n",
      " Workplace Discussion?_No: 0.444853\n",
      " Workplace Discussion?_Yes: 0.750000\n",
      " Medical Coverage?_Yes: 0.478012\n",
      " Current illness_No: 120.800000\n",
      " Current illness_Possibly: 84.800000\n",
      " Previously diagnosed?_Unspecified: 240.000000\n",
      " Previously diagnosed?_Yes: 293.750000\n",
      " Sought help?_Yes: 81.246291\n",
      " Illness history?_No: 38.503125\n",
      " Illness history?_Yes: 36.907283\n",
      " Age_G2: 0.912810\n",
      " Age_G3: 1.056015\n",
      " Age_G4: 1.077586\n",
      " Age_G5: 0.236885\n",
      " Age_G6: 1.314062\n",
      " Age_G7: 0.188462\n",
      " Age_G8: 0.040000\n",
      " Age_G9: 0.600000\n",
      " Gender_M: 4.352198\n",
      " Gender_O: 2.025000\n",
      " Live Country_Canada: 1.428571\n",
      " Live Country_France: 7.889286\n",
      " Live Country_Germany: 2.450000\n",
      " Live Country_Greece: 0.800000\n",
      " Live Country_India: 1.600000\n",
      " Live Country_Ireland: 0.800000\n",
      " Live Country_Mexico: 1.600000\n",
      " Live Country_Netherlands: 0.125000\n",
      " Live Country_Portugal: 1.250000\n",
      " Live Country_Spain: 6.337500\n",
      " Live Country_Sweden: 0.800000\n",
      " Live Country_Switzerland: 1.250000\n",
      " Live Country_United Kingdom: 0.719149\n",
      " Live Country_United States of America: 3.937620\n",
      " Work Country_Canada: 1.428571\n",
      " Work Country_France: 7.111538\n",
      " Work Country_Germany: 2.450000\n",
      " Work Country_India: 1.600000\n",
      " Work Country_Ireland: 0.800000\n",
      " Work Country_Luxembourg: 0.800000\n",
      " Work Country_Mexico: 1.600000\n",
      " Work Country_Netherlands: 0.125000\n",
      " Work Country_Portugal: 1.250000\n",
      " Work Country_Spain: 6.337500\n",
      " Work Country_Sweden: 0.800000\n",
      " Work Country_Switzerland: 1.250000\n",
      " Work Country_United Kingdom: 0.719149\n",
      " Work Country_United States of America: 3.756475\n"
     ]
    }
   ],
   "source": [
    "#Categorical feature selection\n",
    "sf = SelectKBest(chi2, k='all')\n",
    "sf_fit = sf.fit(X, y)\n",
    "\n",
    "#Print feature scores\n",
    "for i in range(len(sf_fit.scores_)):\n",
    "    print(' %s: %f' % (X.columns[i], sf_fit.scores_[i]))"
   ]
  },
  {
   "cell_type": "markdown",
   "id": "d31900e1",
   "metadata": {},
   "source": [
    "The way to interpret the above chi2 scores is that categorical features with the highest values for the chi-squared stat indicate higher relevance and importance in predicting individual mental health illness and may be included in a predictive model development."
   ]
  },
  {
   "cell_type": "markdown",
   "id": "8b483149",
   "metadata": {},
   "source": [
    "To interpret these results easier, we can plot them in a decending order."
   ]
  },
  {
   "cell_type": "code",
   "execution_count": 153,
   "id": "76c3cea9",
   "metadata": {},
   "outputs": [
    {
     "data": {
      "image/png": "[encoded data removed]",
      "text/plain": [
       "<Figure size 1080x576 with 1 Axes>"
      ]
     },
     "metadata": {
      "needs_background": "light"
     },
     "output_type": "display_data"
    }
   ],
   "source": [
    "#Plot scores\n",
    "datset = pd.DataFrame()\n",
    "datset['feature'] = X.columns[range(len(sf_fit.scores_))]\n",
    "datset['scores'] = sf_fit.scores_\n",
    "datset = datset.sort_values(by='scores', ascending=True)\n",
    "\n",
    "#Create barplot\n",
    "plt.figure(figsize=(15,8))\n",
    "sns.barplot(x=datset['scores'], y=datset['feature'], color='blue')\n",
    "#Set style attributes\n",
    "sns.set_style('whitegrid')\n",
    "plt.ylabel('Categorical Feature', fontsize=12)\n",
    "plt.xlabel('Score', fontsize=18)\n",
    "plt.show()"
   ]
  },
  {
   "cell_type": "markdown",
   "id": "bdd41b26",
   "metadata": {},
   "source": [
    "### Now we will select the best features, as a whole.\n",
    "\n",
    "Before we looked at the column values, and how they effect our column, 'Current Illness'.\n",
    "\n",
    "Now we will be using the 'OrdinalEncoder()' and 'LabelEncoder()' methods to select the best features."
   ]
  },
  {
   "cell_type": "markdown",
   "id": "65912d1b",
   "metadata": {},
   "source": [
    "We start again by seperating our target variable from the rest of our features."
   ]
  },
  {
   "cell_type": "code",
   "execution_count": 154,
   "id": "25ac44fc",
   "metadata": {},
   "outputs": [],
   "source": [
    "X1 = data.drop('Current illness', axis=1)\n",
    "y1 = data['Current illness']"
   ]
  },
  {
   "cell_type": "code",
   "execution_count": 155,
   "id": "f183310e",
   "metadata": {},
   "outputs": [],
   "source": [
    "#Prepare input features\n",
    "#Ordinal Encoder is used to encode the input\n",
    "oe = OrdinalEncoder()\n",
    "oe.fit(X1)\n",
    "X_enc = oe.transform(X1)\n",
    "\n",
    "#Prepare target variable\n",
    "#Label encoder is used to encode the output, or target variable, \n",
    "#  in this case if the entry individual has a current mental illness or not\n",
    "le = LabelEncoder()\n",
    "le.fit(y1)\n",
    "y_enc = le.transform(y1)"
   ]
  },
  {
   "cell_type": "markdown",
   "id": "fbb1416f",
   "metadata": {},
   "source": [
    "### What does the X_enc and y_enc represent?\n",
    "\n",
    "This is our encoded variables. Each column has different values, such as 'Yes' or 'No'. Here we encoded each different entry in a column into a number, like, 0 or 1 ect.\n",
    "<br>The same is done with our target variable, whether a person curently has a mental illness or not. For example, if someone currently has a mental illness, then they are given the value 1, if not, they are given the value 0."
   ]
  },
  {
   "cell_type": "code",
   "execution_count": 156,
   "id": "4243ccb9",
   "metadata": {},
   "outputs": [
    {
     "name": "stdout",
     "output_type": "stream",
     "text": [
      "(540, 12)\n"
     ]
    },
    {
     "data": {
      "text/plain": [
       "array([[ 1.,  1.,  1., ...,  0., 13., 13.],\n",
       "       [ 1.,  1.,  2., ...,  1., 13., 13.],\n",
       "       [ 4.,  1.,  0., ...,  1., 14., 14.],\n",
       "       ...,\n",
       "       [ 2.,  1.,  0., ...,  1., 13., 13.],\n",
       "       [ 4.,  1.,  2., ...,  1., 14., 14.],\n",
       "       [ 2.,  1.,  2., ...,  1., 14., 14.]])"
      ]
     },
     "execution_count": 156,
     "metadata": {},
     "output_type": "execute_result"
    }
   ],
   "source": [
    "#We can view the shape of this data and take a look at how they are encoded.\n",
    "print(X_enc.shape)\n",
    "X_enc"
   ]
  },
  {
   "cell_type": "code",
   "execution_count": 157,
   "id": "c58b3c14",
   "metadata": {
    "scrolled": true
   },
   "outputs": [
    {
     "name": "stdout",
     "output_type": "stream",
     "text": [
      "(540,)\n"
     ]
    },
    {
     "data": {
      "text/plain": [
       "array([2, 2, 3, 3, 3, 1, 3, 3, 3, 3, 2, 0, 2, 3, 3, 0, 3, 3, 3, 3, 3, 3,\n",
       "       3, 3, 2, 3, 1, 3, 2, 3, 3, 3, 3, 3, 3, 3, 0, 3, 1, 3, 1, 3, 3, 3,\n",
       "       1, 1, 1, 0, 2, 1, 3, 3, 2, 1, 3, 3, 3, 3, 3, 3, 3, 0, 3, 3, 1, 2,\n",
       "       1, 3, 3, 1, 2, 2, 0, 3, 2, 3, 3, 1, 2, 0, 3, 1, 3, 3, 0, 2, 1, 3,\n",
       "       3, 3, 1, 2, 2, 3, 3, 3, 2, 2, 1, 2, 3, 3, 1, 3, 2, 3, 2, 3, 3, 2,\n",
       "       2, 2, 0, 3, 2, 2, 1, 3, 1, 1, 1, 3, 1, 3, 3, 3, 1, 0, 3, 1, 3, 3,\n",
       "       1, 2, 1, 2, 0, 0, 1, 0, 1, 0, 0, 1, 1, 3, 3, 3, 3, 3, 2, 0, 3, 3,\n",
       "       0, 2, 1, 2, 2, 3, 2, 1, 2, 3, 3, 1, 0, 1, 3, 2, 1, 1, 3, 1, 3, 3,\n",
       "       2, 3, 3, 0, 2, 3, 1, 1, 3, 1, 2, 2, 3, 3, 1, 0, 3, 2, 3, 3, 3, 1,\n",
       "       3, 2, 3, 1, 1, 3, 3, 3, 3, 1, 3, 2, 3, 1, 1, 3, 3, 3, 3, 1, 3, 1,\n",
       "       2, 1, 3, 3, 2, 1, 2, 2, 1, 3, 0, 1, 1, 3, 1, 1, 3, 1, 3, 1, 3, 1,\n",
       "       0, 3, 2, 1, 3, 3, 3, 0, 3, 1, 2, 0, 1, 2, 1, 3, 3, 1, 1, 0, 3, 3,\n",
       "       1, 3, 0, 3, 2, 3, 3, 1, 0, 3, 2, 1, 1, 3, 2, 1, 3, 3, 2, 0, 1, 3,\n",
       "       2, 1, 2, 2, 3, 2, 1, 3, 1, 2, 1, 2, 0, 1, 0, 3, 3, 3, 1, 3, 3, 3,\n",
       "       2, 3, 3, 3, 3, 2, 3, 3, 3, 3, 3, 2, 3, 3, 1, 3, 2, 3, 3, 3, 3, 3,\n",
       "       2, 3, 3, 1, 1, 2, 1, 3, 3, 3, 2, 1, 1, 2, 2, 0, 3, 2, 3, 2, 3, 1,\n",
       "       3, 3, 3, 2, 2, 3, 3, 3, 1, 2, 3, 2, 3, 1, 1, 1, 2, 3, 0, 3, 3, 2,\n",
       "       3, 3, 0, 2, 3, 0, 1, 2, 2, 1, 3, 2, 3, 1, 1, 3, 3, 0, 3, 3, 1, 2,\n",
       "       3, 1, 3, 2, 3, 3, 2, 1, 3, 3, 3, 1, 1, 1, 3, 3, 1, 3, 3, 1, 3, 3,\n",
       "       3, 1, 3, 3, 1, 3, 1, 3, 3, 1, 3, 3, 1, 0, 3, 3, 1, 3, 3, 3, 1, 3,\n",
       "       3, 1, 1, 1, 1, 1, 1, 2, 3, 2, 3, 3, 3, 1, 2, 1, 2, 2, 2, 1, 1, 2,\n",
       "       1, 1, 1, 1, 1, 1, 2, 1, 2, 1, 3, 0, 1, 3, 3, 2, 0, 1, 2, 3, 0, 2,\n",
       "       3, 3, 3, 1, 2, 1, 1, 1, 1, 1, 1, 1, 1, 3, 2, 1, 2, 1, 3, 3, 3, 2,\n",
       "       3, 3, 3, 3, 1, 2, 2, 0, 1, 2, 0, 1, 0, 2, 1, 1, 2, 3, 1, 3, 3, 1,\n",
       "       3, 1, 0, 1, 3, 1, 1, 3, 2, 1, 3, 2])"
      ]
     },
     "execution_count": 157,
     "metadata": {},
     "output_type": "execute_result"
    }
   ],
   "source": [
    "#We can view the shape of this data and take a look at how they are encoded.\n",
    "print(y_enc.shape)\n",
    "y_enc"
   ]
  },
  {
   "cell_type": "markdown",
   "id": "57ed234f",
   "metadata": {},
   "source": [
    "### Selecting features (sf)"
   ]
  },
  {
   "cell_type": "code",
   "execution_count": 158,
   "id": "62b2254e",
   "metadata": {},
   "outputs": [
    {
     "name": "stdout",
     "output_type": "stream",
     "text": [
      " Num. Employees: 4.897886\n",
      " Tech company?: 0.633776\n",
      " M-H benefits?: 14.028933\n",
      " Workplace Discussion?: 0.105995\n",
      " Medical Coverage?: 0.484121\n",
      " Previously diagnosed?: 85.876623\n",
      " Sought help?: 89.988407\n",
      " Illness history?: 25.684165\n",
      " Age: 5.549643\n",
      " Gender: 1.984632\n",
      " Live Country: 22.601052\n",
      " Work Country: 21.831499\n"
     ]
    }
   ],
   "source": [
    "#Feature selection based on Chi-squared scores\n",
    "sf = SelectKBest(chi2, k='all')\n",
    "sf_fit1 = sf.fit(X_enc, y_enc)\n",
    "\n",
    "#Print feature scores\n",
    "for i in range(len(sf_fit1.scores_)):\n",
    "    print(' %s: %f' % (X1.columns[i], sf_fit1.scores_[i]))"
   ]
  },
  {
   "cell_type": "code",
   "execution_count": 159,
   "id": "8c51bf0a",
   "metadata": {},
   "outputs": [
    {
     "data": {
      "image/png": "[encoded data removed]",
      "text/plain": [
       "<Figure size 432x288 with 1 Axes>"
      ]
     },
     "metadata": {},
     "output_type": "display_data"
    }
   ],
   "source": [
    "#Plot scores\n",
    "datset1 = pd.DataFrame()\n",
    "datset1['feature'] = X1.columns[range(len(sf_fit1.scores_))]\n",
    "datset1['scores'] = sf_fit1.scores_\n",
    "datset1 = datset1.sort_values(by='scores', ascending=True)\n",
    "\n",
    "#Create barplot\n",
    "sns.barplot(x=datset1['scores'], y=datset1['feature'], color='blue')\n",
    "#Set style\n",
    "sns.set_style('whitegrid')\n",
    "plt.ylabel('Categorical Feature', fontsize=18)\n",
    "plt.xlabel('Score', fontsize=18)\n",
    "plt.show()"
   ]
  },
  {
   "cell_type": "markdown",
   "id": "7c1d9ea6",
   "metadata": {},
   "source": [
    "The graph above represents the Chi-squared scores of each column respectively.\n",
    "<br>The higher the score, the more important or relevant the feature.\n",
    "<br>These scores also show which columns are most important in trying to predict whether someone might have mental illness or not.\n",
    "\n",
    "It is clear that not all features have high scores for our dataset. Therefore we will be reducing the number of features by deleting those which are relatively unimportant."
   ]
  },
  {
   "cell_type": "code",
   "execution_count": 160,
   "id": "4f845213",
   "metadata": {},
   "outputs": [],
   "source": [
    "#Drop unimportant columns.\n",
    "data.drop(columns=['Workplace Discussion?','Medical Coverage?', 'Tech company?', 'Gender', 'Num. Employees', 'Age'],\n",
    "          inplace=True)"
   ]
  },
  {
   "cell_type": "markdown",
   "id": "48b83292",
   "metadata": {},
   "source": [
    "## Clustering"
   ]
  },
  {
   "cell_type": "markdown",
   "id": "f387f9d9",
   "metadata": {},
   "source": [
    "When it comes to clustering categorical data, K-Modes is a fairly popular and easy algorithm to use.\n",
    "\n",
    "KModes uses the dissimilarities(total mismatches) between the data points. The lesser the dissimilarities the more similar our data points are. It uses Modes instead of means.\n",
    "\n",
    "For more information: https://www.analyticsvidhya.com/blog/2021/06/kmodes-clustering-algorithm-for-categorical-data/"
   ]
  },
  {
   "cell_type": "code",
   "execution_count": 161,
   "id": "0e5b52f6",
   "metadata": {
    "scrolled": true
   },
   "outputs": [
    {
     "name": "stdout",
     "output_type": "stream",
     "text": [
      "Init: initializing centroids\n",
      "Init: initializing clusters\n",
      "Starting iterations...\n",
      "Run 1, iteration: 1/100, moves: 0, cost: 1489.0\n",
      "Init: initializing centroids\n",
      "Init: initializing clusters\n",
      "Starting iterations...\n",
      "Run 2, iteration: 1/100, moves: 0, cost: 1489.0\n",
      "Init: initializing centroids\n",
      "Init: initializing clusters\n",
      "Starting iterations...\n",
      "Run 3, iteration: 1/100, moves: 0, cost: 1489.0\n",
      "Init: initializing centroids\n",
      "Init: initializing clusters\n",
      "Starting iterations...\n",
      "Run 4, iteration: 1/100, moves: 0, cost: 1489.0\n",
      "Init: initializing centroids\n",
      "Init: initializing clusters\n",
      "Starting iterations...\n",
      "Run 5, iteration: 1/100, moves: 0, cost: 1489.0\n",
      "Best run was number 1\n",
      "Init: initializing centroids\n",
      "Init: initializing clusters\n",
      "Starting iterations...\n",
      "Run 1, iteration: 1/100, moves: 33, cost: 964.0\n",
      "Init: initializing centroids\n",
      "Init: initializing clusters\n",
      "Starting iterations...\n",
      "Run 2, iteration: 1/100, moves: 138, cost: 964.0\n",
      "Init: initializing centroids\n",
      "Init: initializing clusters\n",
      "Starting iterations...\n",
      "Run 3, iteration: 1/100, moves: 41, cost: 964.0\n",
      "Init: initializing centroids\n",
      "Init: initializing clusters\n",
      "Starting iterations...\n",
      "Run 4, iteration: 1/100, moves: 117, cost: 964.0\n",
      "Init: initializing centroids\n",
      "Init: initializing clusters\n",
      "Starting iterations...\n",
      "Run 5, iteration: 1/100, moves: 87, cost: 964.0\n",
      "Best run was number 1\n",
      "Init: initializing centroids\n",
      "Init: initializing clusters\n",
      "Starting iterations...\n",
      "Run 1, iteration: 1/100, moves: 200, cost: 915.0\n",
      "Run 1, iteration: 2/100, moves: 56, cost: 880.0\n",
      "Run 1, iteration: 3/100, moves: 13, cost: 880.0\n",
      "Init: initializing centroids\n",
      "Init: initializing clusters\n",
      "Starting iterations...\n",
      "Run 2, iteration: 1/100, moves: 139, cost: 922.0\n",
      "Run 2, iteration: 2/100, moves: 161, cost: 884.0\n",
      "Run 2, iteration: 3/100, moves: 3, cost: 884.0\n",
      "Init: initializing centroids\n",
      "Init: initializing clusters\n",
      "Starting iterations...\n",
      "Run 3, iteration: 1/100, moves: 228, cost: 816.0\n",
      "Run 3, iteration: 2/100, moves: 58, cost: 816.0\n",
      "Init: initializing centroids\n",
      "Init: initializing clusters\n",
      "Starting iterations...\n",
      "Run 4, iteration: 1/100, moves: 123, cost: 884.0\n",
      "Run 4, iteration: 2/100, moves: 10, cost: 884.0\n",
      "Init: initializing centroids\n",
      "Init: initializing clusters\n",
      "Starting iterations...\n",
      "Run 5, iteration: 1/100, moves: 148, cost: 816.0\n",
      "Run 5, iteration: 2/100, moves: 50, cost: 816.0\n",
      "Best run was number 3\n",
      "Init: initializing centroids\n",
      "Init: initializing clusters\n",
      "Starting iterations...\n",
      "Run 1, iteration: 1/100, moves: 135, cost: 753.0\n",
      "Run 1, iteration: 2/100, moves: 35, cost: 753.0\n",
      "Init: initializing centroids\n",
      "Init: initializing clusters\n",
      "Starting iterations...\n",
      "Run 2, iteration: 1/100, moves: 70, cost: 801.0\n",
      "Run 2, iteration: 2/100, moves: 40, cost: 801.0\n",
      "Init: initializing centroids\n",
      "Init: initializing clusters\n",
      "Starting iterations...\n",
      "Run 3, iteration: 1/100, moves: 241, cost: 759.0\n",
      "Run 3, iteration: 2/100, moves: 48, cost: 759.0\n",
      "Init: initializing centroids\n",
      "Init: initializing clusters\n",
      "Starting iterations...\n",
      "Run 4, iteration: 1/100, moves: 102, cost: 776.0\n",
      "Run 4, iteration: 2/100, moves: 47, cost: 770.0\n",
      "Run 4, iteration: 3/100, moves: 0, cost: 770.0\n",
      "Init: initializing centroids\n",
      "Init: initializing clusters\n",
      "Starting iterations...\n",
      "Run 5, iteration: 1/100, moves: 102, cost: 773.0\n",
      "Run 5, iteration: 2/100, moves: 8, cost: 773.0\n",
      "Best run was number 1\n",
      "Init: initializing centroids\n",
      "Init: initializing clusters\n",
      "Starting iterations...\n",
      "Run 1, iteration: 1/100, moves: 114, cost: 779.0\n",
      "Run 1, iteration: 2/100, moves: 7, cost: 779.0\n",
      "Init: initializing centroids\n",
      "Init: initializing clusters\n",
      "Starting iterations...\n",
      "Run 2, iteration: 1/100, moves: 140, cost: 725.0\n",
      "Run 2, iteration: 2/100, moves: 21, cost: 725.0\n",
      "Init: initializing centroids\n",
      "Init: initializing clusters\n",
      "Starting iterations...\n",
      "Run 3, iteration: 1/100, moves: 121, cost: 725.0\n",
      "Run 3, iteration: 2/100, moves: 62, cost: 725.0\n",
      "Init: initializing centroids\n",
      "Init: initializing clusters\n",
      "Starting iterations...\n",
      "Run 4, iteration: 1/100, moves: 67, cost: 755.0\n",
      "Run 4, iteration: 2/100, moves: 0, cost: 755.0\n",
      "Init: initializing centroids\n",
      "Init: initializing clusters\n",
      "Starting iterations...\n",
      "Run 5, iteration: 1/100, moves: 35, cost: 720.0\n",
      "Best run was number 5\n",
      "Init: initializing centroids\n",
      "Init: initializing clusters\n",
      "Starting iterations...\n",
      "Run 1, iteration: 1/100, moves: 104, cost: 669.0\n",
      "Run 1, iteration: 2/100, moves: 4, cost: 669.0\n",
      "Init: initializing centroids\n",
      "Init: initializing clusters\n",
      "Starting iterations...\n",
      "Run 2, iteration: 1/100, moves: 82, cost: 693.0\n",
      "Run 2, iteration: 2/100, moves: 0, cost: 693.0\n",
      "Init: initializing centroids\n",
      "Init: initializing clusters\n",
      "Starting iterations...\n",
      "Run 3, iteration: 1/100, moves: 94, cost: 732.0\n",
      "Run 3, iteration: 2/100, moves: 62, cost: 732.0\n",
      "Init: initializing centroids\n",
      "Init: initializing clusters\n",
      "Starting iterations...\n",
      "Run 4, iteration: 1/100, moves: 138, cost: 698.0\n",
      "Init: initializing centroids\n",
      "Init: initializing clusters\n",
      "Starting iterations...\n",
      "Run 5, iteration: 1/100, moves: 42, cost: 716.0\n",
      "Run 5, iteration: 2/100, moves: 38, cost: 716.0\n",
      "Best run was number 1\n"
     ]
    },
    {
     "data": {
      "image/png": "[encoded data removed]",
      "text/plain": [
       "<Figure size 432x288 with 1 Axes>"
      ]
     },
     "metadata": {},
     "output_type": "display_data"
    }
   ],
   "source": [
    "# Elbow curve to find optimal K\n",
    "cost = []\n",
    "K = range(1,7)\n",
    "for num_clusters in list(K):\n",
    "    kmode = KModes(n_clusters=num_clusters, init = \"random\", n_init = 5, verbose=1)\n",
    "    kmode.fit_predict(data)\n",
    "    cost.append(kmode.cost_)\n",
    "    \n",
    "plt.plot(K, cost, 'bx-')\n",
    "plt.xlabel('No. of clusters')\n",
    "plt.ylabel('Cost')\n",
    "plt.title('Elbow Method For Optimal k')\n",
    "plt.show()"
   ]
  },
  {
   "cell_type": "markdown",
   "id": "034f9a35",
   "metadata": {},
   "source": [
    "As we can see from the graph above, the elbow is formed at K=2 clusters. Therefore we will create a model with 2 clusters, since this is the optimal number."
   ]
  },
  {
   "cell_type": "code",
   "execution_count": 162,
   "id": "cf1578e0",
   "metadata": {
    "scrolled": true
   },
   "outputs": [
    {
     "name": "stdout",
     "output_type": "stream",
     "text": [
      "Init: initializing centroids\n",
      "Init: initializing clusters\n",
      "Starting iterations...\n",
      "Run 1, iteration: 1/100, moves: 151, cost: 980.0\n",
      "Run 1, iteration: 2/100, moves: 17, cost: 980.0\n",
      "Init: initializing centroids\n",
      "Init: initializing clusters\n",
      "Starting iterations...\n",
      "Run 2, iteration: 1/100, moves: 65, cost: 980.0\n",
      "Run 2, iteration: 2/100, moves: 118, cost: 964.0\n",
      "Run 2, iteration: 3/100, moves: 18, cost: 964.0\n",
      "Init: initializing centroids\n",
      "Init: initializing clusters\n",
      "Starting iterations...\n",
      "Run 3, iteration: 1/100, moves: 26, cost: 964.0\n",
      "Init: initializing centroids\n",
      "Init: initializing clusters\n",
      "Starting iterations...\n",
      "Run 4, iteration: 1/100, moves: 145, cost: 964.0\n",
      "Init: initializing centroids\n",
      "Init: initializing clusters\n",
      "Starting iterations...\n",
      "Run 5, iteration: 1/100, moves: 68, cost: 964.0\n",
      "Best run was number 2\n"
     ]
    },
    {
     "data": {
      "text/plain": [
       "array([1, 1, 0, 0, 0, 0, 0, 0, 0, 0, 1, 1, 1, 0, 0, 0, 0, 0, 0, 0, 0, 0,\n",
       "       0, 0, 1, 0, 0, 0, 0, 0, 0, 0, 0, 0, 0, 0, 1, 0, 1, 0, 1, 0, 0, 0,\n",
       "       1, 1, 1, 1, 0, 0, 0, 0, 0, 1, 0, 0, 0, 0, 0, 0, 0, 1, 0, 0, 1, 1,\n",
       "       1, 0, 0, 0, 0, 1, 1, 0, 0, 0, 0, 0, 0, 1, 0, 1, 0, 0, 1, 0, 1, 0,\n",
       "       0, 0, 1, 1, 1, 0, 0, 0, 0, 0, 1, 1, 0, 0, 0, 0, 0, 0, 1, 0, 0, 1,\n",
       "       1, 1, 1, 0, 0, 1, 1, 0, 1, 1, 1, 0, 1, 0, 0, 0, 0, 1, 0, 1, 0, 0,\n",
       "       0, 1, 1, 0, 1, 1, 1, 1, 1, 1, 1, 1, 1, 0, 0, 0, 0, 0, 0, 1, 0, 0,\n",
       "       1, 0, 1, 0, 1, 0, 1, 1, 1, 0, 0, 0, 0, 0, 0, 1, 1, 0, 0, 1, 0, 0,\n",
       "       0, 0, 0, 1, 1, 0, 1, 1, 0, 1, 1, 1, 0, 0, 0, 1, 0, 0, 0, 0, 0, 1,\n",
       "       0, 0, 0, 1, 1, 0, 0, 0, 0, 1, 0, 1, 0, 1, 0, 0, 0, 0, 0, 1, 0, 1,\n",
       "       0, 1, 0, 0, 1, 1, 0, 1, 1, 0, 1, 1, 1, 0, 1, 1, 0, 1, 0, 1, 0, 1,\n",
       "       1, 0, 1, 1, 0, 0, 0, 1, 0, 1, 0, 1, 1, 0, 1, 0, 0, 1, 1, 1, 0, 0,\n",
       "       1, 0, 1, 0, 0, 0, 0, 1, 1, 0, 1, 1, 1, 0, 1, 1, 0, 0, 0, 1, 1, 0,\n",
       "       1, 1, 1, 0, 0, 1, 1, 0, 1, 1, 1, 1, 1, 1, 1, 0, 0, 0, 1, 0, 0, 0,\n",
       "       1, 0, 0, 0, 0, 1, 0, 0, 0, 0, 0, 0, 0, 0, 1, 0, 1, 0, 0, 0, 0, 0,\n",
       "       0, 0, 0, 1, 1, 0, 1, 0, 0, 0, 1, 1, 1, 0, 1, 1, 0, 0, 0, 1, 0, 0,\n",
       "       0, 0, 0, 1, 1, 0, 0, 0, 1, 1, 0, 1, 0, 1, 1, 1, 0, 0, 1, 0, 0, 1,\n",
       "       0, 0, 1, 0, 0, 0, 1, 1, 1, 1, 0, 0, 0, 1, 1, 0, 0, 1, 0, 0, 0, 0,\n",
       "       0, 1, 0, 0, 0, 0, 1, 1, 0, 0, 0, 1, 1, 1, 0, 0, 1, 0, 0, 1, 0, 0,\n",
       "       0, 1, 0, 0, 1, 0, 1, 0, 0, 1, 0, 0, 1, 0, 0, 0, 1, 0, 0, 0, 1, 0,\n",
       "       0, 1, 0, 1, 1, 1, 0, 1, 0, 1, 0, 0, 0, 1, 0, 1, 0, 0, 1, 1, 1, 0,\n",
       "       1, 1, 1, 1, 1, 1, 0, 1, 1, 1, 0, 1, 1, 0, 0, 1, 0, 1, 0, 0, 0, 0,\n",
       "       0, 0, 0, 1, 1, 1, 1, 1, 1, 1, 1, 1, 1, 0, 0, 1, 1, 1, 0, 0, 0, 0,\n",
       "       0, 0, 0, 0, 1, 0, 1, 0, 1, 0, 1, 1, 1, 0, 1, 1, 0, 0, 1, 0, 0, 1,\n",
       "       0, 1, 1, 1, 0, 1, 1, 0, 1, 1, 0, 1], dtype=uint16)"
      ]
     },
     "execution_count": 162,
     "metadata": {},
     "output_type": "execute_result"
    }
   ],
   "source": [
    "# Building the model with 2 clusters\n",
    "kmode = KModes(n_clusters=2, init = \"random\", n_init = 5, verbose=1)\n",
    "clusters = kmode.fit_predict(data)\n",
    "clusters"
   ]
  },
  {
   "cell_type": "markdown",
   "id": "bcb1b66e",
   "metadata": {},
   "source": [
    "Now that we have our clusters, labelled as '0/1', we can insert it into our dataset. Now we will have a column that shows us exactly to which cluster each entry belongs."
   ]
  },
  {
   "cell_type": "code",
   "execution_count": 163,
   "id": "d38f92ed",
   "metadata": {},
   "outputs": [],
   "source": [
    "data.insert(0, \"Cluster\", clusters, True)"
   ]
  },
  {
   "cell_type": "markdown",
   "id": "48dc80e0",
   "metadata": {},
   "source": [
    "If we now view our data, we can see what it looks like!"
   ]
  },
  {
   "cell_type": "code",
   "execution_count": 164,
   "id": "f4903d7a",
   "metadata": {
    "scrolled": false
   },
   "outputs": [
    {
     "data": {
      "text/html": [
       "<div>\n",
       "<style scoped>\n",
       "    .dataframe tbody tr th:only-of-type {\n",
       "        vertical-align: middle;\n",
       "    }\n",
       "\n",
       "    .dataframe tbody tr th {\n",
       "        vertical-align: top;\n",
       "    }\n",
       "\n",
       "    .dataframe thead th {\n",
       "        text-align: right;\n",
       "    }\n",
       "</style>\n",
       "<table border=\"1\" class=\"dataframe\">\n",
       "  <thead>\n",
       "    <tr style=\"text-align: right;\">\n",
       "      <th></th>\n",
       "      <th>Cluster</th>\n",
       "      <th>M-H benefits?</th>\n",
       "      <th>Current illness</th>\n",
       "      <th>Previously diagnosed?</th>\n",
       "      <th>Sought help?</th>\n",
       "      <th>Illness history?</th>\n",
       "      <th>Live Country</th>\n",
       "      <th>Work Country</th>\n",
       "    </tr>\n",
       "  </thead>\n",
       "  <tbody>\n",
       "    <tr>\n",
       "      <th>0</th>\n",
       "      <td>1</td>\n",
       "      <td>No</td>\n",
       "      <td>Possibly</td>\n",
       "      <td>Unspecified</td>\n",
       "      <td>Yes</td>\n",
       "      <td>No</td>\n",
       "      <td>United Kingdom</td>\n",
       "      <td>United Kingdom</td>\n",
       "    </tr>\n",
       "    <tr>\n",
       "      <th>1</th>\n",
       "      <td>1</td>\n",
       "      <td>Yes</td>\n",
       "      <td>Possibly</td>\n",
       "      <td>Unspecified</td>\n",
       "      <td>No</td>\n",
       "      <td>No</td>\n",
       "      <td>United Kingdom</td>\n",
       "      <td>United Kingdom</td>\n",
       "    </tr>\n",
       "    <tr>\n",
       "      <th>2</th>\n",
       "      <td>0</td>\n",
       "      <td>I don't know</td>\n",
       "      <td>Yes</td>\n",
       "      <td>Yes</td>\n",
       "      <td>Yes</td>\n",
       "      <td>Yes</td>\n",
       "      <td>United States of America</td>\n",
       "      <td>United States of America</td>\n",
       "    </tr>\n",
       "    <tr>\n",
       "      <th>3</th>\n",
       "      <td>0</td>\n",
       "      <td>Yes</td>\n",
       "      <td>Yes</td>\n",
       "      <td>Yes</td>\n",
       "      <td>Yes</td>\n",
       "      <td>I don't know</td>\n",
       "      <td>United States of America</td>\n",
       "      <td>United States of America</td>\n",
       "    </tr>\n",
       "    <tr>\n",
       "      <th>6</th>\n",
       "      <td>0</td>\n",
       "      <td>Yes</td>\n",
       "      <td>Yes</td>\n",
       "      <td>Yes</td>\n",
       "      <td>Yes</td>\n",
       "      <td>Yes</td>\n",
       "      <td>United States of America</td>\n",
       "      <td>United States of America</td>\n",
       "    </tr>\n",
       "  </tbody>\n",
       "</table>\n",
       "</div>"
      ],
      "text/plain": [
       "   Cluster M-H benefits? Current illness Previously diagnosed? Sought help?  \\\n",
       "0        1            No        Possibly           Unspecified          Yes   \n",
       "1        1           Yes        Possibly           Unspecified           No   \n",
       "2        0  I don't know             Yes                   Yes          Yes   \n",
       "3        0           Yes             Yes                   Yes          Yes   \n",
       "6        0           Yes             Yes                   Yes          Yes   \n",
       "\n",
       "  Illness history?              Live Country              Work Country  \n",
       "0               No            United Kingdom            United Kingdom  \n",
       "1               No            United Kingdom            United Kingdom  \n",
       "2              Yes  United States of America  United States of America  \n",
       "3     I don't know  United States of America  United States of America  \n",
       "6              Yes  United States of America  United States of America  "
      ]
     },
     "execution_count": 164,
     "metadata": {},
     "output_type": "execute_result"
    }
   ],
   "source": [
    "data.head()"
   ]
  },
  {
   "cell_type": "markdown",
   "id": "233ce01d",
   "metadata": {},
   "source": [
    "# Visual Exploration\n",
    "Visual representations that confirm the assignment of our clusters."
   ]
  },
  {
   "cell_type": "markdown",
   "id": "27e48867",
   "metadata": {},
   "source": [
    "### Cluster Count\n",
    "First, let's plot the total amount of entries in each cluster."
   ]
  },
  {
   "cell_type": "code",
   "execution_count": 165,
   "id": "b5a47d0f",
   "metadata": {
    "scrolled": false
   },
   "outputs": [
    {
     "data": {
      "text/plain": [
       "<AxesSubplot:title={'center':'Cluster Count'}, xlabel='Cluster Group', ylabel='Count'>"
      ]
     },
     "execution_count": 165,
     "metadata": {},
     "output_type": "execute_result"
    },
    {
     "data": {
      "image/png": "[encoded data removed]",
      "text/plain": [
       "<Figure size 432x288 with 1 Axes>"
      ]
     },
     "metadata": {},
     "output_type": "display_data"
    }
   ],
   "source": [
    "data['Cluster'].value_counts().plot.bar(xlabel='Cluster Group', ylabel='Count', yticks=np.arange(0,310,30), title='Cluster Count')"
   ]
  },
  {
   "cell_type": "markdown",
   "id": "a466fa0e",
   "metadata": {},
   "source": [
    "### Current illness\n",
    "Seeing that our cluster groups are relatively similar in size, let's take a look at the total amount of different 'Current illness' answers and compare those from Cluster 0 with those of Cluster 1"
   ]
  },
  {
   "cell_type": "markdown",
   "id": "aa5b8a26",
   "metadata": {},
   "source": [
    "We do this by first creating a new dataframe using 'groupby' to select the columns 'Cluster' and 'Current illness'."
   ]
  },
  {
   "cell_type": "code",
   "execution_count": 166,
   "id": "7b4010a5",
   "metadata": {},
   "outputs": [],
   "source": [
    "ci_counts = (data.groupby('Cluster')['Current illness'].value_counts()).to_frame()"
   ]
  },
  {
   "cell_type": "code",
   "execution_count": 167,
   "id": "569816b4",
   "metadata": {},
   "outputs": [
    {
     "data": {
      "text/html": [
       "<div>\n",
       "<style scoped>\n",
       "    .dataframe tbody tr th:only-of-type {\n",
       "        vertical-align: middle;\n",
       "    }\n",
       "\n",
       "    .dataframe tbody tr th {\n",
       "        vertical-align: top;\n",
       "    }\n",
       "\n",
       "    .dataframe thead th {\n",
       "        text-align: right;\n",
       "    }\n",
       "</style>\n",
       "<table border=\"1\" class=\"dataframe\">\n",
       "  <thead>\n",
       "    <tr style=\"text-align: right;\">\n",
       "      <th></th>\n",
       "      <th></th>\n",
       "      <th>Current illness</th>\n",
       "    </tr>\n",
       "    <tr>\n",
       "      <th>Cluster</th>\n",
       "      <th></th>\n",
       "      <th></th>\n",
       "    </tr>\n",
       "  </thead>\n",
       "  <tbody>\n",
       "    <tr>\n",
       "      <th rowspan=\"4\" valign=\"top\">0</th>\n",
       "      <th>Yes</th>\n",
       "      <td>240</td>\n",
       "    </tr>\n",
       "    <tr>\n",
       "      <th>Possibly</th>\n",
       "      <td>48</td>\n",
       "    </tr>\n",
       "    <tr>\n",
       "      <th>No</th>\n",
       "      <td>17</td>\n",
       "    </tr>\n",
       "    <tr>\n",
       "      <th>Don't Know</th>\n",
       "      <td>7</td>\n",
       "    </tr>\n",
       "    <tr>\n",
       "      <th rowspan=\"4\" valign=\"top\">1</th>\n",
       "      <th>No</th>\n",
       "      <td>134</td>\n",
       "    </tr>\n",
       "    <tr>\n",
       "      <th>Possibly</th>\n",
       "      <td>58</td>\n",
       "    </tr>\n",
       "    <tr>\n",
       "      <th>Don't Know</th>\n",
       "      <td>36</td>\n",
       "    </tr>\n",
       "    <tr>\n",
       "      <th>Yes</th>\n",
       "      <td>0</td>\n",
       "    </tr>\n",
       "  </tbody>\n",
       "</table>\n",
       "</div>"
      ],
      "text/plain": [
       "                    Current illness\n",
       "Cluster                            \n",
       "0       Yes                     240\n",
       "        Possibly                 48\n",
       "        No                       17\n",
       "        Don't Know                7\n",
       "1       No                      134\n",
       "        Possibly                 58\n",
       "        Don't Know               36\n",
       "        Yes                       0"
      ]
     },
     "execution_count": 167,
     "metadata": {},
     "output_type": "execute_result"
    }
   ],
   "source": [
    "#View dataframe as is:\n",
    "ci_counts"
   ]
  },
  {
   "cell_type": "markdown",
   "id": "89362ba3",
   "metadata": {},
   "source": [
    "Now we quickly transform this dataframe into a more useable format."
   ]
  },
  {
   "cell_type": "code",
   "execution_count": 168,
   "id": "0e5817bd",
   "metadata": {},
   "outputs": [],
   "source": [
    "#Reset dataframe index, so that we have 3 columns, and then rename those columns\n",
    "ci_counts.reset_index(inplace=True)\n",
    "ci_counts.rename(columns={'level_1':'Current illness', 'Current illness':'Counts'}, inplace=True)"
   ]
  },
  {
   "cell_type": "code",
   "execution_count": 169,
   "id": "63eda765",
   "metadata": {},
   "outputs": [
    {
     "data": {
      "text/html": [
       "<div>\n",
       "<style scoped>\n",
       "    .dataframe tbody tr th:only-of-type {\n",
       "        vertical-align: middle;\n",
       "    }\n",
       "\n",
       "    .dataframe tbody tr th {\n",
       "        vertical-align: top;\n",
       "    }\n",
       "\n",
       "    .dataframe thead th {\n",
       "        text-align: right;\n",
       "    }\n",
       "</style>\n",
       "<table border=\"1\" class=\"dataframe\">\n",
       "  <thead>\n",
       "    <tr style=\"text-align: right;\">\n",
       "      <th></th>\n",
       "      <th>Cluster</th>\n",
       "      <th>Current illness</th>\n",
       "      <th>Counts</th>\n",
       "    </tr>\n",
       "  </thead>\n",
       "  <tbody>\n",
       "    <tr>\n",
       "      <th>0</th>\n",
       "      <td>0</td>\n",
       "      <td>Yes</td>\n",
       "      <td>240</td>\n",
       "    </tr>\n",
       "    <tr>\n",
       "      <th>1</th>\n",
       "      <td>0</td>\n",
       "      <td>Possibly</td>\n",
       "      <td>48</td>\n",
       "    </tr>\n",
       "    <tr>\n",
       "      <th>2</th>\n",
       "      <td>0</td>\n",
       "      <td>No</td>\n",
       "      <td>17</td>\n",
       "    </tr>\n",
       "    <tr>\n",
       "      <th>3</th>\n",
       "      <td>0</td>\n",
       "      <td>Don't Know</td>\n",
       "      <td>7</td>\n",
       "    </tr>\n",
       "    <tr>\n",
       "      <th>4</th>\n",
       "      <td>1</td>\n",
       "      <td>No</td>\n",
       "      <td>134</td>\n",
       "    </tr>\n",
       "    <tr>\n",
       "      <th>5</th>\n",
       "      <td>1</td>\n",
       "      <td>Possibly</td>\n",
       "      <td>58</td>\n",
       "    </tr>\n",
       "    <tr>\n",
       "      <th>6</th>\n",
       "      <td>1</td>\n",
       "      <td>Don't Know</td>\n",
       "      <td>36</td>\n",
       "    </tr>\n",
       "    <tr>\n",
       "      <th>7</th>\n",
       "      <td>1</td>\n",
       "      <td>Yes</td>\n",
       "      <td>0</td>\n",
       "    </tr>\n",
       "  </tbody>\n",
       "</table>\n",
       "</div>"
      ],
      "text/plain": [
       "   Cluster Current illness  Counts\n",
       "0        0             Yes     240\n",
       "1        0        Possibly      48\n",
       "2        0              No      17\n",
       "3        0      Don't Know       7\n",
       "4        1              No     134\n",
       "5        1        Possibly      58\n",
       "6        1      Don't Know      36\n",
       "7        1             Yes       0"
      ]
     },
     "execution_count": 169,
     "metadata": {},
     "output_type": "execute_result"
    }
   ],
   "source": [
    "#View what this dataframe now looks like.\n",
    "ci_counts"
   ]
  },
  {
   "cell_type": "markdown",
   "id": "0c109e9b",
   "metadata": {},
   "source": [
    "And finally we can plot this data using seaborn."
   ]
  },
  {
   "cell_type": "code",
   "execution_count": 170,
   "id": "05ea6975",
   "metadata": {},
   "outputs": [
    {
     "data": {
      "text/plain": [
       "Text(0.5, 1.0, 'Indivuals which currently have a Mental Illness')"
      ]
     },
     "execution_count": 170,
     "metadata": {},
     "output_type": "execute_result"
    },
    {
     "data": {
      "image/png": "[encoded data removed]",
      "text/plain": [
       "<Figure size 432x288 with 1 Axes>"
      ]
     },
     "metadata": {},
     "output_type": "display_data"
    }
   ],
   "source": [
    "sns.barplot(x='Cluster', y='Counts', hue='Current illness', data=ci_counts).set_title('Indivuals which currently have a Mental Illness')"
   ]
  },
  {
   "cell_type": "markdown",
   "id": "6656e77e",
   "metadata": {},
   "source": [
    "As we can see from the table 'ci_counts' above, it is clear that cluster 0 contains 100% of the 'No' values and only 0.83% of the 'Yes' values. Cluster 0 contains 77.36% (82/106) of the \"Possibly\" entries and also contains 97.67% of the \"Don't know\" entries.\n",
    "\n",
    "Therefore it is safe to say that individuals in Cluster 1 has a much higher chance of having a mental illness as those in Cluster 0."
   ]
  },
  {
   "cell_type": "markdown",
   "id": "1522caf0",
   "metadata": {},
   "source": [
    "### Mental health benefits\n",
    "With the column 'M-H benefits', we want to do the exact same as what we did with the 'Current illness' column."
   ]
  },
  {
   "cell_type": "code",
   "execution_count": 171,
   "id": "aab22fad",
   "metadata": {},
   "outputs": [
    {
     "data": {
      "text/html": [
       "<div>\n",
       "<style scoped>\n",
       "    .dataframe tbody tr th:only-of-type {\n",
       "        vertical-align: middle;\n",
       "    }\n",
       "\n",
       "    .dataframe tbody tr th {\n",
       "        vertical-align: top;\n",
       "    }\n",
       "\n",
       "    .dataframe thead th {\n",
       "        text-align: right;\n",
       "    }\n",
       "</style>\n",
       "<table border=\"1\" class=\"dataframe\">\n",
       "  <thead>\n",
       "    <tr style=\"text-align: right;\">\n",
       "      <th></th>\n",
       "      <th>Cluster</th>\n",
       "      <th>M-H benefits</th>\n",
       "      <th>Counts</th>\n",
       "    </tr>\n",
       "  </thead>\n",
       "  <tbody>\n",
       "    <tr>\n",
       "      <th>0</th>\n",
       "      <td>0</td>\n",
       "      <td>Yes</td>\n",
       "      <td>214</td>\n",
       "    </tr>\n",
       "    <tr>\n",
       "      <th>1</th>\n",
       "      <td>0</td>\n",
       "      <td>I don't know</td>\n",
       "      <td>61</td>\n",
       "    </tr>\n",
       "    <tr>\n",
       "      <th>2</th>\n",
       "      <td>0</td>\n",
       "      <td>No</td>\n",
       "      <td>37</td>\n",
       "    </tr>\n",
       "    <tr>\n",
       "      <th>3</th>\n",
       "      <td>1</td>\n",
       "      <td>Yes</td>\n",
       "      <td>113</td>\n",
       "    </tr>\n",
       "    <tr>\n",
       "      <th>4</th>\n",
       "      <td>1</td>\n",
       "      <td>I don't know</td>\n",
       "      <td>81</td>\n",
       "    </tr>\n",
       "    <tr>\n",
       "      <th>5</th>\n",
       "      <td>1</td>\n",
       "      <td>No</td>\n",
       "      <td>34</td>\n",
       "    </tr>\n",
       "  </tbody>\n",
       "</table>\n",
       "</div>"
      ],
      "text/plain": [
       "   Cluster  M-H benefits  Counts\n",
       "0        0           Yes     214\n",
       "1        0  I don't know      61\n",
       "2        0            No      37\n",
       "3        1           Yes     113\n",
       "4        1  I don't know      81\n",
       "5        1            No      34"
      ]
     },
     "execution_count": 171,
     "metadata": {},
     "output_type": "execute_result"
    }
   ],
   "source": [
    "mh_benefits = (data.groupby('Cluster')['M-H benefits?'].value_counts()).to_frame()\n",
    "\n",
    "#Reset dataframe index, so that we have 3 columns, and then rename those columns\n",
    "mh_benefits.reset_index(inplace=True)\n",
    "mh_benefits.rename(columns={'level_1':'M-H benefits', 'M-H benefits?':'Counts'}, inplace=True)\n",
    "\n",
    "#View what this dataframe now looks like.\n",
    "mh_benefits"
   ]
  },
  {
   "cell_type": "markdown",
   "id": "7a7d5877",
   "metadata": {},
   "source": [
    "Once again we plot this data using seaborn."
   ]
  },
  {
   "cell_type": "code",
   "execution_count": 172,
   "id": "745336e7",
   "metadata": {},
   "outputs": [
    {
     "data": {
      "text/plain": [
       "Text(0.5, 1.0, 'Indivuals which have Mental Health benefits')"
      ]
     },
     "execution_count": 172,
     "metadata": {},
     "output_type": "execute_result"
    },
    {
     "data": {
      "image/png": "[encoded data removed]",
      "text/plain": [
       "<Figure size 432x288 with 1 Axes>"
      ]
     },
     "metadata": {},
     "output_type": "display_data"
    }
   ],
   "source": [
    "sns.barplot(x='Cluster', y='Counts', hue='M-H benefits', data=mh_benefits).set_title('Indivuals which have Mental Health benefits')"
   ]
  },
  {
   "cell_type": "markdown",
   "id": "4707c771",
   "metadata": {},
   "source": [
    "Although this bar chart looks very similar for both Clusters, it is still evident that individuals in Cluster 1 has a higher chance (70.72%) of having Mental health benefits provided for by their employee than the chances of individuals in Cluster 0 (50.9%) having Mental health benefits provided for by their employee."
   ]
  },
  {
   "cell_type": "markdown",
   "id": "b6747256",
   "metadata": {},
   "source": [
    "WOW! These two graphs already provide us with some very interesting information. You might have thought that companies providing Mental health benefits to their employees would allow them to take care of it. Although, this is not the case, as employers providing Mental health benefits have actually more individuals with Mental health problems than individuals without mental health problems."
   ]
  },
  {
   "cell_type": "markdown",
   "id": "016a3df2",
   "metadata": {},
   "source": [
    "### Bar chart of 'Previously diagnosed?' ,\t'Sought help?', and\t'Illness history?'\n",
    "We can now move a bit faster with our analysis and do the exact same as we did above for these columns as well.\n",
    "<br>By now the code is a bit explanatory, se I will only stop when and discuss these results at the end."
   ]
  },
  {
   "cell_type": "markdown",
   "id": "2a7cef16",
   "metadata": {},
   "source": [
    "### Previously diagnosed?"
   ]
  },
  {
   "cell_type": "code",
   "execution_count": 173,
   "id": "3baf7f64",
   "metadata": {},
   "outputs": [
    {
     "data": {
      "text/html": [
       "<div>\n",
       "<style scoped>\n",
       "    .dataframe tbody tr th:only-of-type {\n",
       "        vertical-align: middle;\n",
       "    }\n",
       "\n",
       "    .dataframe tbody tr th {\n",
       "        vertical-align: top;\n",
       "    }\n",
       "\n",
       "    .dataframe thead th {\n",
       "        text-align: right;\n",
       "    }\n",
       "</style>\n",
       "<table border=\"1\" class=\"dataframe\">\n",
       "  <thead>\n",
       "    <tr style=\"text-align: right;\">\n",
       "      <th></th>\n",
       "      <th>Cluster</th>\n",
       "      <th>Previously diagnosed?</th>\n",
       "      <th>Counts</th>\n",
       "    </tr>\n",
       "  </thead>\n",
       "  <tbody>\n",
       "    <tr>\n",
       "      <th>0</th>\n",
       "      <td>0</td>\n",
       "      <td>Yes</td>\n",
       "      <td>235</td>\n",
       "    </tr>\n",
       "    <tr>\n",
       "      <th>1</th>\n",
       "      <td>0</td>\n",
       "      <td>Unspecified</td>\n",
       "      <td>72</td>\n",
       "    </tr>\n",
       "    <tr>\n",
       "      <th>2</th>\n",
       "      <td>0</td>\n",
       "      <td>No</td>\n",
       "      <td>5</td>\n",
       "    </tr>\n",
       "    <tr>\n",
       "      <th>3</th>\n",
       "      <td>1</td>\n",
       "      <td>Unspecified</td>\n",
       "      <td>228</td>\n",
       "    </tr>\n",
       "    <tr>\n",
       "      <th>4</th>\n",
       "      <td>1</td>\n",
       "      <td>No</td>\n",
       "      <td>0</td>\n",
       "    </tr>\n",
       "    <tr>\n",
       "      <th>5</th>\n",
       "      <td>1</td>\n",
       "      <td>Yes</td>\n",
       "      <td>0</td>\n",
       "    </tr>\n",
       "  </tbody>\n",
       "</table>\n",
       "</div>"
      ],
      "text/plain": [
       "   Cluster Previously diagnosed?  Counts\n",
       "0        0                   Yes     235\n",
       "1        0           Unspecified      72\n",
       "2        0                    No       5\n",
       "3        1           Unspecified     228\n",
       "4        1                    No       0\n",
       "5        1                   Yes       0"
      ]
     },
     "execution_count": 173,
     "metadata": {},
     "output_type": "execute_result"
    }
   ],
   "source": [
    "#For our first column 'Previously diagnosed?'\n",
    "P_d = (data.groupby('Cluster')['Previously diagnosed?'].value_counts()).to_frame()\n",
    "\n",
    "#Reset dataframe index, so that we have 3 columns, and then rename those columns\n",
    "P_d.reset_index(inplace=True)\n",
    "P_d.rename(columns={'level_1':'Previously diagnosed?', 'Previously diagnosed?':'Counts'}, inplace=True)\n",
    "\n",
    "#View what this dataframe now looks like.\n",
    "P_d"
   ]
  },
  {
   "cell_type": "code",
   "execution_count": 174,
   "id": "47d1dafa",
   "metadata": {},
   "outputs": [
    {
     "data": {
      "text/plain": [
       "Text(0.5, 1.0, 'Counts of individuals that has been Previously Diagnosed')"
      ]
     },
     "execution_count": 174,
     "metadata": {},
     "output_type": "execute_result"
    },
    {
     "data": {
      "image/png": "[encoded data removed]",
      "text/plain": [
       "<Figure size 432x288 with 1 Axes>"
      ]
     },
     "metadata": {},
     "output_type": "display_data"
    }
   ],
   "source": [
    "sns.barplot(x='Cluster', y='Counts', hue='Previously diagnosed?', data=P_d).set_title(\n",
    "    'Counts of individuals that has been Previously Diagnosed')"
   ]
  },
  {
   "cell_type": "markdown",
   "id": "e11c838a",
   "metadata": {},
   "source": [
    "This graph confirms that the individuals in Cluster 0 has been previously diagnosed with a Mental Illness. Compared to those individuals in Cluster 1, for which all individuals can not specify whther they have been previously diagnosed or not."
   ]
  },
  {
   "cell_type": "markdown",
   "id": "d93a326b",
   "metadata": {},
   "source": [
    "### Sought help?"
   ]
  },
  {
   "cell_type": "code",
   "execution_count": 175,
   "id": "3d87dc24",
   "metadata": {},
   "outputs": [
    {
     "data": {
      "text/html": [
       "<div>\n",
       "<style scoped>\n",
       "    .dataframe tbody tr th:only-of-type {\n",
       "        vertical-align: middle;\n",
       "    }\n",
       "\n",
       "    .dataframe tbody tr th {\n",
       "        vertical-align: top;\n",
       "    }\n",
       "\n",
       "    .dataframe thead th {\n",
       "        text-align: right;\n",
       "    }\n",
       "</style>\n",
       "<table border=\"1\" class=\"dataframe\">\n",
       "  <thead>\n",
       "    <tr style=\"text-align: right;\">\n",
       "      <th></th>\n",
       "      <th>Cluster</th>\n",
       "      <th>Sought help?</th>\n",
       "      <th>Counts</th>\n",
       "    </tr>\n",
       "  </thead>\n",
       "  <tbody>\n",
       "    <tr>\n",
       "      <th>0</th>\n",
       "      <td>0</td>\n",
       "      <td>Yes</td>\n",
       "      <td>304</td>\n",
       "    </tr>\n",
       "    <tr>\n",
       "      <th>1</th>\n",
       "      <td>0</td>\n",
       "      <td>No</td>\n",
       "      <td>8</td>\n",
       "    </tr>\n",
       "    <tr>\n",
       "      <th>2</th>\n",
       "      <td>1</td>\n",
       "      <td>No</td>\n",
       "      <td>195</td>\n",
       "    </tr>\n",
       "    <tr>\n",
       "      <th>3</th>\n",
       "      <td>1</td>\n",
       "      <td>Yes</td>\n",
       "      <td>33</td>\n",
       "    </tr>\n",
       "  </tbody>\n",
       "</table>\n",
       "</div>"
      ],
      "text/plain": [
       "   Cluster Sought help?  Counts\n",
       "0        0          Yes     304\n",
       "1        0           No       8\n",
       "2        1           No     195\n",
       "3        1          Yes      33"
      ]
     },
     "execution_count": 175,
     "metadata": {},
     "output_type": "execute_result"
    }
   ],
   "source": [
    "#For our second column 'Sought help?'\n",
    "S_h = (data.groupby('Cluster')['Sought help?'].value_counts()).to_frame()\n",
    "\n",
    "#Reset dataframe index, so that we have 3 columns, and then rename those columns\n",
    "S_h.reset_index(inplace=True)\n",
    "S_h.rename(columns={'level_1':'Sought help?', 'Sought help?':'Counts'}, inplace=True)\n",
    "\n",
    "#View what this dataframe now looks like.\n",
    "S_h"
   ]
  },
  {
   "cell_type": "code",
   "execution_count": 176,
   "id": "cfc136e9",
   "metadata": {},
   "outputs": [
    {
     "data": {
      "text/plain": [
       "Text(0.5, 1.0, 'Counts of individuals that have sought help')"
      ]
     },
     "execution_count": 176,
     "metadata": {},
     "output_type": "execute_result"
    },
    {
     "data": {
      "image/png": "[encoded data removed]",
      "text/plain": [
       "<Figure size 432x288 with 1 Axes>"
      ]
     },
     "metadata": {},
     "output_type": "display_data"
    }
   ],
   "source": [
    "sns.barplot(x='Cluster', y='Counts', hue='Sought help?', data=S_h).set_title('Counts of individuals that have sought help')"
   ]
  },
  {
   "cell_type": "markdown",
   "id": "67ba9eff",
   "metadata": {},
   "source": [
    "This graph shows us some good news. Even though the majority of individuals in Cluster 0 currently has, or previously had a mental health disorder, we can see that 97.5% of the individuals in CLuster 0 has sought help.\n",
    "<br>Interestingly, we see that the majority of individuals in Cluster 1, who are linked to not have a current mental illness, have not sought help. Although there is still individuals who have sought help."
   ]
  },
  {
   "cell_type": "markdown",
   "id": "475cdf67",
   "metadata": {},
   "source": [
    "When it comes to mental illness, seeking help must be a primary objective for all individuals. I think it is therefore important that we look at the amount of individuals who have a mental illness, and compare it to the amount of people who have sought help."
   ]
  },
  {
   "cell_type": "markdown",
   "id": "1ca0fad7",
   "metadata": {},
   "source": [
    "First we will get the amount of individuals who currently have a mental illness and who have not sought help."
   ]
  },
  {
   "cell_type": "code",
   "execution_count": 177,
   "id": "a3f418b2",
   "metadata": {},
   "outputs": [
    {
     "data": {
      "text/plain": [
       "8"
      ]
     },
     "execution_count": 177,
     "metadata": {},
     "output_type": "execute_result"
    }
   ],
   "source": [
    "No_help = data[(data['Current illness']=='Yes') & (data['Sought help?']=='No')]\n",
    "len(No_help)"
   ]
  },
  {
   "cell_type": "markdown",
   "id": "0a3f8c5e",
   "metadata": {},
   "source": [
    "Now we will get the amount of people who have mental illness."
   ]
  },
  {
   "cell_type": "code",
   "execution_count": 178,
   "id": "6771f043",
   "metadata": {},
   "outputs": [
    {
     "data": {
      "text/plain": [
       "240"
      ]
     },
     "execution_count": 178,
     "metadata": {},
     "output_type": "execute_result"
    }
   ],
   "source": [
    "illness = data[data['Current illness']=='Yes']\n",
    "len(illness)"
   ]
  },
  {
   "cell_type": "markdown",
   "id": "7d0200e8",
   "metadata": {},
   "source": [
    "As we can see we have a totall of 3% (8/240) of individuals who have been diagnosed with mental illness, but don't seek help.\n",
    "<br>This might not seem like a lot, although it is still unacceptable in 2022. \n",
    "\n",
    "With all of the negative affects that a Mental Illness can have on any individual, there is no reason for anyone to not be able to seek help."
   ]
  },
  {
   "cell_type": "markdown",
   "id": "f7bd8f75",
   "metadata": {},
   "source": [
    "### Illness history?"
   ]
  },
  {
   "cell_type": "markdown",
   "id": "a9a736d0",
   "metadata": {},
   "source": [
    "Let's continue and see how our category of previous illness is spread across our two Clusters"
   ]
  },
  {
   "cell_type": "code",
   "execution_count": 179,
   "id": "4463de8e",
   "metadata": {},
   "outputs": [
    {
     "data": {
      "text/html": [
       "<div>\n",
       "<style scoped>\n",
       "    .dataframe tbody tr th:only-of-type {\n",
       "        vertical-align: middle;\n",
       "    }\n",
       "\n",
       "    .dataframe tbody tr th {\n",
       "        vertical-align: top;\n",
       "    }\n",
       "\n",
       "    .dataframe thead th {\n",
       "        text-align: right;\n",
       "    }\n",
       "</style>\n",
       "<table border=\"1\" class=\"dataframe\">\n",
       "  <thead>\n",
       "    <tr style=\"text-align: right;\">\n",
       "      <th></th>\n",
       "      <th>Cluster</th>\n",
       "      <th>Illness history?</th>\n",
       "      <th>Counts</th>\n",
       "    </tr>\n",
       "  </thead>\n",
       "  <tbody>\n",
       "    <tr>\n",
       "      <th>0</th>\n",
       "      <td>0</td>\n",
       "      <td>Yes</td>\n",
       "      <td>203</td>\n",
       "    </tr>\n",
       "    <tr>\n",
       "      <th>1</th>\n",
       "      <td>0</td>\n",
       "      <td>I don't know</td>\n",
       "      <td>82</td>\n",
       "    </tr>\n",
       "    <tr>\n",
       "      <th>2</th>\n",
       "      <td>0</td>\n",
       "      <td>No</td>\n",
       "      <td>27</td>\n",
       "    </tr>\n",
       "    <tr>\n",
       "      <th>3</th>\n",
       "      <td>1</td>\n",
       "      <td>No</td>\n",
       "      <td>117</td>\n",
       "    </tr>\n",
       "    <tr>\n",
       "      <th>4</th>\n",
       "      <td>1</td>\n",
       "      <td>I don't know</td>\n",
       "      <td>60</td>\n",
       "    </tr>\n",
       "    <tr>\n",
       "      <th>5</th>\n",
       "      <td>1</td>\n",
       "      <td>Yes</td>\n",
       "      <td>51</td>\n",
       "    </tr>\n",
       "  </tbody>\n",
       "</table>\n",
       "</div>"
      ],
      "text/plain": [
       "   Cluster Illness history?  Counts\n",
       "0        0              Yes     203\n",
       "1        0     I don't know      82\n",
       "2        0               No      27\n",
       "3        1               No     117\n",
       "4        1     I don't know      60\n",
       "5        1              Yes      51"
      ]
     },
     "execution_count": 179,
     "metadata": {},
     "output_type": "execute_result"
    }
   ],
   "source": [
    "#For our final column 'Illness history?'\n",
    "I_h = (data.groupby('Cluster')['Illness history?'].value_counts()).to_frame()\n",
    "\n",
    "#Reset dataframe index, so that we have 3 columns, and then rename those columns\n",
    "I_h.reset_index(inplace=True)\n",
    "I_h.rename(columns={'level_1':'Illness history?', 'Illness history?':'Counts'}, inplace=True)\n",
    "\n",
    "#View what this dataframe now looks like.\n",
    "I_h"
   ]
  },
  {
   "cell_type": "code",
   "execution_count": 180,
   "id": "56e08a5b",
   "metadata": {},
   "outputs": [
    {
     "data": {
      "text/plain": [
       "Text(0.5, 1.0, 'Individuals with previous Illness history')"
      ]
     },
     "execution_count": 180,
     "metadata": {},
     "output_type": "execute_result"
    },
    {
     "data": {
      "image/png": "[encoded data removed]",
      "text/plain": [
       "<Figure size 432x288 with 1 Axes>"
      ]
     },
     "metadata": {},
     "output_type": "display_data"
    }
   ],
   "source": [
    "sns.barplot(x='Cluster', y='Counts', hue='Illness history?', data=I_h).set_title('Individuals with previous Illness history')"
   ]
  },
  {
   "cell_type": "markdown",
   "id": "d6d181be",
   "metadata": {},
   "source": [
    "It is clear that Cluster 0 has a lot of individuals with Illness history. Given the fact that we can describe Cluster 0 to be individuals with a current Illness, it is not surprising.\n",
    "<br>What is good to see is that when looking at the amount of individuals in Cluster 1, which can be described as individuals who does not currently have a Mental Illness, we can see that the number of individuals currently with a Mentall Illness is lower than the amount of individuals with a Mental Illness history."
   ]
  },
  {
   "cell_type": "markdown",
   "id": "5c767549",
   "metadata": {},
   "source": [
    "### Plotting the columns : 'Live Country' and 'Work Country'\n",
    "We will now take a look the amount that of our Clusters contain in terms of Live/Work Countries."
   ]
  },
  {
   "cell_type": "markdown",
   "id": "7e3f6186",
   "metadata": {},
   "source": [
    "### Live Country"
   ]
  },
  {
   "cell_type": "code",
   "execution_count": 181,
   "id": "6c9d648d",
   "metadata": {
    "scrolled": true
   },
   "outputs": [
    {
     "data": {
      "text/html": [
       "<div>\n",
       "<style scoped>\n",
       "    .dataframe tbody tr th:only-of-type {\n",
       "        vertical-align: middle;\n",
       "    }\n",
       "\n",
       "    .dataframe tbody tr th {\n",
       "        vertical-align: top;\n",
       "    }\n",
       "\n",
       "    .dataframe thead th {\n",
       "        text-align: right;\n",
       "    }\n",
       "</style>\n",
       "<table border=\"1\" class=\"dataframe\">\n",
       "  <thead>\n",
       "    <tr style=\"text-align: right;\">\n",
       "      <th></th>\n",
       "      <th>Cluster</th>\n",
       "      <th>Live Country</th>\n",
       "      <th>Counts</th>\n",
       "    </tr>\n",
       "  </thead>\n",
       "  <tbody>\n",
       "    <tr>\n",
       "      <th>0</th>\n",
       "      <td>0</td>\n",
       "      <td>United States of America</td>\n",
       "      <td>263</td>\n",
       "    </tr>\n",
       "    <tr>\n",
       "      <th>1</th>\n",
       "      <td>0</td>\n",
       "      <td>United Kingdom</td>\n",
       "      <td>22</td>\n",
       "    </tr>\n",
       "    <tr>\n",
       "      <th>2</th>\n",
       "      <td>0</td>\n",
       "      <td>Germany</td>\n",
       "      <td>8</td>\n",
       "    </tr>\n",
       "    <tr>\n",
       "      <th>3</th>\n",
       "      <td>0</td>\n",
       "      <td>Canada</td>\n",
       "      <td>7</td>\n",
       "    </tr>\n",
       "    <tr>\n",
       "      <th>4</th>\n",
       "      <td>0</td>\n",
       "      <td>Netherlands</td>\n",
       "      <td>5</td>\n",
       "    </tr>\n",
       "    <tr>\n",
       "      <th>5</th>\n",
       "      <td>0</td>\n",
       "      <td>France</td>\n",
       "      <td>3</td>\n",
       "    </tr>\n",
       "    <tr>\n",
       "      <th>6</th>\n",
       "      <td>0</td>\n",
       "      <td>Mexico</td>\n",
       "      <td>1</td>\n",
       "    </tr>\n",
       "    <tr>\n",
       "      <th>7</th>\n",
       "      <td>0</td>\n",
       "      <td>Portugal</td>\n",
       "      <td>1</td>\n",
       "    </tr>\n",
       "    <tr>\n",
       "      <th>8</th>\n",
       "      <td>0</td>\n",
       "      <td>Spain</td>\n",
       "      <td>1</td>\n",
       "    </tr>\n",
       "    <tr>\n",
       "      <th>9</th>\n",
       "      <td>0</td>\n",
       "      <td>Switzerland</td>\n",
       "      <td>1</td>\n",
       "    </tr>\n",
       "    <tr>\n",
       "      <th>10</th>\n",
       "      <td>0</td>\n",
       "      <td>Australia</td>\n",
       "      <td>0</td>\n",
       "    </tr>\n",
       "    <tr>\n",
       "      <th>11</th>\n",
       "      <td>0</td>\n",
       "      <td>Greece</td>\n",
       "      <td>0</td>\n",
       "    </tr>\n",
       "    <tr>\n",
       "      <th>12</th>\n",
       "      <td>0</td>\n",
       "      <td>India</td>\n",
       "      <td>0</td>\n",
       "    </tr>\n",
       "    <tr>\n",
       "      <th>13</th>\n",
       "      <td>0</td>\n",
       "      <td>Ireland</td>\n",
       "      <td>0</td>\n",
       "    </tr>\n",
       "    <tr>\n",
       "      <th>14</th>\n",
       "      <td>0</td>\n",
       "      <td>Sweden</td>\n",
       "      <td>0</td>\n",
       "    </tr>\n",
       "    <tr>\n",
       "      <th>15</th>\n",
       "      <td>1</td>\n",
       "      <td>United States of America</td>\n",
       "      <td>153</td>\n",
       "    </tr>\n",
       "    <tr>\n",
       "      <th>16</th>\n",
       "      <td>1</td>\n",
       "      <td>United Kingdom</td>\n",
       "      <td>25</td>\n",
       "    </tr>\n",
       "    <tr>\n",
       "      <th>17</th>\n",
       "      <td>1</td>\n",
       "      <td>France</td>\n",
       "      <td>11</td>\n",
       "    </tr>\n",
       "    <tr>\n",
       "      <th>18</th>\n",
       "      <td>1</td>\n",
       "      <td>Spain</td>\n",
       "      <td>11</td>\n",
       "    </tr>\n",
       "    <tr>\n",
       "      <th>19</th>\n",
       "      <td>1</td>\n",
       "      <td>Germany</td>\n",
       "      <td>8</td>\n",
       "    </tr>\n",
       "    <tr>\n",
       "      <th>20</th>\n",
       "      <td>1</td>\n",
       "      <td>Canada</td>\n",
       "      <td>7</td>\n",
       "    </tr>\n",
       "    <tr>\n",
       "      <th>21</th>\n",
       "      <td>1</td>\n",
       "      <td>Netherlands</td>\n",
       "      <td>5</td>\n",
       "    </tr>\n",
       "    <tr>\n",
       "      <th>22</th>\n",
       "      <td>1</td>\n",
       "      <td>Australia</td>\n",
       "      <td>2</td>\n",
       "    </tr>\n",
       "    <tr>\n",
       "      <th>23</th>\n",
       "      <td>1</td>\n",
       "      <td>India</td>\n",
       "      <td>2</td>\n",
       "    </tr>\n",
       "    <tr>\n",
       "      <th>24</th>\n",
       "      <td>1</td>\n",
       "      <td>Greece</td>\n",
       "      <td>1</td>\n",
       "    </tr>\n",
       "    <tr>\n",
       "      <th>25</th>\n",
       "      <td>1</td>\n",
       "      <td>Ireland</td>\n",
       "      <td>1</td>\n",
       "    </tr>\n",
       "    <tr>\n",
       "      <th>26</th>\n",
       "      <td>1</td>\n",
       "      <td>Mexico</td>\n",
       "      <td>1</td>\n",
       "    </tr>\n",
       "    <tr>\n",
       "      <th>27</th>\n",
       "      <td>1</td>\n",
       "      <td>Sweden</td>\n",
       "      <td>1</td>\n",
       "    </tr>\n",
       "    <tr>\n",
       "      <th>28</th>\n",
       "      <td>1</td>\n",
       "      <td>Portugal</td>\n",
       "      <td>0</td>\n",
       "    </tr>\n",
       "    <tr>\n",
       "      <th>29</th>\n",
       "      <td>1</td>\n",
       "      <td>Switzerland</td>\n",
       "      <td>0</td>\n",
       "    </tr>\n",
       "  </tbody>\n",
       "</table>\n",
       "</div>"
      ],
      "text/plain": [
       "    Cluster              Live Country  Counts\n",
       "0         0  United States of America     263\n",
       "1         0            United Kingdom      22\n",
       "2         0                   Germany       8\n",
       "3         0                    Canada       7\n",
       "4         0               Netherlands       5\n",
       "5         0                    France       3\n",
       "6         0                    Mexico       1\n",
       "7         0                  Portugal       1\n",
       "8         0                     Spain       1\n",
       "9         0               Switzerland       1\n",
       "10        0                 Australia       0\n",
       "11        0                    Greece       0\n",
       "12        0                     India       0\n",
       "13        0                   Ireland       0\n",
       "14        0                    Sweden       0\n",
       "15        1  United States of America     153\n",
       "16        1            United Kingdom      25\n",
       "17        1                    France      11\n",
       "18        1                     Spain      11\n",
       "19        1                   Germany       8\n",
       "20        1                    Canada       7\n",
       "21        1               Netherlands       5\n",
       "22        1                 Australia       2\n",
       "23        1                     India       2\n",
       "24        1                    Greece       1\n",
       "25        1                   Ireland       1\n",
       "26        1                    Mexico       1\n",
       "27        1                    Sweden       1\n",
       "28        1                  Portugal       0\n",
       "29        1               Switzerland       0"
      ]
     },
     "execution_count": 181,
     "metadata": {},
     "output_type": "execute_result"
    }
   ],
   "source": [
    "#For our column 'Live Country'\n",
    "lc = (data.groupby('Cluster')['Live Country'].value_counts()).to_frame()\n",
    "\n",
    "#Reset dataframe index, so that we have 3 columns, and then rename those columns\n",
    "lc.reset_index(inplace=True)\n",
    "lc.rename(columns={'level_1':'Live Country', 'Live Country':'Counts'}, inplace=True)\n",
    "\n",
    "#View what this dataframe now looks like.\n",
    "lc"
   ]
  },
  {
   "cell_type": "code",
   "execution_count": 182,
   "id": "fdc08d08",
   "metadata": {},
   "outputs": [
    {
     "data": {
      "text/plain": [
       "Text(0.5, 1.0, 'Individual Live country count')"
      ]
     },
     "execution_count": 182,
     "metadata": {},
     "output_type": "execute_result"
    },
    {
     "data": {
      "image/png": "[encoded data removed]",
      "text/plain": [
       "<Figure size 432x288 with 1 Axes>"
      ]
     },
     "metadata": {},
     "output_type": "display_data"
    }
   ],
   "source": [
    "sns.barplot(x='Cluster', y='Counts', hue='Live Country', data=lc , palette='YlOrRd').set_title('Individual Live country count')"
   ]
  },
  {
   "cell_type": "markdown",
   "id": "fcf4f729",
   "metadata": {},
   "source": [
    "### Work Country"
   ]
  },
  {
   "cell_type": "code",
   "execution_count": 183,
   "id": "68f33b2a",
   "metadata": {
    "scrolled": true
   },
   "outputs": [
    {
     "data": {
      "text/html": [
       "<div>\n",
       "<style scoped>\n",
       "    .dataframe tbody tr th:only-of-type {\n",
       "        vertical-align: middle;\n",
       "    }\n",
       "\n",
       "    .dataframe tbody tr th {\n",
       "        vertical-align: top;\n",
       "    }\n",
       "\n",
       "    .dataframe thead th {\n",
       "        text-align: right;\n",
       "    }\n",
       "</style>\n",
       "<table border=\"1\" class=\"dataframe\">\n",
       "  <thead>\n",
       "    <tr style=\"text-align: right;\">\n",
       "      <th></th>\n",
       "      <th>Cluster</th>\n",
       "      <th>Work Country</th>\n",
       "      <th>Counts</th>\n",
       "    </tr>\n",
       "  </thead>\n",
       "  <tbody>\n",
       "    <tr>\n",
       "      <th>0</th>\n",
       "      <td>0</td>\n",
       "      <td>United States of America</td>\n",
       "      <td>263</td>\n",
       "    </tr>\n",
       "    <tr>\n",
       "      <th>1</th>\n",
       "      <td>0</td>\n",
       "      <td>United Kingdom</td>\n",
       "      <td>22</td>\n",
       "    </tr>\n",
       "    <tr>\n",
       "      <th>2</th>\n",
       "      <td>0</td>\n",
       "      <td>Germany</td>\n",
       "      <td>8</td>\n",
       "    </tr>\n",
       "    <tr>\n",
       "      <th>3</th>\n",
       "      <td>0</td>\n",
       "      <td>Canada</td>\n",
       "      <td>7</td>\n",
       "    </tr>\n",
       "    <tr>\n",
       "      <th>4</th>\n",
       "      <td>0</td>\n",
       "      <td>Netherlands</td>\n",
       "      <td>5</td>\n",
       "    </tr>\n",
       "    <tr>\n",
       "      <th>5</th>\n",
       "      <td>0</td>\n",
       "      <td>France</td>\n",
       "      <td>3</td>\n",
       "    </tr>\n",
       "    <tr>\n",
       "      <th>6</th>\n",
       "      <td>0</td>\n",
       "      <td>Mexico</td>\n",
       "      <td>1</td>\n",
       "    </tr>\n",
       "    <tr>\n",
       "      <th>7</th>\n",
       "      <td>0</td>\n",
       "      <td>Portugal</td>\n",
       "      <td>1</td>\n",
       "    </tr>\n",
       "    <tr>\n",
       "      <th>8</th>\n",
       "      <td>0</td>\n",
       "      <td>Spain</td>\n",
       "      <td>1</td>\n",
       "    </tr>\n",
       "    <tr>\n",
       "      <th>9</th>\n",
       "      <td>0</td>\n",
       "      <td>Switzerland</td>\n",
       "      <td>1</td>\n",
       "    </tr>\n",
       "    <tr>\n",
       "      <th>10</th>\n",
       "      <td>0</td>\n",
       "      <td>Australia</td>\n",
       "      <td>0</td>\n",
       "    </tr>\n",
       "    <tr>\n",
       "      <th>11</th>\n",
       "      <td>0</td>\n",
       "      <td>India</td>\n",
       "      <td>0</td>\n",
       "    </tr>\n",
       "    <tr>\n",
       "      <th>12</th>\n",
       "      <td>0</td>\n",
       "      <td>Ireland</td>\n",
       "      <td>0</td>\n",
       "    </tr>\n",
       "    <tr>\n",
       "      <th>13</th>\n",
       "      <td>0</td>\n",
       "      <td>Luxembourg</td>\n",
       "      <td>0</td>\n",
       "    </tr>\n",
       "    <tr>\n",
       "      <th>14</th>\n",
       "      <td>0</td>\n",
       "      <td>Sweden</td>\n",
       "      <td>0</td>\n",
       "    </tr>\n",
       "    <tr>\n",
       "      <th>15</th>\n",
       "      <td>1</td>\n",
       "      <td>United States of America</td>\n",
       "      <td>154</td>\n",
       "    </tr>\n",
       "    <tr>\n",
       "      <th>16</th>\n",
       "      <td>1</td>\n",
       "      <td>United Kingdom</td>\n",
       "      <td>25</td>\n",
       "    </tr>\n",
       "    <tr>\n",
       "      <th>17</th>\n",
       "      <td>1</td>\n",
       "      <td>Spain</td>\n",
       "      <td>11</td>\n",
       "    </tr>\n",
       "    <tr>\n",
       "      <th>18</th>\n",
       "      <td>1</td>\n",
       "      <td>France</td>\n",
       "      <td>10</td>\n",
       "    </tr>\n",
       "    <tr>\n",
       "      <th>19</th>\n",
       "      <td>1</td>\n",
       "      <td>Germany</td>\n",
       "      <td>8</td>\n",
       "    </tr>\n",
       "    <tr>\n",
       "      <th>20</th>\n",
       "      <td>1</td>\n",
       "      <td>Canada</td>\n",
       "      <td>7</td>\n",
       "    </tr>\n",
       "    <tr>\n",
       "      <th>21</th>\n",
       "      <td>1</td>\n",
       "      <td>Netherlands</td>\n",
       "      <td>5</td>\n",
       "    </tr>\n",
       "    <tr>\n",
       "      <th>22</th>\n",
       "      <td>1</td>\n",
       "      <td>Australia</td>\n",
       "      <td>2</td>\n",
       "    </tr>\n",
       "    <tr>\n",
       "      <th>23</th>\n",
       "      <td>1</td>\n",
       "      <td>India</td>\n",
       "      <td>2</td>\n",
       "    </tr>\n",
       "    <tr>\n",
       "      <th>24</th>\n",
       "      <td>1</td>\n",
       "      <td>Ireland</td>\n",
       "      <td>1</td>\n",
       "    </tr>\n",
       "    <tr>\n",
       "      <th>25</th>\n",
       "      <td>1</td>\n",
       "      <td>Luxembourg</td>\n",
       "      <td>1</td>\n",
       "    </tr>\n",
       "    <tr>\n",
       "      <th>26</th>\n",
       "      <td>1</td>\n",
       "      <td>Mexico</td>\n",
       "      <td>1</td>\n",
       "    </tr>\n",
       "    <tr>\n",
       "      <th>27</th>\n",
       "      <td>1</td>\n",
       "      <td>Sweden</td>\n",
       "      <td>1</td>\n",
       "    </tr>\n",
       "    <tr>\n",
       "      <th>28</th>\n",
       "      <td>1</td>\n",
       "      <td>Portugal</td>\n",
       "      <td>0</td>\n",
       "    </tr>\n",
       "    <tr>\n",
       "      <th>29</th>\n",
       "      <td>1</td>\n",
       "      <td>Switzerland</td>\n",
       "      <td>0</td>\n",
       "    </tr>\n",
       "  </tbody>\n",
       "</table>\n",
       "</div>"
      ],
      "text/plain": [
       "    Cluster              Work Country  Counts\n",
       "0         0  United States of America     263\n",
       "1         0            United Kingdom      22\n",
       "2         0                   Germany       8\n",
       "3         0                    Canada       7\n",
       "4         0               Netherlands       5\n",
       "5         0                    France       3\n",
       "6         0                    Mexico       1\n",
       "7         0                  Portugal       1\n",
       "8         0                     Spain       1\n",
       "9         0               Switzerland       1\n",
       "10        0                 Australia       0\n",
       "11        0                     India       0\n",
       "12        0                   Ireland       0\n",
       "13        0                Luxembourg       0\n",
       "14        0                    Sweden       0\n",
       "15        1  United States of America     154\n",
       "16        1            United Kingdom      25\n",
       "17        1                     Spain      11\n",
       "18        1                    France      10\n",
       "19        1                   Germany       8\n",
       "20        1                    Canada       7\n",
       "21        1               Netherlands       5\n",
       "22        1                 Australia       2\n",
       "23        1                     India       2\n",
       "24        1                   Ireland       1\n",
       "25        1                Luxembourg       1\n",
       "26        1                    Mexico       1\n",
       "27        1                    Sweden       1\n",
       "28        1                  Portugal       0\n",
       "29        1               Switzerland       0"
      ]
     },
     "execution_count": 183,
     "metadata": {},
     "output_type": "execute_result"
    }
   ],
   "source": [
    "#For our column 'Work Country'\n",
    "wc = (data.groupby('Cluster')['Work Country'].value_counts()).to_frame()\n",
    "\n",
    "#Reset dataframe index, so that we have 3 columns, and then rename those columns\n",
    "wc.reset_index(inplace=True)\n",
    "wc.rename(columns={'level_1':'Work Country', 'Work Country':'Counts'}, inplace=True)\n",
    "\n",
    "#View what this dataframe now looks like.\n",
    "wc"
   ]
  },
  {
   "cell_type": "code",
   "execution_count": 184,
   "id": "d060fb3e",
   "metadata": {},
   "outputs": [
    {
     "data": {
      "text/plain": [
       "Text(0.5, 1.0, 'Individual work country count')"
      ]
     },
     "execution_count": 184,
     "metadata": {},
     "output_type": "execute_result"
    },
    {
     "data": {
      "image/png": "[encoded data removed]",
      "text/plain": [
       "<Figure size 432x288 with 1 Axes>"
      ]
     },
     "metadata": {},
     "output_type": "display_data"
    }
   ],
   "source": [
    "sns.barplot(x='Cluster', y='Counts', hue='Live Country', data=lc , palette='YlOrRd').set_title('Individual work country count')"
   ]
  },
  {
   "cell_type": "markdown",
   "id": "1782d50d",
   "metadata": {},
   "source": [
    "As you might have expected, since the majority of individuals who answered this survey is from the USA and UK, respectively, their bar ranks the highest amongst them in both 'Live and Work Country'. \n",
    "<br>When looking at the values printed above each graph and looking at the graphs themselves, we can see that it is relatively evenly split between the clusters. \n",
    "\n",
    "Although, one interesting remark to make, is the amount of individuals in Cluster 0, who are from Eastern Europe. Intuitively, this could potentially suggest that working in or at European countries could lower the potential for having Mental health problems.\n",
    "\n",
    "A deeper investigation into this Hypothesis could be done, returning potentially interesting results. This will however not be done in this notebook, as we have limited data of individuals from Europe."
   ]
  },
  {
   "cell_type": "markdown",
   "id": "ab22116d",
   "metadata": {},
   "source": [
    "### Finally\n",
    "I want to compare the amount of mental health benefits provided by employers in all of the different countries.\n",
    "<br>It is important that employers in different countries focus on providing these benefits."
   ]
  },
  {
   "cell_type": "code",
   "execution_count": 185,
   "id": "e4701d33",
   "metadata": {
    "scrolled": true
   },
   "outputs": [
    {
     "data": {
      "text/html": [
       "<div>\n",
       "<style scoped>\n",
       "    .dataframe tbody tr th:only-of-type {\n",
       "        vertical-align: middle;\n",
       "    }\n",
       "\n",
       "    .dataframe tbody tr th {\n",
       "        vertical-align: top;\n",
       "    }\n",
       "\n",
       "    .dataframe thead th {\n",
       "        text-align: right;\n",
       "    }\n",
       "</style>\n",
       "<table border=\"1\" class=\"dataframe\">\n",
       "  <thead>\n",
       "    <tr style=\"text-align: right;\">\n",
       "      <th></th>\n",
       "      <th>M-H benefits?</th>\n",
       "      <th>Work Country</th>\n",
       "      <th>Counts</th>\n",
       "    </tr>\n",
       "  </thead>\n",
       "  <tbody>\n",
       "    <tr>\n",
       "      <th>0</th>\n",
       "      <td>I don't know</td>\n",
       "      <td>United States of America</td>\n",
       "      <td>110</td>\n",
       "    </tr>\n",
       "    <tr>\n",
       "      <th>1</th>\n",
       "      <td>I don't know</td>\n",
       "      <td>United Kingdom</td>\n",
       "      <td>14</td>\n",
       "    </tr>\n",
       "    <tr>\n",
       "      <th>2</th>\n",
       "      <td>I don't know</td>\n",
       "      <td>France</td>\n",
       "      <td>8</td>\n",
       "    </tr>\n",
       "    <tr>\n",
       "      <th>3</th>\n",
       "      <td>I don't know</td>\n",
       "      <td>Germany</td>\n",
       "      <td>5</td>\n",
       "    </tr>\n",
       "    <tr>\n",
       "      <th>4</th>\n",
       "      <td>I don't know</td>\n",
       "      <td>Canada</td>\n",
       "      <td>2</td>\n",
       "    </tr>\n",
       "    <tr>\n",
       "      <th>5</th>\n",
       "      <td>I don't know</td>\n",
       "      <td>Netherlands</td>\n",
       "      <td>2</td>\n",
       "    </tr>\n",
       "    <tr>\n",
       "      <th>6</th>\n",
       "      <td>I don't know</td>\n",
       "      <td>Spain</td>\n",
       "      <td>1</td>\n",
       "    </tr>\n",
       "    <tr>\n",
       "      <th>7</th>\n",
       "      <td>I don't know</td>\n",
       "      <td>Australia</td>\n",
       "      <td>0</td>\n",
       "    </tr>\n",
       "    <tr>\n",
       "      <th>8</th>\n",
       "      <td>I don't know</td>\n",
       "      <td>India</td>\n",
       "      <td>0</td>\n",
       "    </tr>\n",
       "    <tr>\n",
       "      <th>9</th>\n",
       "      <td>I don't know</td>\n",
       "      <td>Ireland</td>\n",
       "      <td>0</td>\n",
       "    </tr>\n",
       "    <tr>\n",
       "      <th>10</th>\n",
       "      <td>I don't know</td>\n",
       "      <td>Luxembourg</td>\n",
       "      <td>0</td>\n",
       "    </tr>\n",
       "    <tr>\n",
       "      <th>11</th>\n",
       "      <td>I don't know</td>\n",
       "      <td>Mexico</td>\n",
       "      <td>0</td>\n",
       "    </tr>\n",
       "    <tr>\n",
       "      <th>12</th>\n",
       "      <td>I don't know</td>\n",
       "      <td>Portugal</td>\n",
       "      <td>0</td>\n",
       "    </tr>\n",
       "    <tr>\n",
       "      <th>13</th>\n",
       "      <td>I don't know</td>\n",
       "      <td>Sweden</td>\n",
       "      <td>0</td>\n",
       "    </tr>\n",
       "    <tr>\n",
       "      <th>14</th>\n",
       "      <td>I don't know</td>\n",
       "      <td>Switzerland</td>\n",
       "      <td>0</td>\n",
       "    </tr>\n",
       "    <tr>\n",
       "      <th>15</th>\n",
       "      <td>No</td>\n",
       "      <td>United States of America</td>\n",
       "      <td>24</td>\n",
       "    </tr>\n",
       "    <tr>\n",
       "      <th>16</th>\n",
       "      <td>No</td>\n",
       "      <td>United Kingdom</td>\n",
       "      <td>22</td>\n",
       "    </tr>\n",
       "    <tr>\n",
       "      <th>17</th>\n",
       "      <td>No</td>\n",
       "      <td>Spain</td>\n",
       "      <td>10</td>\n",
       "    </tr>\n",
       "    <tr>\n",
       "      <th>18</th>\n",
       "      <td>No</td>\n",
       "      <td>Germany</td>\n",
       "      <td>5</td>\n",
       "    </tr>\n",
       "    <tr>\n",
       "      <th>19</th>\n",
       "      <td>No</td>\n",
       "      <td>Netherlands</td>\n",
       "      <td>5</td>\n",
       "    </tr>\n",
       "    <tr>\n",
       "      <th>20</th>\n",
       "      <td>No</td>\n",
       "      <td>Canada</td>\n",
       "      <td>4</td>\n",
       "    </tr>\n",
       "    <tr>\n",
       "      <th>21</th>\n",
       "      <td>No</td>\n",
       "      <td>France</td>\n",
       "      <td>1</td>\n",
       "    </tr>\n",
       "    <tr>\n",
       "      <th>22</th>\n",
       "      <td>No</td>\n",
       "      <td>Australia</td>\n",
       "      <td>0</td>\n",
       "    </tr>\n",
       "    <tr>\n",
       "      <th>23</th>\n",
       "      <td>No</td>\n",
       "      <td>India</td>\n",
       "      <td>0</td>\n",
       "    </tr>\n",
       "    <tr>\n",
       "      <th>24</th>\n",
       "      <td>No</td>\n",
       "      <td>Ireland</td>\n",
       "      <td>0</td>\n",
       "    </tr>\n",
       "    <tr>\n",
       "      <th>25</th>\n",
       "      <td>No</td>\n",
       "      <td>Luxembourg</td>\n",
       "      <td>0</td>\n",
       "    </tr>\n",
       "    <tr>\n",
       "      <th>26</th>\n",
       "      <td>No</td>\n",
       "      <td>Mexico</td>\n",
       "      <td>0</td>\n",
       "    </tr>\n",
       "    <tr>\n",
       "      <th>27</th>\n",
       "      <td>No</td>\n",
       "      <td>Portugal</td>\n",
       "      <td>0</td>\n",
       "    </tr>\n",
       "    <tr>\n",
       "      <th>28</th>\n",
       "      <td>No</td>\n",
       "      <td>Sweden</td>\n",
       "      <td>0</td>\n",
       "    </tr>\n",
       "    <tr>\n",
       "      <th>29</th>\n",
       "      <td>No</td>\n",
       "      <td>Switzerland</td>\n",
       "      <td>0</td>\n",
       "    </tr>\n",
       "    <tr>\n",
       "      <th>30</th>\n",
       "      <td>Yes</td>\n",
       "      <td>United States of America</td>\n",
       "      <td>283</td>\n",
       "    </tr>\n",
       "    <tr>\n",
       "      <th>31</th>\n",
       "      <td>Yes</td>\n",
       "      <td>United Kingdom</td>\n",
       "      <td>11</td>\n",
       "    </tr>\n",
       "    <tr>\n",
       "      <th>32</th>\n",
       "      <td>Yes</td>\n",
       "      <td>Canada</td>\n",
       "      <td>8</td>\n",
       "    </tr>\n",
       "    <tr>\n",
       "      <th>33</th>\n",
       "      <td>Yes</td>\n",
       "      <td>Germany</td>\n",
       "      <td>6</td>\n",
       "    </tr>\n",
       "    <tr>\n",
       "      <th>34</th>\n",
       "      <td>Yes</td>\n",
       "      <td>France</td>\n",
       "      <td>4</td>\n",
       "    </tr>\n",
       "    <tr>\n",
       "      <th>35</th>\n",
       "      <td>Yes</td>\n",
       "      <td>Netherlands</td>\n",
       "      <td>3</td>\n",
       "    </tr>\n",
       "    <tr>\n",
       "      <th>36</th>\n",
       "      <td>Yes</td>\n",
       "      <td>Australia</td>\n",
       "      <td>2</td>\n",
       "    </tr>\n",
       "    <tr>\n",
       "      <th>37</th>\n",
       "      <td>Yes</td>\n",
       "      <td>India</td>\n",
       "      <td>2</td>\n",
       "    </tr>\n",
       "    <tr>\n",
       "      <th>38</th>\n",
       "      <td>Yes</td>\n",
       "      <td>Mexico</td>\n",
       "      <td>2</td>\n",
       "    </tr>\n",
       "    <tr>\n",
       "      <th>39</th>\n",
       "      <td>Yes</td>\n",
       "      <td>Ireland</td>\n",
       "      <td>1</td>\n",
       "    </tr>\n",
       "    <tr>\n",
       "      <th>40</th>\n",
       "      <td>Yes</td>\n",
       "      <td>Luxembourg</td>\n",
       "      <td>1</td>\n",
       "    </tr>\n",
       "    <tr>\n",
       "      <th>41</th>\n",
       "      <td>Yes</td>\n",
       "      <td>Portugal</td>\n",
       "      <td>1</td>\n",
       "    </tr>\n",
       "    <tr>\n",
       "      <th>42</th>\n",
       "      <td>Yes</td>\n",
       "      <td>Spain</td>\n",
       "      <td>1</td>\n",
       "    </tr>\n",
       "    <tr>\n",
       "      <th>43</th>\n",
       "      <td>Yes</td>\n",
       "      <td>Sweden</td>\n",
       "      <td>1</td>\n",
       "    </tr>\n",
       "    <tr>\n",
       "      <th>44</th>\n",
       "      <td>Yes</td>\n",
       "      <td>Switzerland</td>\n",
       "      <td>1</td>\n",
       "    </tr>\n",
       "  </tbody>\n",
       "</table>\n",
       "</div>"
      ],
      "text/plain": [
       "   M-H benefits?              Work Country  Counts\n",
       "0   I don't know  United States of America     110\n",
       "1   I don't know            United Kingdom      14\n",
       "2   I don't know                    France       8\n",
       "3   I don't know                   Germany       5\n",
       "4   I don't know                    Canada       2\n",
       "5   I don't know               Netherlands       2\n",
       "6   I don't know                     Spain       1\n",
       "7   I don't know                 Australia       0\n",
       "8   I don't know                     India       0\n",
       "9   I don't know                   Ireland       0\n",
       "10  I don't know                Luxembourg       0\n",
       "11  I don't know                    Mexico       0\n",
       "12  I don't know                  Portugal       0\n",
       "13  I don't know                    Sweden       0\n",
       "14  I don't know               Switzerland       0\n",
       "15            No  United States of America      24\n",
       "16            No            United Kingdom      22\n",
       "17            No                     Spain      10\n",
       "18            No                   Germany       5\n",
       "19            No               Netherlands       5\n",
       "20            No                    Canada       4\n",
       "21            No                    France       1\n",
       "22            No                 Australia       0\n",
       "23            No                     India       0\n",
       "24            No                   Ireland       0\n",
       "25            No                Luxembourg       0\n",
       "26            No                    Mexico       0\n",
       "27            No                  Portugal       0\n",
       "28            No                    Sweden       0\n",
       "29            No               Switzerland       0\n",
       "30           Yes  United States of America     283\n",
       "31           Yes            United Kingdom      11\n",
       "32           Yes                    Canada       8\n",
       "33           Yes                   Germany       6\n",
       "34           Yes                    France       4\n",
       "35           Yes               Netherlands       3\n",
       "36           Yes                 Australia       2\n",
       "37           Yes                     India       2\n",
       "38           Yes                    Mexico       2\n",
       "39           Yes                   Ireland       1\n",
       "40           Yes                Luxembourg       1\n",
       "41           Yes                  Portugal       1\n",
       "42           Yes                     Spain       1\n",
       "43           Yes                    Sweden       1\n",
       "44           Yes               Switzerland       1"
      ]
     },
     "execution_count": 185,
     "metadata": {},
     "output_type": "execute_result"
    }
   ],
   "source": [
    "#Obtain data on the amount of Mental health benefits provided by each country.\n",
    "WC_MH_benefits = data.groupby('M-H benefits?')['Work Country'].value_counts().to_frame()\n",
    "\n",
    "#Reset dataframe index, so that we have 3 columns, and then rename those columns\n",
    "WC_MH_benefits.reset_index(inplace=True)\n",
    "WC_MH_benefits.rename(columns={'level_1':'Work Country', 'Work Country':'Counts'}, inplace=True)\n",
    "\n",
    "#View what this dataframe now looks like.\n",
    "WC_MH_benefits"
   ]
  },
  {
   "cell_type": "code",
   "execution_count": 186,
   "id": "c3584ad8",
   "metadata": {},
   "outputs": [
    {
     "data": {
      "image/png": "[encoded data removed]",
      "text/plain": [
       "<Figure size 432x288 with 1 Axes>"
      ]
     },
     "metadata": {},
     "output_type": "display_data"
    }
   ],
   "source": [
    "sns.barplot(x='M-H benefits?', y='Counts', hue='Work Country', data=WC_MH_benefits , palette='YlOrRd')\n",
    "sns.set(rc={'figure.figsize':(20,12)})"
   ]
  },
  {
   "cell_type": "markdown",
   "id": "bb262a20",
   "metadata": {},
   "source": [
    "With this graph it is important that we don't look at how many individuals in each country have mental health benefits or not, but instead we should focus on the entries where individuals indicated that they do not have Mental Healt benefits as well as the entries where individuals do not know.\n",
    "<br>The employers of these countries should focus on providing these benefits to their employees.\n",
    "<br>I think that countries should force each employer to provide these Mental Health benefits. \n",
    "\n",
    "For future goals, let's hope that we can change the entries from a \"No\" or \"I don't know\" into a definite \"Yes\"."
   ]
  },
  {
   "cell_type": "markdown",
   "id": "86438d37",
   "metadata": {},
   "source": [
    "# Summary\n",
    "\n",
    "- In this notebook we started by importing our necessary libraries and our data.\n",
    "- We then started to do some data processing and cleaning. We dropped the unnecessary columns, renamed the ones we kept and cleaned out our Null values.\n",
    "- We then did some feature engineering. We change our age column to contain 9 categories. This helped is to identify specific age groups at which individuals were to have a mental illness or not.\n",
    "- We then proceded to do some Feature reduction using Label and Ordinal encoders. We then selected the best amount of features based on the chi2 test.\n",
    "- Then we used the K-modes algorithm and grouped our dataset into two different groups.\n",
    "- To find out more abour these groups, we did some visual exploration and concluded with some very interesting findings."
   ]
  },
  {
   "cell_type": "code",
   "execution_count": null,
   "id": "5d5ae422",
   "metadata": {},
   "outputs": [],
   "source": []
  }
 ],
 "metadata": {
  "kernelspec": {
   "display_name": "Python 3 (ipykernel)",
   "language": "python",
   "name": "python3"
  },
  "language_info": {
   "codemirror_mode": {
    "name": "ipython",
    "version": 3
   },
   "file_extension": ".py",
   "mimetype": "text/x-python",
   "name": "python",
   "nbconvert_exporter": "python",
   "pygments_lexer": "ipython3",
   "version": "3.9.7"
  }
 },
 "nbformat": 4,
 "nbformat_minor": 5
}
